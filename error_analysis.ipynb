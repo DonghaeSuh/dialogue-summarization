{
 "cells": [
  {
   "cell_type": "code",
   "execution_count": null,
   "metadata": {},
   "outputs": [],
   "source": [
    "import os\n",
    "import json\n",
    "from src.data import CustomDataset, OriginalDataset\n",
    "from transformers import AutoTokenizer\n",
    "\n",
    "\"\"\"\n",
    "id | 원본 데이터 | 전처리 데이터 | label | 요약문\n",
    "\n",
    "\"\"\"\n",
    "# dev data result 넣기\n",
    "JSON_PATH = \"results/dev_result_preprocess.json\"\n",
    "DEV_DATA_PATH = \"resource/data/일상대화요약_dev.json\"\n",
    "MODEL_ID = \"MLP-KTLim/llama-3-Korean-Bllossom-8B\"\n",
    "\n",
    "with open(JSON_PATH, \"r\") as f:\n",
    "    result_data = json.load(f)"
   ]
  },
  {
   "cell_type": "code",
   "execution_count": null,
   "metadata": {},
   "outputs": [],
   "source": [
    "tokenizer = AutoTokenizer.from_pretrained(MODEL_ID)\n",
    "tokenizer.pad_token = tokenizer.eos_token\n",
    "dataset = OriginalDataset(DEV_DATA_PATH, tokenizer)\n",
    "dataset_preprocessed = CustomDataset(DEV_DATA_PATH, tokenizer)"
   ]
  },
  {
   "cell_type": "code",
   "execution_count": null,
   "metadata": {},
   "outputs": [],
   "source": [
    "dataset # 전처리 데이터 추출"
   ]
  },
  {
   "cell_type": "code",
   "execution_count": null,
   "metadata": {},
   "outputs": [],
   "source": [
    "import pandas as pd\n",
    "import tqdm\n",
    "\n",
    "result_df = pd.DataFrame(columns=['id', 'original', 'preprocessed', 'inference', 'label'])\n",
    "\n",
    "for idx in tqdm.tqdm(range(len(result_data[:5]))):\n",
    "    result_df.loc[len(result_df), 'id'] = result_data[idx]['id']\n",
    "    # 전처리 이전\n",
    "    result_df.loc[len(result_df), 'original'] = dataset[idx]\n",
    "    # 전처리 이후\n",
    "    result_df.loc[len(result_df), 'preprocessed'] = dataset_preprocessed[idx]\n",
    "    result_df.loc[len(result_df), 'inference'] = result_data[idx]['inference']\n",
    "    result_df.loc[len(result_df), 'label'] = result_data[idx]['output']"
   ]
  }
 ],
 "metadata": {
  "language_info": {
   "name": "python"
  }
 },
 "nbformat": 4,
 "nbformat_minor": 2
}
