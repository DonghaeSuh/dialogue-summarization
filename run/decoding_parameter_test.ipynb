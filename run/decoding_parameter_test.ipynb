{
 "cells": [
  {
   "cell_type": "code",
   "execution_count": null,
   "metadata": {},
   "outputs": [],
   "source": [
    "import argparse\n",
    "import json\n",
    "import tqdm\n",
    "\n",
    "import torch\n",
    "from transformers import AutoTokenizer, AutoModelForCausalLM\n",
    "\n",
    "from src.data import CustomDataset\n",
    "from peft import PeftModel\n",
    "\n",
    "MODEL_ID = \"MODEL_ID\"\n",
    "DEVICE = \"cuda:0\"\n",
    "adapter_checkpoint_path = \"\"\n",
    "tokenizer = None"
   ]
  },
  {
   "cell_type": "code",
   "execution_count": null,
   "metadata": {},
   "outputs": [],
   "source": [
    "# test dataset 중 가장 길이가 긴 것 + 짧은 것 + 중간 값\n",
    "import json\n",
    "import numpy as np\n",
    "\n",
    "utterance_length = []\n",
    "\n",
    "def make_data(data_path):\n",
    "    global utterance_length\n",
    "    with open(data_path, \"r\") as f:\n",
    "        data = json.load(f)\n",
    "\n",
    "    text_list = []\n",
    "    def make_chat(inp):\n",
    "        chat = \"\"\n",
    "        for cvt in inp['conversation']:\n",
    "            chat += cvt['utterance']\n",
    "        return chat\n",
    "\n",
    "    for example in data:\n",
    "        total_chat = make_chat(example['input'])\n",
    "        text_list.append(total_chat)\n",
    "        utterance_length.append(len(total_chat))\n",
    "    \n",
    "    text = ' '.join(text_list)\n",
    "    return text"
   ]
  },
  {
   "cell_type": "code",
   "execution_count": null,
   "metadata": {},
   "outputs": [],
   "source": [
    "utterance_length = []\n",
    "make_data(\"/mnt/c/Users/hwyew/Downloads/korean_dialogue/korean_dialog/resource/data/test.json\")"
   ]
  },
  {
   "cell_type": "code",
   "execution_count": null,
   "metadata": {},
   "outputs": [],
   "source": [
    "utterance_length.index(max(utterance_length))"
   ]
  },
  {
   "cell_type": "code",
   "execution_count": null,
   "metadata": {},
   "outputs": [],
   "source": [
    "utterance_length.index(min(utterance_length))"
   ]
  },
  {
   "cell_type": "code",
   "execution_count": null,
   "metadata": {},
   "outputs": [],
   "source": [
    "utterance_length.index(round(utterance_length.mean(), 1))"
   ]
  },
  {
   "cell_type": "code",
   "execution_count": null,
   "metadata": {},
   "outputs": [],
   "source": [
    "test_index = [utterance_length.index(min(utterance_length)), utterance_length.index(round(utterance_length.mean(), 1)), utterance_length.index(max(utterance_length))]"
   ]
  },
  {
   "cell_type": "code",
   "execution_count": null,
   "metadata": {},
   "outputs": [],
   "source": [
    "model = AutoModelForCausalLM.from_pretrained(\n",
    "        MODEL_ID,\n",
    "        torch_dtype=torch.bfloat16,\n",
    "        device_map=DEVICE,\n",
    "        low_cpu_mem_usage=True\n",
    ")\n",
    "\n",
    "model = PeftModel.from_pretrained(model, adapter_checkpoint_path)\n",
    "model = model.merge_and_unload()\n",
    "model.to(dtype = torch.bfloat16)\n",
    "model.eval()\n",
    "\n",
    "if tokenizer == None:\n",
    "        tokenizer = MODEL_ID\n",
    "    \n",
    "tokenizer = AutoTokenizer.from_pretrained(tokenizer)\n",
    "tokenizer.pad_token = tokenizer.eos_token\n",
    "terminators = [\n",
    "        tokenizer.eos_token_id,\n",
    "        tokenizer.convert_tokens_to_ids(\"<|eot_id|>\")\n",
    "]\n",
    "\n",
    "dataset = CustomDataset(\"resource/data/일상대화요약_test.json\", tokenizer)\n",
    "dataset = dataset.loc[test_index]"
   ]
  },
  {
   "cell_type": "code",
   "execution_count": null,
   "metadata": {},
   "outputs": [],
   "source": [
    "with open(\"resource/data/일상대화요약_test.json\", \"r\") as f:\n",
    "    result = json.load(f)"
   ]
  },
  {
   "cell_type": "code",
   "execution_count": null,
   "metadata": {},
   "outputs": [],
   "source": [
    "top_p = 0.95; top_k = 50; temperature = 1"
   ]
  },
  {
   "cell_type": "code",
   "execution_count": null,
   "metadata": {},
   "outputs": [],
   "source": [
    "for idx in tqdm.tqdm(range(len(dataset))):\n",
    "    inp = dataset[idx]\n",
    "    outputs = model.generate(\n",
    "        inp.to(DEVICE).unsqueeze(0),\n",
    "        max_new_tokens=1024,\n",
    "        eos_token_id=terminators,\n",
    "        pad_token_id=tokenizer.eos_token_id,\n",
    "        do_sample=True,\n",
    "        top_p = top_p,\n",
    "        top_k = top_k,\n",
    "        temperature = temperature\n",
    "    )\n",
    "    result[idx][\"input\"] = dataset[idx]\n",
    "    result[idx][\"output\"] = tokenizer.decode(outputs[0][inp.shape[-1]:], skip_special_tokens=True)\n",
    "\n",
    "with open(f'results/test_top_p_{top_p}_top_k_{top_k}_temperature_{temperature}.json', \"w\", encoding=\"utf-8\") as f:\n",
    "    f.write(json.dumps(result, ensure_ascii=False, indent=4))"
   ]
  }
 ],
 "metadata": {
  "language_info": {
   "name": "python"
  }
 },
 "nbformat": 4,
 "nbformat_minor": 2
}
