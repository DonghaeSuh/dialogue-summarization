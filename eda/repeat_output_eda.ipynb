{
 "cells": [
  {
   "cell_type": "markdown",
   "metadata": {},
   "source": [
    "# 반복 단어, 문장 1개로 통일"
   ]
  },
  {
   "cell_type": "code",
   "execution_count": 73,
   "metadata": {},
   "outputs": [
    {
     "name": "stdout",
     "output_type": "stream",
     "text": [
      "Collecting rouge\n",
      "  Obtaining dependency information for rouge from https://files.pythonhosted.org/packages/32/7c/650ae86f92460e9e8ef969cc5008b24798dcf56a9a8947d04c78f550b3f5/rouge-1.0.1-py3-none-any.whl.metadata\n",
      "  Downloading rouge-1.0.1-py3-none-any.whl.metadata (4.1 kB)\n",
      "Requirement already satisfied: six in c:\\users\\user\\anaconda3\\envs\\nlp1\\lib\\site-packages (from rouge) (1.16.0)\n",
      "Downloading rouge-1.0.1-py3-none-any.whl (13 kB)\n",
      "Installing collected packages: rouge\n",
      "Successfully installed rouge-1.0.1\n"
     ]
    }
   ],
   "source": [
    "!pip install rouge"
   ]
  },
  {
   "cell_type": "code",
   "execution_count": 1,
   "metadata": {},
   "outputs": [],
   "source": [
    "import pandas as pd\n",
    "import json\n",
    "import matplotlib.pyplot as plt\n",
    "import seaborn as sns\n",
    "import re\n",
    "from copy import deepcopy\n",
    "import warnings\n",
    "warnings.filterwarnings(\"ignore\", category=pd.errors.SettingWithCopyWarning)\n",
    "import rouge"
   ]
  },
  {
   "cell_type": "code",
   "execution_count": 2,
   "metadata": {},
   "outputs": [],
   "source": [
    "def make_dataframe(path: str) -> pd.DataFrame:\n",
    "    \"\"\"\n",
    "    Read a json file and return a pandas DataFrame.\n",
    "\n",
    "    Parameters:\n",
    "    path (str): Path to the json file.\n",
    "\n",
    "    Returns:\n",
    "    pd.DataFrame: DataFrame of the json file.\n",
    "    \"\"\"\n",
    "    # Read the json file\n",
    "    with open(path, 'r') as file:\n",
    "        data = json.load(file)\n",
    "\n",
    "    # Create a DataFrame\n",
    "    # columns = ['id', 'conversation', 'subject_keyword', 'output']\n",
    "    df = pd.DataFrame(data)\n",
    "    df['conversation'] = df['input'].apply(lambda x: x['conversation'])\n",
    "    df['subject_keyword'] = df['input'].apply(lambda x: x['subject_keyword'])\n",
    "\n",
    "    # Drop the 'input' column\n",
    "    df.drop('input', axis=1, inplace=True)\n",
    "\n",
    "    # Speakers in the conversation\n",
    "    df['speakers'] = df['conversation'].apply(lambda turns: list(set(turn['speaker'] for turn in turns)))\n",
    "\n",
    "    # Reorder the columns\n",
    "    df = df[['id', 'conversation', 'subject_keyword', 'speakers', 'output']]\n",
    "\n",
    "    return df"
   ]
  },
  {
   "cell_type": "code",
   "execution_count": 3,
   "metadata": {},
   "outputs": [],
   "source": [
    "train_df = make_dataframe('../resource/data/일상대화요약_train.json')\n",
    "dev_df = make_dataframe('../resource/data/일상대화요약_dev.json')\n",
    "test_df = make_dataframe('../resource/data/일상대화요약_test.json')\n",
    "filtered_train_df = make_dataframe('./train.json')\n",
    "filtered_dev_df = make_dataframe('./dev.json')\n",
    "filtered_test_df = make_dataframe('./test.json')"
   ]
  },
  {
   "cell_type": "code",
   "execution_count": 4,
   "metadata": {},
   "outputs": [
    {
     "data": {
      "text/html": [
       "<div>\n",
       "<style scoped>\n",
       "    .dataframe tbody tr th:only-of-type {\n",
       "        vertical-align: middle;\n",
       "    }\n",
       "\n",
       "    .dataframe tbody tr th {\n",
       "        vertical-align: top;\n",
       "    }\n",
       "\n",
       "    .dataframe thead th {\n",
       "        text-align: right;\n",
       "    }\n",
       "</style>\n",
       "<table border=\"1\" class=\"dataframe\">\n",
       "  <thead>\n",
       "    <tr style=\"text-align: right;\">\n",
       "      <th></th>\n",
       "      <th>id</th>\n",
       "      <th>conversation</th>\n",
       "      <th>subject_keyword</th>\n",
       "      <th>speakers</th>\n",
       "      <th>output</th>\n",
       "    </tr>\n",
       "  </thead>\n",
       "  <tbody>\n",
       "    <tr>\n",
       "      <th>0</th>\n",
       "      <td>nikluge-2024-일상 대화 요약-train-000001</td>\n",
       "      <td>[{'speaker': 'SD2000001', 'utterance': '저는 여행 ...</td>\n",
       "      <td>[해외여행]</td>\n",
       "      <td>[SD2000001, SD2000002]</td>\n",
       "      <td>이 대화에서 화자들은 좋았던 여행지와 기억나는 주요 명소에 대해 이야기했습니다. S...</td>\n",
       "    </tr>\n",
       "    <tr>\n",
       "      <th>1</th>\n",
       "      <td>nikluge-2024-일상 대화 요약-train-000002</td>\n",
       "      <td>[{'speaker': 'SD2000002', 'utterance': '여행 다닐 ...</td>\n",
       "      <td>[여행 스타일, 숙소, 음식]</td>\n",
       "      <td>[SD2000002, SD2000001]</td>\n",
       "      <td>이 대화에서 화자들은 쇼핑하기, 숙소, 음식 등 각자 선호하는 여행 스타일에 대해 ...</td>\n",
       "    </tr>\n",
       "    <tr>\n",
       "      <th>2</th>\n",
       "      <td>nikluge-2024-일상 대화 요약-train-000003</td>\n",
       "      <td>[{'speaker': 'SD2000001', 'utterance': '어~ 그래서...</td>\n",
       "      <td>[여행지, 일화]</td>\n",
       "      <td>[SD2000001, SD2000002]</td>\n",
       "      <td>이 대화에서 화자들은 기억에 남는 여행지와 일화에 대해 이야기했습니다. SD2000...</td>\n",
       "    </tr>\n",
       "    <tr>\n",
       "      <th>3</th>\n",
       "      <td>nikluge-2024-일상 대화 요약-train-000004</td>\n",
       "      <td>[{'speaker': 'SD2000005', 'utterance': 'name1 ...</td>\n",
       "      <td>[음식, 선호, 길거리 음식, 싫어하는 음식]</td>\n",
       "      <td>[SD2000005, SD2000006]</td>\n",
       "      <td>두 화자는 이 대화에서 좋아하는 음식과 싫어하는 음식에 대해 말했습니다. SD200...</td>\n",
       "    </tr>\n",
       "    <tr>\n",
       "      <th>4</th>\n",
       "      <td>nikluge-2024-일상 대화 요약-train-000005</td>\n",
       "      <td>[{'speaker': 'SD2000006', 'utterance': '그러면 na...</td>\n",
       "      <td>[다이어트 식품, 마실것]</td>\n",
       "      <td>[SD2000005, SD2000006]</td>\n",
       "      <td>두 화자는 이 대화에서 다이어트 식품과 좋아하는 음료에 대해 이야기했습니다. SD2...</td>\n",
       "    </tr>\n",
       "    <tr>\n",
       "      <th>...</th>\n",
       "      <td>...</td>\n",
       "      <td>...</td>\n",
       "      <td>...</td>\n",
       "      <td>...</td>\n",
       "      <td>...</td>\n",
       "    </tr>\n",
       "    <tr>\n",
       "      <th>501</th>\n",
       "      <td>nikluge-2024-일상 대화 요약-train-000502</td>\n",
       "      <td>[{'speaker': 'SD2100596', 'utterance': '그 comp...</td>\n",
       "      <td>[company-name5]</td>\n",
       "      <td>[SD2100596, SD2100595]</td>\n",
       "      <td>두 화자는 이 대화에서 유명 유튜버의 식당 추천과 음식 장사의 성공 요인에 대해서 ...</td>\n",
       "    </tr>\n",
       "    <tr>\n",
       "      <th>502</th>\n",
       "      <td>nikluge-2024-일상 대화 요약-train-000503</td>\n",
       "      <td>[{'speaker': 'SD2100598', 'utterance': '나 이번 달...</td>\n",
       "      <td>[행복 주택]</td>\n",
       "      <td>[SD2100598, SD2100597]</td>\n",
       "      <td>이 대화에서 화자들은 주택 마련 방법과 고충에 대해서 이야기했습니다. SD21005...</td>\n",
       "    </tr>\n",
       "    <tr>\n",
       "      <th>503</th>\n",
       "      <td>nikluge-2024-일상 대화 요약-train-000504</td>\n",
       "      <td>[{'speaker': 'SD2100598', 'utterance': '저는 지금 ...</td>\n",
       "      <td>[수익]</td>\n",
       "      <td>[SD2100598, SD2100597]</td>\n",
       "      <td>이 대화에서 화자들은 현재 소득에서 수익 창출 방법에 대해 이야기 했습니다. SD2...</td>\n",
       "    </tr>\n",
       "    <tr>\n",
       "      <th>504</th>\n",
       "      <td>nikluge-2024-일상 대화 요약-train-000505</td>\n",
       "      <td>[{'speaker': 'SD2100599', 'utterance': '동네에 맛있...</td>\n",
       "      <td>[점심]</td>\n",
       "      <td>[SD2100599, SD2100600]</td>\n",
       "      <td>이 대화에서 화자들은 좋아하는 치킨 브랜드와 어제 저녁 먹은 음식과 점심으로 먹은 ...</td>\n",
       "    </tr>\n",
       "    <tr>\n",
       "      <th>505</th>\n",
       "      <td>nikluge-2024-일상 대화 요약-train-000506</td>\n",
       "      <td>[{'speaker': 'SD2100600', 'utterance': '집 근처에 ...</td>\n",
       "      <td>[맛집]</td>\n",
       "      <td>[SD2100599, SD2100600]</td>\n",
       "      <td>이 대화에서 화자들은 맛집 소개 및 추천에 대해서 이야기했습니다. SD2100600...</td>\n",
       "    </tr>\n",
       "  </tbody>\n",
       "</table>\n",
       "<p>506 rows × 5 columns</p>\n",
       "</div>"
      ],
      "text/plain": [
       "                                     id  \\\n",
       "0    nikluge-2024-일상 대화 요약-train-000001   \n",
       "1    nikluge-2024-일상 대화 요약-train-000002   \n",
       "2    nikluge-2024-일상 대화 요약-train-000003   \n",
       "3    nikluge-2024-일상 대화 요약-train-000004   \n",
       "4    nikluge-2024-일상 대화 요약-train-000005   \n",
       "..                                  ...   \n",
       "501  nikluge-2024-일상 대화 요약-train-000502   \n",
       "502  nikluge-2024-일상 대화 요약-train-000503   \n",
       "503  nikluge-2024-일상 대화 요약-train-000504   \n",
       "504  nikluge-2024-일상 대화 요약-train-000505   \n",
       "505  nikluge-2024-일상 대화 요약-train-000506   \n",
       "\n",
       "                                          conversation  \\\n",
       "0    [{'speaker': 'SD2000001', 'utterance': '저는 여행 ...   \n",
       "1    [{'speaker': 'SD2000002', 'utterance': '여행 다닐 ...   \n",
       "2    [{'speaker': 'SD2000001', 'utterance': '어~ 그래서...   \n",
       "3    [{'speaker': 'SD2000005', 'utterance': 'name1 ...   \n",
       "4    [{'speaker': 'SD2000006', 'utterance': '그러면 na...   \n",
       "..                                                 ...   \n",
       "501  [{'speaker': 'SD2100596', 'utterance': '그 comp...   \n",
       "502  [{'speaker': 'SD2100598', 'utterance': '나 이번 달...   \n",
       "503  [{'speaker': 'SD2100598', 'utterance': '저는 지금 ...   \n",
       "504  [{'speaker': 'SD2100599', 'utterance': '동네에 맛있...   \n",
       "505  [{'speaker': 'SD2100600', 'utterance': '집 근처에 ...   \n",
       "\n",
       "               subject_keyword                speakers  \\\n",
       "0                       [해외여행]  [SD2000001, SD2000002]   \n",
       "1             [여행 스타일, 숙소, 음식]  [SD2000002, SD2000001]   \n",
       "2                    [여행지, 일화]  [SD2000001, SD2000002]   \n",
       "3    [음식, 선호, 길거리 음식, 싫어하는 음식]  [SD2000005, SD2000006]   \n",
       "4               [다이어트 식품, 마실것]  [SD2000005, SD2000006]   \n",
       "..                         ...                     ...   \n",
       "501            [company-name5]  [SD2100596, SD2100595]   \n",
       "502                    [행복 주택]  [SD2100598, SD2100597]   \n",
       "503                       [수익]  [SD2100598, SD2100597]   \n",
       "504                       [점심]  [SD2100599, SD2100600]   \n",
       "505                       [맛집]  [SD2100599, SD2100600]   \n",
       "\n",
       "                                                output  \n",
       "0    이 대화에서 화자들은 좋았던 여행지와 기억나는 주요 명소에 대해 이야기했습니다. S...  \n",
       "1    이 대화에서 화자들은 쇼핑하기, 숙소, 음식 등 각자 선호하는 여행 스타일에 대해 ...  \n",
       "2    이 대화에서 화자들은 기억에 남는 여행지와 일화에 대해 이야기했습니다. SD2000...  \n",
       "3    두 화자는 이 대화에서 좋아하는 음식과 싫어하는 음식에 대해 말했습니다. SD200...  \n",
       "4    두 화자는 이 대화에서 다이어트 식품과 좋아하는 음료에 대해 이야기했습니다. SD2...  \n",
       "..                                                 ...  \n",
       "501  두 화자는 이 대화에서 유명 유튜버의 식당 추천과 음식 장사의 성공 요인에 대해서 ...  \n",
       "502  이 대화에서 화자들은 주택 마련 방법과 고충에 대해서 이야기했습니다. SD21005...  \n",
       "503  이 대화에서 화자들은 현재 소득에서 수익 창출 방법에 대해 이야기 했습니다. SD2...  \n",
       "504  이 대화에서 화자들은 좋아하는 치킨 브랜드와 어제 저녁 먹은 음식과 점심으로 먹은 ...  \n",
       "505  이 대화에서 화자들은 맛집 소개 및 추천에 대해서 이야기했습니다. SD2100600...  \n",
       "\n",
       "[506 rows x 5 columns]"
      ]
     },
     "execution_count": 4,
     "metadata": {},
     "output_type": "execute_result"
    }
   ],
   "source": [
    "train_df"
   ]
  },
  {
   "cell_type": "code",
   "execution_count": 5,
   "metadata": {},
   "outputs": [],
   "source": [
    "cosmos = make_dataframe('../results/cosmos.json')"
   ]
  },
  {
   "cell_type": "markdown",
   "metadata": {},
   "source": [
    "## output 내의 반복되는 단어"
   ]
  },
  {
   "cell_type": "code",
   "execution_count": 8,
   "metadata": {},
   "outputs": [],
   "source": [
    "# output 내에 '\\b([가-힣a-zA-Z0-9_]+)\\s+\\1\\b'를 만족하는 부분이 있는지 확인하고 있다면 set에 추가하고 마지막에 return하는 함수\n",
    "\n",
    "def find_repeated_words(df: pd.DataFrame, pattern) -> set:\n",
    "    \"\"\"\n",
    "    Find repeated words in the 'output' column of the DataFrame.\n",
    "\n",
    "    Parameters:\n",
    "    df (pd.DataFrame): DataFrame to search for repeated words.\n",
    "    pattern (str): Pattern to search for.\n",
    "\n",
    "    Returns:\n",
    "    set: Set of repeated words.\n",
    "    \"\"\"\n",
    "    count = 0\n",
    "\n",
    "    repeated_words = set()\n",
    "    for output in df['output']:\n",
    "        matches = re.findall(pattern, output)\n",
    "        repeated_words.update(matches)\n",
    "        count+=len(matches)\n",
    "\n",
    "    print(f\"Total number of repeated words found: {len(repeated_words)}\")\n",
    "    print(f\"Total number of repeated words found: {count}\")\n",
    "\n",
    "    return repeated_words\n"
   ]
  },
  {
   "cell_type": "code",
   "execution_count": 15,
   "metadata": {},
   "outputs": [
    {
     "name": "stdout",
     "output_type": "stream",
     "text": [
      "Total number of repeated words found: 7\n",
      "Total number of repeated words found: 8\n"
     ]
    },
    {
     "data": {
      "text/plain": [
       "{'가도', '그리고', '깜짝', '두루', '좋은', '할머니가', '화자'}"
      ]
     },
     "execution_count": 15,
     "metadata": {},
     "output_type": "execute_result"
    }
   ],
   "source": [
    "repeated_words = find_repeated_words(filtered_train_df, r'\\b(\\w+)\\b(?:\\s+\\1\\b)+')\n",
    "repeated_words"
   ]
  },
  {
   "cell_type": "code",
   "execution_count": 16,
   "metadata": {},
   "outputs": [
    {
     "name": "stdout",
     "output_type": "stream",
     "text": [
      "Total number of repeated words found: 0\n",
      "Total number of repeated words found: 0\n"
     ]
    }
   ],
   "source": [
    "repeated_words = find_repeated_words(filtered_dev_df, r'\\b(\\w+)\\s+\\1\\b')"
   ]
  },
  {
   "cell_type": "markdown",
   "metadata": {},
   "source": [
    "## output 내의 반복되는 문장"
   ]
  },
  {
   "cell_type": "code",
   "execution_count": 6,
   "metadata": {},
   "outputs": [],
   "source": [
    "# output 내의 반복되는 문장 찾기\n",
    "rouge_score = rouge.Rouge().get_scores\n",
    "\n",
    "def find_repeated_sentence(df: pd.DataFrame) -> set:\n",
    "    \"\"\"\n",
    "    Find repeated sentences in the DataFrame.\n",
    "\n",
    "    Parameters:\n",
    "    df (pd.DataFrame): DataFrame of the output.\n",
    "\n",
    "    Returns:\n",
    "    set: Set of repeated sentences.\n",
    "    \"\"\"\n",
    "    cnt = 0\n",
    "    repeated_sentences = set()\n",
    "    for output in df['output']:\n",
    "        for sentence in output.split('.')[:-1]: # 마지막은 빈 문자열이므로 제외\n",
    "            if output.count(sentence) > 1:\n",
    "                repeated_sentences.add(sentence)\n",
    "                cnt+=1\n",
    "\n",
    "    print(f\"Total number of repeated sentences found: {cnt}\")\n",
    "    print(f\"the number of repeated sentences found: {len(repeated_sentences)}\")\n",
    "\n",
    "    return repeated_sentences"
   ]
  },
  {
   "cell_type": "code",
   "execution_count": 7,
   "metadata": {},
   "outputs": [
    {
     "name": "stdout",
     "output_type": "stream",
     "text": [
      "Total number of repeated sentences found: 0\n",
      "the number of repeated sentences found: 0\n"
     ]
    }
   ],
   "source": [
    "repeated_sentences = find_repeated_sentence(filtered_train_df)"
   ]
  },
  {
   "cell_type": "code",
   "execution_count": 8,
   "metadata": {},
   "outputs": [
    {
     "name": "stdout",
     "output_type": "stream",
     "text": [
      "Total number of repeated sentences found: 0\n",
      "the number of repeated sentences found: 0\n"
     ]
    }
   ],
   "source": [
    "repeated_sentences = find_repeated_sentence(filtered_dev_df)"
   ]
  },
  {
   "cell_type": "code",
   "execution_count": 55,
   "metadata": {},
   "outputs": [
    {
     "data": {
      "text/plain": [
       "{'SD2000862는 엔시티의 보스 착장 중 제복 착장이 멤버들의 피지컬 덕분에 좋았고 터프하게 랩을 하는 마크의 모습이 인상깊었다고 말했습니다'}"
      ]
     },
     "execution_count": 55,
     "metadata": {},
     "output_type": "execute_result"
    }
   ],
   "source": [
    "repeated_sentences"
   ]
  },
  {
   "cell_type": "code",
   "execution_count": 10,
   "metadata": {},
   "outputs": [
    {
     "name": "stdout",
     "output_type": "stream",
     "text": [
      "Total number of repeated sentences found: 289\n",
      "the number of repeated sentences found: 43\n"
     ]
    },
    {
     "data": {
      "text/plain": [
       "{' SD2000058은 가족 중에서 가장 건강에 염려스러운 것은 치매라고 말했습니다',\n",
       " ' SD2000059는 가족 중에서 가장 건강에 염려스러운 것은 고혈압이라고 말했습니다',\n",
       " ' SD2000061은 반려동물 경험에 대해 이야기했습니다',\n",
       " ' SD2000174는 1927는 극장에서 보는 것이 좋고, SD2000175는 1917는 롱테이크로 극장에서 보는 것이 좋다고 말했습니다',\n",
       " ' SD2000174는 영화를 보는데 무슨 느낌인지 구체적으로 모르겠는 영화를 별로 좋아하지 않다고 말했습니다',\n",
       " ' SD2000259는 가족은 피로 이어져서도 있고 모든 면이 닮아 있어서 큰 의미가 있다고 말했습니다',\n",
       " ' SD2000260은 가족은 혈연을 넘어서 소중한 사람들로 구성되어 있다고 말했습니다',\n",
       " ' SD2000282는 음식에 대한 선호도에 대해 말했습니다',\n",
       " ' SD2000283는 음식에 대한 선호도에 대해 말했습니다',\n",
       " ' SD2000566은 해외 여행으로는 영국이 기억에 남는다고 말했습니다',\n",
       " ' SD2000567은 국내 여행으로 강원도에서 가장 기억에 남는다고 말했습니다',\n",
       " ' SD2002391은 유아교육과는 싫어서 추천하고 싶지 않다고 말했습니다',\n",
       " ' 가을은 체중이 줄어들고 패션이 좋아서 장점이라고 말했습니다',\n",
       " ' 가족과 함께 가는다면 단양을 추천하고, 친구들과 함께 가는다면 어디든 좋을 것 같다고 말했습니다',\n",
       " ' 가족이 방문하면 반찬을 준비해야 하는데, 가족이 두 명이기 때문에 걱정은 덜 하다고 말했습니다',\n",
       " ' 가족이 방문하면 반찬을 준비해야 하는데, 가족이 방문하면 반찬을 준비해야 하는데, 가족이 두 명이기 때문에 걱정은 덜 하다고 말했습니다',\n",
       " ' 가족이랑 가고 싶은 여행은 부모님이 돌아가시기 전에 꼭 가보고 싶다고 말했습니다',\n",
       " ' 간헐식하고 일주일에 10만보 걷기하고 그래서 지금 제가 몸에 대해서는 제 스스로 그냥 제 나이에 완벽하다고 생각을 하는데 유지를 꾸준히 하는 게 중요하고 이제는 안 먹어서 뺄 순 없잖아요',\n",
       " ' 고등학교는 수능을 위한 공부만을 위해 다니는 느낌이 많이 들었고, 대학교는 자율적으로 선택을 할 수 있는 기회가 많았다고 말했습니다',\n",
       " ' 그래서 간헐식을 했어요',\n",
       " ' 그래서 그러니까 보이지 않는 콤피렉스를 그냥 가리고 다녔었어요',\n",
       " ' 그래서 그렇게 해서 꾸준히 하니까 그리고 점심 저녁은 제가 먹고 싶은 대로 먹고 이러니까 고대로 유지가 되더라고요',\n",
       " ' 그래서 요새는 꼭 단백 계란 두 알씩 꼭 하루에 먹고 대신 아침을 안 먹어요',\n",
       " ' 그래서 임대차 보호법을 개정하여 10년 이상의 보장을 해 주어 상인들이 임대료 인상에 대한 피해를 덜 받을 수 있도록 해야 한다고 말했습니다',\n",
       " ' 그리고 SD2000282는 음식에 대한 선호도에 대해 말했습니다',\n",
       " ' 그리고 가족은 서로에게 힘이 되어 주는 존재로 인생을 살아가는 원동력과 동기부여가 되는 것 같다고 말했습니다',\n",
       " ' 그리고 가족은 없어서는 안 될 존재라고 말했습니다',\n",
       " ' 그리고 닮고 싶은 사람은 아버지라고 말했습니다',\n",
       " ' 그리고 친구에게 선물을 주는 것에 대해 고민을 하다 보니 친구들이 많아지면서 선물도 많이 주어야 할 것 같다고 말했습니다',\n",
       " ' 단점으로는 감기와 추운 날씨가 있다고 했습니다',\n",
       " ' 또 가족 구성원들은 한 명 한 명이 큰 힘이 되는 것 같다고 말했습니다',\n",
       " ' 또 가족 여행을 가보고 싶다고 말하며 가족 여행 추천을 요청했습니다',\n",
       " ' 또 다른 사람에게 생일 선물을 받으면 뭐든 좋다고 생각하지만, 선물이라는 것은 모르게 줘야 하는 것 같아서 고르기 어려운 것 같다고 말했습니다',\n",
       " ' 또 친구에게 선물을 주는 것에 대해 고민을 하다 보니 친구들이 많아지면서 선물도 많이 주어야 할 것 같다고 말했습니다',\n",
       " ' 마지막 장면이 인상에 남았고 영화적으로도 좋았다고 말했습니다',\n",
       " ' 반려견을 키우면서 얻는 정서적인 면이나 가족들의 반려견에 대한 사랑, 아이들이 어렸을 때 사랑을 베풀 수 있는 반려견을 키우면서 남에게도 사랑을 베풀 줄 아는 것을 배우는 것이 좋았다고 말했습니다',\n",
       " ' 스트레스를 많이 받을 때 매운 음식을 찾는다고 말했습니다',\n",
       " ' 아침에 그냥 블랙커피 한 잔 물 1000밀리 먹고 블랙커피 한 잔 먹으면 게 빈속이 아니라고 하더라고요',\n",
       " ' 여름에 땀이 많이 나서 피부가 건조해져서 모기 물리고 간지럽고 갈라지며 피부가 남아날 데가 없어서 여름에 좋은 추억을 가질 수 없었다고 말했습니다',\n",
       " ' 이창동 감독의 영화는 어려워 보지만 상을 받았기 때문에 한번 보았다고 말했습니다',\n",
       " ' 하지만 형은 싸워서 어릴 때는 이사 가는 날에 이불을 뺏어주고 코피가 빵 터지게 때렸는데 이후로 7년 동안 대화를 거의 하지 않았다고 말했습니다',\n",
       " ' 해외 여행으로는 영국이 기억에 남는다고 말했습니다',\n",
       " ' 해외에 갔을 때 여기는 별로 안 가고 싶다'}"
      ]
     },
     "execution_count": 10,
     "metadata": {},
     "output_type": "execute_result"
    }
   ],
   "source": [
    "repeated_sentences = find_repeated_sentence(cosmos)\n",
    "repeated_sentences"
   ]
  },
  {
   "cell_type": "code",
   "execution_count": null,
   "metadata": {},
   "outputs": [],
   "source": []
  },
  {
   "cell_type": "code",
   "execution_count": 71,
   "metadata": {},
   "outputs": [],
   "source": [
    "# output의 맨 마지막이 '.'으로 끝나는지, '. '으로 끝나는지 확인\n",
    "def check_last_character(df: pd.DataFrame) -> None:\n",
    "    \"\"\"\n",
    "    Check if the last character of the 'output' column is '.' or '. '.\n",
    "\n",
    "    Parameters:\n",
    "    df (pd.DataFrame): DataFrame to check.\n",
    "    \"\"\"\n",
    "    end_dot = 0\n",
    "    end_dot_space = 0\n",
    "    another = 0\n",
    "\n",
    "    for output in df['output']:\n",
    "        if output[-1] == '.':\n",
    "            end_dot += 1\n",
    "        elif output[-2:] == '. ':\n",
    "            end_dot_space += 1\n",
    "        else:\n",
    "            another += 1\n",
    "            print(\"another sentence : \",output)\n",
    "        \n",
    "    print(f\"Number of outputs ending with '.': {end_dot}\")\n",
    "    print(f\"Number of outputs ending with '. ': {end_dot_space}\")\n",
    "    print(f\"Number of outputs ending with another character: {another}\")"
   ]
  },
  {
   "cell_type": "code",
   "execution_count": 72,
   "metadata": {},
   "outputs": [
    {
     "name": "stdout",
     "output_type": "stream",
     "text": [
      "another sentence :  두 화자는 이 대화에서 영화 관람 스타일에 대해 말했습니다. SD2001145는 영화관에 가서 신작을 봤으며 알아서 스스로 누르고 애플리케이션으로 들어가서 영화를 보면 되어서 영화관을 자주 이용한다고 말했습니다. 또 한국 영화 위주로 많이 보는데 요즘엔 외국 영화 중심으로 재개봉을 하고 있어 조금 아쉽다고 말했습니다. SD2001146은 코로나 때문에 영화관을 못 가서 신작 영화를 보진 못했고 넷플릭스나 웨이브에서 시청한다고 말했습니다. 집에서 티브이나 휴대폰으로 볼 땐 소리와 화면의 질이 아쉽다고 말했습니다\n",
      "Number of outputs ending with '.': 498\n",
      "Number of outputs ending with '. ': 7\n",
      "Number of outputs ending with another character: 1\n"
     ]
    }
   ],
   "source": [
    "check_last_character(filtered_train_df)"
   ]
  },
  {
   "cell_type": "code",
   "execution_count": 68,
   "metadata": {},
   "outputs": [
    {
     "name": "stdout",
     "output_type": "stream",
     "text": [
      "Number of outputs ending with '.': 100\n",
      "Number of outputs ending with '. ': 2\n",
      "Number of outputs ending with another character: 0\n"
     ]
    }
   ],
   "source": [
    "check_last_character(filtered_dev_df)"
   ]
  },
  {
   "cell_type": "code",
   "execution_count": null,
   "metadata": {},
   "outputs": [],
   "source": []
  }
 ],
 "metadata": {
  "kernelspec": {
   "display_name": "nlp1",
   "language": "python",
   "name": "python3"
  },
  "language_info": {
   "codemirror_mode": {
    "name": "ipython",
    "version": 3
   },
   "file_extension": ".py",
   "mimetype": "text/x-python",
   "name": "python",
   "nbconvert_exporter": "python",
   "pygments_lexer": "ipython3",
   "version": "3.11.4"
  }
 },
 "nbformat": 4,
 "nbformat_minor": 2
}
