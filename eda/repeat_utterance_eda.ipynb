{
 "cells": [
  {
   "cell_type": "markdown",
   "metadata": {},
   "source": [
    "# 반복 단어, 문장 1개로 통일"
   ]
  },
  {
   "cell_type": "code",
   "execution_count": 73,
   "metadata": {},
   "outputs": [
    {
     "name": "stdout",
     "output_type": "stream",
     "text": [
      "Collecting rouge\n",
      "  Obtaining dependency information for rouge from https://files.pythonhosted.org/packages/32/7c/650ae86f92460e9e8ef969cc5008b24798dcf56a9a8947d04c78f550b3f5/rouge-1.0.1-py3-none-any.whl.metadata\n",
      "  Downloading rouge-1.0.1-py3-none-any.whl.metadata (4.1 kB)\n",
      "Requirement already satisfied: six in c:\\users\\user\\anaconda3\\envs\\nlp1\\lib\\site-packages (from rouge) (1.16.0)\n",
      "Downloading rouge-1.0.1-py3-none-any.whl (13 kB)\n",
      "Installing collected packages: rouge\n",
      "Successfully installed rouge-1.0.1\n"
     ]
    }
   ],
   "source": [
    "!pip install rouge"
   ]
  },
  {
   "cell_type": "code",
   "execution_count": 1,
   "metadata": {},
   "outputs": [],
   "source": [
    "import pandas as pd\n",
    "import json\n",
    "import matplotlib.pyplot as plt\n",
    "import seaborn as sns\n",
    "import re\n",
    "from copy import deepcopy\n",
    "import warnings\n",
    "warnings.filterwarnings(\"ignore\", category=pd.errors.SettingWithCopyWarning)\n",
    "import rouge"
   ]
  },
  {
   "cell_type": "code",
   "execution_count": 2,
   "metadata": {},
   "outputs": [],
   "source": [
    "def make_dataframe(path: str) -> pd.DataFrame:\n",
    "    \"\"\"\n",
    "    Read a json file and return a pandas DataFrame.\n",
    "\n",
    "    Parameters:\n",
    "    path (str): Path to the json file.\n",
    "\n",
    "    Returns:\n",
    "    pd.DataFrame: DataFrame of the json file.\n",
    "    \"\"\"\n",
    "    # Read the json file\n",
    "    with open(path, 'r') as file:\n",
    "        data = json.load(file)\n",
    "\n",
    "    # Create a DataFrame\n",
    "    # columns = ['id', 'conversation', 'subject_keyword', 'output']\n",
    "    df = pd.DataFrame(data)\n",
    "    df['conversation'] = df['input'].apply(lambda x: x['conversation'])\n",
    "    df['subject_keyword'] = df['input'].apply(lambda x: x['subject_keyword'])\n",
    "\n",
    "    # Drop the 'input' column\n",
    "    df.drop('input', axis=1, inplace=True)\n",
    "\n",
    "    # Speakers in the conversation\n",
    "    df['speakers'] = df['conversation'].apply(lambda turns: list(set(turn['speaker'] for turn in turns)))\n",
    "\n",
    "    # Reorder the columns\n",
    "    df = df[['id', 'conversation', 'subject_keyword', 'speakers', 'output']]\n",
    "\n",
    "    return df"
   ]
  },
  {
   "cell_type": "code",
   "execution_count": 6,
   "metadata": {},
   "outputs": [],
   "source": [
    "train_df = make_dataframe('../resource/data/일상대화요약_train.json')\n",
    "dev_df = make_dataframe('../resource/data/일상대화요약_dev.json')\n",
    "test_df = make_dataframe('../resource/data/일상대화요약_test.json')\n",
    "filtered_train_df = make_dataframe('./train.json')\n",
    "filtered_dev_df = make_dataframe('./dev.json')\n",
    "filtered_test_df = make_dataframe('./test.json')"
   ]
  },
  {
   "cell_type": "code",
   "execution_count": 4,
   "metadata": {},
   "outputs": [
    {
     "data": {
      "text/html": [
       "<div>\n",
       "<style scoped>\n",
       "    .dataframe tbody tr th:only-of-type {\n",
       "        vertical-align: middle;\n",
       "    }\n",
       "\n",
       "    .dataframe tbody tr th {\n",
       "        vertical-align: top;\n",
       "    }\n",
       "\n",
       "    .dataframe thead th {\n",
       "        text-align: right;\n",
       "    }\n",
       "</style>\n",
       "<table border=\"1\" class=\"dataframe\">\n",
       "  <thead>\n",
       "    <tr style=\"text-align: right;\">\n",
       "      <th></th>\n",
       "      <th>id</th>\n",
       "      <th>conversation</th>\n",
       "      <th>subject_keyword</th>\n",
       "      <th>speakers</th>\n",
       "      <th>output</th>\n",
       "    </tr>\n",
       "  </thead>\n",
       "  <tbody>\n",
       "    <tr>\n",
       "      <th>0</th>\n",
       "      <td>nikluge-2024-일상 대화 요약-train-000001</td>\n",
       "      <td>[{'speaker': 'SD2000001', 'utterance': '저는 여행 ...</td>\n",
       "      <td>[해외여행]</td>\n",
       "      <td>[SD2000001, SD2000002]</td>\n",
       "      <td>이 대화에서 화자들은 좋았던 여행지와 기억나는 주요 명소에 대해 이야기했습니다. S...</td>\n",
       "    </tr>\n",
       "    <tr>\n",
       "      <th>1</th>\n",
       "      <td>nikluge-2024-일상 대화 요약-train-000002</td>\n",
       "      <td>[{'speaker': 'SD2000002', 'utterance': '여행 다닐 ...</td>\n",
       "      <td>[여행 스타일, 숙소, 음식]</td>\n",
       "      <td>[SD2000001, SD2000002]</td>\n",
       "      <td>이 대화에서 화자들은 쇼핑하기, 숙소, 음식 등 각자 선호하는 여행 스타일에 대해 ...</td>\n",
       "    </tr>\n",
       "    <tr>\n",
       "      <th>2</th>\n",
       "      <td>nikluge-2024-일상 대화 요약-train-000003</td>\n",
       "      <td>[{'speaker': 'SD2000001', 'utterance': '어~ 그래서...</td>\n",
       "      <td>[여행지, 일화]</td>\n",
       "      <td>[SD2000001, SD2000002]</td>\n",
       "      <td>이 대화에서 화자들은 기억에 남는 여행지와 일화에 대해 이야기했습니다. SD2000...</td>\n",
       "    </tr>\n",
       "    <tr>\n",
       "      <th>3</th>\n",
       "      <td>nikluge-2024-일상 대화 요약-train-000004</td>\n",
       "      <td>[{'speaker': 'SD2000005', 'utterance': 'name1 ...</td>\n",
       "      <td>[음식, 선호, 길거리 음식, 싫어하는 음식]</td>\n",
       "      <td>[SD2000006, SD2000005]</td>\n",
       "      <td>두 화자는 이 대화에서 좋아하는 음식과 싫어하는 음식에 대해 말했습니다. SD200...</td>\n",
       "    </tr>\n",
       "    <tr>\n",
       "      <th>4</th>\n",
       "      <td>nikluge-2024-일상 대화 요약-train-000005</td>\n",
       "      <td>[{'speaker': 'SD2000006', 'utterance': '그러면 na...</td>\n",
       "      <td>[다이어트 식품, 마실것]</td>\n",
       "      <td>[SD2000006, SD2000005]</td>\n",
       "      <td>두 화자는 이 대화에서 다이어트 식품과 좋아하는 음료에 대해 이야기했습니다. SD2...</td>\n",
       "    </tr>\n",
       "    <tr>\n",
       "      <th>...</th>\n",
       "      <td>...</td>\n",
       "      <td>...</td>\n",
       "      <td>...</td>\n",
       "      <td>...</td>\n",
       "      <td>...</td>\n",
       "    </tr>\n",
       "    <tr>\n",
       "      <th>501</th>\n",
       "      <td>nikluge-2024-일상 대화 요약-train-000502</td>\n",
       "      <td>[{'speaker': 'SD2100596', 'utterance': '그 comp...</td>\n",
       "      <td>[company-name5]</td>\n",
       "      <td>[SD2100596, SD2100595]</td>\n",
       "      <td>두 화자는 이 대화에서 유명 유튜버의 식당 추천과 음식 장사의 성공 요인에 대해서 ...</td>\n",
       "    </tr>\n",
       "    <tr>\n",
       "      <th>502</th>\n",
       "      <td>nikluge-2024-일상 대화 요약-train-000503</td>\n",
       "      <td>[{'speaker': 'SD2100598', 'utterance': '나 이번 달...</td>\n",
       "      <td>[행복 주택]</td>\n",
       "      <td>[SD2100597, SD2100598]</td>\n",
       "      <td>이 대화에서 화자들은 주택 마련 방법과 고충에 대해서 이야기했습니다. SD21005...</td>\n",
       "    </tr>\n",
       "    <tr>\n",
       "      <th>503</th>\n",
       "      <td>nikluge-2024-일상 대화 요약-train-000504</td>\n",
       "      <td>[{'speaker': 'SD2100598', 'utterance': '저는 지금 ...</td>\n",
       "      <td>[수익]</td>\n",
       "      <td>[SD2100597, SD2100598]</td>\n",
       "      <td>이 대화에서 화자들은 현재 소득에서 수익 창출 방법에 대해 이야기 했습니다. SD2...</td>\n",
       "    </tr>\n",
       "    <tr>\n",
       "      <th>504</th>\n",
       "      <td>nikluge-2024-일상 대화 요약-train-000505</td>\n",
       "      <td>[{'speaker': 'SD2100599', 'utterance': '동네에 맛있...</td>\n",
       "      <td>[점심]</td>\n",
       "      <td>[SD2100600, SD2100599]</td>\n",
       "      <td>이 대화에서 화자들은 좋아하는 치킨 브랜드와 어제 저녁 먹은 음식과 점심으로 먹은 ...</td>\n",
       "    </tr>\n",
       "    <tr>\n",
       "      <th>505</th>\n",
       "      <td>nikluge-2024-일상 대화 요약-train-000506</td>\n",
       "      <td>[{'speaker': 'SD2100600', 'utterance': '집 근처에 ...</td>\n",
       "      <td>[맛집]</td>\n",
       "      <td>[SD2100600, SD2100599]</td>\n",
       "      <td>이 대화에서 화자들은 맛집 소개 및 추천에 대해서 이야기했습니다. SD2100600...</td>\n",
       "    </tr>\n",
       "  </tbody>\n",
       "</table>\n",
       "<p>506 rows × 5 columns</p>\n",
       "</div>"
      ],
      "text/plain": [
       "                                     id  \\\n",
       "0    nikluge-2024-일상 대화 요약-train-000001   \n",
       "1    nikluge-2024-일상 대화 요약-train-000002   \n",
       "2    nikluge-2024-일상 대화 요약-train-000003   \n",
       "3    nikluge-2024-일상 대화 요약-train-000004   \n",
       "4    nikluge-2024-일상 대화 요약-train-000005   \n",
       "..                                  ...   \n",
       "501  nikluge-2024-일상 대화 요약-train-000502   \n",
       "502  nikluge-2024-일상 대화 요약-train-000503   \n",
       "503  nikluge-2024-일상 대화 요약-train-000504   \n",
       "504  nikluge-2024-일상 대화 요약-train-000505   \n",
       "505  nikluge-2024-일상 대화 요약-train-000506   \n",
       "\n",
       "                                          conversation  \\\n",
       "0    [{'speaker': 'SD2000001', 'utterance': '저는 여행 ...   \n",
       "1    [{'speaker': 'SD2000002', 'utterance': '여행 다닐 ...   \n",
       "2    [{'speaker': 'SD2000001', 'utterance': '어~ 그래서...   \n",
       "3    [{'speaker': 'SD2000005', 'utterance': 'name1 ...   \n",
       "4    [{'speaker': 'SD2000006', 'utterance': '그러면 na...   \n",
       "..                                                 ...   \n",
       "501  [{'speaker': 'SD2100596', 'utterance': '그 comp...   \n",
       "502  [{'speaker': 'SD2100598', 'utterance': '나 이번 달...   \n",
       "503  [{'speaker': 'SD2100598', 'utterance': '저는 지금 ...   \n",
       "504  [{'speaker': 'SD2100599', 'utterance': '동네에 맛있...   \n",
       "505  [{'speaker': 'SD2100600', 'utterance': '집 근처에 ...   \n",
       "\n",
       "               subject_keyword                speakers  \\\n",
       "0                       [해외여행]  [SD2000001, SD2000002]   \n",
       "1             [여행 스타일, 숙소, 음식]  [SD2000001, SD2000002]   \n",
       "2                    [여행지, 일화]  [SD2000001, SD2000002]   \n",
       "3    [음식, 선호, 길거리 음식, 싫어하는 음식]  [SD2000006, SD2000005]   \n",
       "4               [다이어트 식품, 마실것]  [SD2000006, SD2000005]   \n",
       "..                         ...                     ...   \n",
       "501            [company-name5]  [SD2100596, SD2100595]   \n",
       "502                    [행복 주택]  [SD2100597, SD2100598]   \n",
       "503                       [수익]  [SD2100597, SD2100598]   \n",
       "504                       [점심]  [SD2100600, SD2100599]   \n",
       "505                       [맛집]  [SD2100600, SD2100599]   \n",
       "\n",
       "                                                output  \n",
       "0    이 대화에서 화자들은 좋았던 여행지와 기억나는 주요 명소에 대해 이야기했습니다. S...  \n",
       "1    이 대화에서 화자들은 쇼핑하기, 숙소, 음식 등 각자 선호하는 여행 스타일에 대해 ...  \n",
       "2    이 대화에서 화자들은 기억에 남는 여행지와 일화에 대해 이야기했습니다. SD2000...  \n",
       "3    두 화자는 이 대화에서 좋아하는 음식과 싫어하는 음식에 대해 말했습니다. SD200...  \n",
       "4    두 화자는 이 대화에서 다이어트 식품과 좋아하는 음료에 대해 이야기했습니다. SD2...  \n",
       "..                                                 ...  \n",
       "501  두 화자는 이 대화에서 유명 유튜버의 식당 추천과 음식 장사의 성공 요인에 대해서 ...  \n",
       "502  이 대화에서 화자들은 주택 마련 방법과 고충에 대해서 이야기했습니다. SD21005...  \n",
       "503  이 대화에서 화자들은 현재 소득에서 수익 창출 방법에 대해 이야기 했습니다. SD2...  \n",
       "504  이 대화에서 화자들은 좋아하는 치킨 브랜드와 어제 저녁 먹은 음식과 점심으로 먹은 ...  \n",
       "505  이 대화에서 화자들은 맛집 소개 및 추천에 대해서 이야기했습니다. SD2100600...  \n",
       "\n",
       "[506 rows x 5 columns]"
      ]
     },
     "execution_count": 4,
     "metadata": {},
     "output_type": "execute_result"
    }
   ],
   "source": [
    "train_df"
   ]
  },
  {
   "cell_type": "code",
   "execution_count": 5,
   "metadata": {},
   "outputs": [],
   "source": [
    "# utterance 내에 '\\b([가-힣a-zA-Z0-9_]+)\\s+\\1\\b'를 만족하는 부분이 있는지 확인하고 있다면 set에 추가하고 마지막에 return하는 함수\n",
    "\n",
    "def find_repeated_words(df: pd.DataFrame, pattern) -> set:\n",
    "    \"\"\"\n",
    "    Find repeated words in the utterances of the DataFrame.\n",
    "\n",
    "    Parameters:\n",
    "    df (pd.DataFrame): DataFrame of the conversations.\n",
    "\n",
    "    Returns:\n",
    "    set: Set of repeated words.\n",
    "    \"\"\"\n",
    "    # Set to store the repeated words\n",
    "    repeated_words = set()\n",
    "    count = 0\n",
    "\n",
    "    # Iterate over the DataFrame\n",
    "    for idx, row in df.iterrows():\n",
    "        # Extract the conversation\n",
    "        conversation = row['conversation']\n",
    "\n",
    "        # Iterate over the turns\n",
    "        for turn in conversation:\n",
    "            # Extract the utterance\n",
    "            utterance = turn['utterance']\n",
    "\n",
    "            # Find all repeated words\n",
    "            matches = re.findall(pattern, utterance)\n",
    "\n",
    "            # Add the repeated words to the set\n",
    "            repeated_words.update(matches)\n",
    "\n",
    "            count+=len(matches)\n",
    "\n",
    "    print(f\"Total number of repeated words found: {len(repeated_words)}\")\n",
    "    print(f\"Total number of repeated words found: {count}\")\n",
    "\n",
    "    return repeated_words"
   ]
  },
  {
   "cell_type": "code",
   "execution_count": 43,
   "metadata": {},
   "outputs": [
    {
     "name": "stdout",
     "output_type": "stream",
     "text": [
      "prev : 우리는 청팀 백팀이었거든? 그래가지고 그냥 1반 1반 청팀 2반 백팀 해서 그냥 운동회 체육 대회라기보다 운동회 느낌으로 했어.\n",
      "post : 우리는 청팀 백팀이었거든? 그래가지고 그냥 1반 청팀 2반 백팀 해서 그냥 운동회 체육 대회라기보다 운동회 느낌으로 했어.\n"
     ]
    }
   ],
   "source": [
    "a= \"우리는 청팀 백팀이었거든? 그래가지고 그냥 1반 1반 1반 청팀 2반 백팀 해서 그냥 운동회 체육 대회라기보다 운동회 느낌으로 했어.\"\n",
    "prev = re.sub(r'\\b([가-힣a-zA-Z0-9_]+)\\s+\\1\\b', r'\\1', a)\n",
    "post = re.sub(r'\\b(\\w+)\\b(?:\\s+\\1\\b)+', r'\\1', a)\n",
    "print('prev :',prev)\n",
    "print('post :',post)"
   ]
  },
  {
   "cell_type": "code",
   "execution_count": 29,
   "metadata": {},
   "outputs": [
    {
     "name": "stdout",
     "output_type": "stream",
     "text": [
      "Total number of repeated words found: 567\n",
      "Total number of repeated words found: 1224\n"
     ]
    }
   ],
   "source": [
    "repeated_words2 = find_repeated_words(train_df, r'\\b(\\w+)\\s+\\1\\b')"
   ]
  },
  {
   "cell_type": "code",
   "execution_count": 17,
   "metadata": {},
   "outputs": [
    {
     "name": "stdout",
     "output_type": "stream",
     "text": [
      "Total number of repeated words found: 121\n",
      "Total number of repeated words found: 163\n"
     ]
    }
   ],
   "source": [
    "repeated_words = find_repeated_words(dev_df, r'\\b(\\w+)\\b(?:\\s+\\1\\b)+')"
   ]
  },
  {
   "cell_type": "code",
   "execution_count": 39,
   "metadata": {},
   "outputs": [
    {
     "name": "stdout",
     "output_type": "stream",
     "text": [
      "Total number of repeated words found: 567\n",
      "Total number of repeated words found: 1224\n"
     ]
    }
   ],
   "source": [
    "repeated_words = find_repeated_words(train_df, r'\\b([가-힣a-zA-Z0-9_]+)\\s+\\1\\b')"
   ]
  },
  {
   "cell_type": "code",
   "execution_count": 10,
   "metadata": {},
   "outputs": [
    {
     "name": "stdout",
     "output_type": "stream",
     "text": [
      "Total number of repeated words found: 27\n",
      "Total number of repeated words found: 28\n"
     ]
    },
    {
     "data": {
      "text/plain": [
       "{'1반',\n",
       " '600그램에',\n",
       " '걱정이',\n",
       " '그냥',\n",
       " '그런',\n",
       " '돌고',\n",
       " '둘',\n",
       " '메꿔주고',\n",
       " '세',\n",
       " '아니',\n",
       " '아니야',\n",
       " '야',\n",
       " '약간',\n",
       " '예',\n",
       " '오아후',\n",
       " '이거',\n",
       " '이런',\n",
       " '이렇게',\n",
       " '자기',\n",
       " '자꾸',\n",
       " '정말',\n",
       " '조금',\n",
       " '주',\n",
       " '풍미',\n",
       " '한',\n",
       " '헉',\n",
       " '홍대'}"
      ]
     },
     "execution_count": 10,
     "metadata": {},
     "output_type": "execute_result"
    }
   ],
   "source": [
    "repeated_words = find_repeated_words(filtered_train_df, r'\\b([가-힣a-zA-Z0-9_]+)\\s+\\1\\b')\n",
    "repeated_words"
   ]
  },
  {
   "cell_type": "code",
   "execution_count": 11,
   "metadata": {},
   "outputs": [
    {
     "name": "stdout",
     "output_type": "stream",
     "text": [
      "Total number of repeated words found: 4\n",
      "Total number of repeated words found: 4\n"
     ]
    },
    {
     "data": {
      "text/plain": [
       "{'그냥', '되게', '쪼금씩', '툭'}"
      ]
     },
     "execution_count": 11,
     "metadata": {},
     "output_type": "execute_result"
    }
   ],
   "source": [
    "repeated_words = find_repeated_words(filtered_dev_df, r'\\b([가-힣a-zA-Z0-9_]+)\\s+\\1\\b')\n",
    "repeated_words"
   ]
  },
  {
   "cell_type": "code",
   "execution_count": 12,
   "metadata": {},
   "outputs": [
    {
     "name": "stdout",
     "output_type": "stream",
     "text": [
      "Total number of repeated words found: 15\n",
      "Total number of repeated words found: 17\n"
     ]
    },
    {
     "data": {
      "text/plain": [
       "{'골',\n",
       " '그런',\n",
       " '되게',\n",
       " '바라고',\n",
       " '아이',\n",
       " '어디',\n",
       " '여기',\n",
       " '잠',\n",
       " '제가',\n",
       " '종이',\n",
       " '진짜',\n",
       " '최고',\n",
       " '툭',\n",
       " '한',\n",
       " '항상'}"
      ]
     },
     "execution_count": 12,
     "metadata": {},
     "output_type": "execute_result"
    }
   ],
   "source": [
    "repeated_words = find_repeated_words(filtered_test_df, r'\\b([가-힣a-zA-Z0-9_]+)\\s+\\1\\b')\n",
    "repeated_words"
   ]
  },
  {
   "cell_type": "code",
   "execution_count": 4,
   "metadata": {},
   "outputs": [],
   "source": [
    "a = \"어~ 슈퍼맨이 돌아왔다랑 아빠 어디가 왜 좋아해?\"\n",
    "b = \"왜 좋아해?\""
   ]
  },
  {
   "cell_type": "code",
   "execution_count": 5,
   "metadata": {},
   "outputs": [
    {
     "data": {
      "text/plain": [
       "True"
      ]
     },
     "execution_count": 5,
     "metadata": {},
     "output_type": "execute_result"
    }
   ],
   "source": [
    "b in a"
   ]
  },
  {
   "cell_type": "code",
   "execution_count": 134,
   "metadata": {},
   "outputs": [],
   "source": [
    "rouge_score = rouge.Rouge().get_scores\n",
    "\n",
    "def find_repeated_sentence(df: pd.DataFrame) -> set:\n",
    "    \"\"\"\n",
    "    Find repeated sentences in the DataFrame.\n",
    "\n",
    "    Parameters:\n",
    "    df (pd.DataFrame): DataFrame of the conversations.\n",
    "\n",
    "    Returns:\n",
    "    set: Set of repeated sentences.\n",
    "    \"\"\"\n",
    "    # Set to store the repeated sentences\n",
    "    repeated_sentences = set()\n",
    "    count = 0\n",
    "\n",
    "    # Iterate over the DataFrame\n",
    "    for idx, row in df.iterrows():\n",
    "        # Extract the conversation\n",
    "        conversation = row['conversation']\n",
    "\n",
    "        # Iterate over the turns\n",
    "        for i, turn in enumerate(conversation):\n",
    "            # Extract the utterance\n",
    "            utterance = turn['utterance']\n",
    "\n",
    "            if i != 0:\n",
    "                prev_speaker = conversation[i-1]['speaker']\n",
    "                prev_utterance = conversation[i-1]['utterance']\n",
    "\n",
    "                utterance, prev_utterance = utterance.split('.')[0].strip(), prev_utterance.split('.')[-1].strip()\n",
    "                if prev_speaker == turn['speaker']:\n",
    "                    # Check if last sentence of the previous utterance is the same as first sentence of the current utterance\n",
    "                    # if utterance.split('.')[0] in prev_utterance.split('.')[-1]:\n",
    "                    # if utterance in prev_utterance:\n",
    "                    if prev_utterance in (\".\",\"\") or utterance in (\".\",\"\"):\n",
    "                        continue\n",
    "                    else:\n",
    "                        if rouge_score([utterance], [prev_utterance])[0]['rouge-1']['f'] > 0.5:\n",
    "                            # Add the repeated sentences to the set\n",
    "                            repeated_sentences.add(utterance)\n",
    "                            count+=1\n",
    "                            \n",
    "    print(f\"Total number of repeated sentences found: {len(repeated_sentences)}, frequency: {count}\")\n",
    "\n",
    "    return repeated_sentences"
   ]
  },
  {
   "cell_type": "code",
   "execution_count": 136,
   "metadata": {},
   "outputs": [
    {
     "name": "stdout",
     "output_type": "stream",
     "text": [
      "Total number of repeated sentences found: 5, frequency: 5\n"
     ]
    }
   ],
   "source": [
    "repeated_sentences = find_repeated_sentence(train_df)"
   ]
  },
  {
   "cell_type": "code",
   "execution_count": 137,
   "metadata": {},
   "outputs": [
    {
     "data": {
      "text/plain": [
       "{'그~ 뭐지',\n",
       " '그러니까 뭐 이~ 스포츠 선수들 중에 가장 좋아했던 사람',\n",
       " '뭐 화장품 산업을 발달시킨다든지 이런 부분은 또 장점이 될 수도 있지만 저는 사 근데 또 개인적으로는 어~ 쪼끔 그 정신',\n",
       " '안 먹으면 이제는 어~ 힘이 없으니까 말이 안 나올 거 같고 그냥 적게 먹는 먹는 게 다이어트 하는 방법인 거 같아요',\n",
       " '앞으로 어~ 먹 먹어 보고 싶은 먹거리가 있나요?'}"
      ]
     },
     "execution_count": 137,
     "metadata": {},
     "output_type": "execute_result"
    }
   ],
   "source": [
    "repeated_sentences"
   ]
  },
  {
   "cell_type": "code",
   "execution_count": 61,
   "metadata": {},
   "outputs": [
    {
     "data": {
      "text/plain": [
       "{'',\n",
       " '가',\n",
       " '그',\n",
       " '아직 열고 있긴 한데 건너편에 재개발이 되다 보니까 상권들이 다 안 좋아져서 많이들 맛집들이 문을 닫으려고 하는 거 같아.',\n",
       " '우리도 이사를 해야 됐어서 결국에는 엄지 손가락 길이었던 거북이를 한 손바닥 크기만큼 키운 적이 있었는데 얘네들을 어떻게 처리할 수가 없는 상황이었어.'}"
      ]
     },
     "execution_count": 61,
     "metadata": {},
     "output_type": "execute_result"
    }
   ],
   "source": [
    "repeated_sentences"
   ]
  },
  {
   "cell_type": "code",
   "execution_count": 79,
   "metadata": {},
   "outputs": [
    {
     "data": {
      "text/plain": [
       "[{'rouge-1': {'r': 1.0, 'p': 1.0, 'f': 0.999999995},\n",
       "  'rouge-2': {'r': 1.0, 'p': 1.0, 'f': 0.999999995},\n",
       "  'rouge-l': {'r': 1.0, 'p': 1.0, 'f': 0.999999995}}]"
      ]
     },
     "execution_count": 79,
     "metadata": {},
     "output_type": "execute_result"
    }
   ],
   "source": [
    "rouge.Rouge().get_scores(' '.join(repeated_sentences), ' '.join(repeated_sentences))"
   ]
  },
  {
   "cell_type": "code",
   "execution_count": null,
   "metadata": {},
   "outputs": [],
   "source": []
  }
 ],
 "metadata": {
  "kernelspec": {
   "display_name": "nlp1",
   "language": "python",
   "name": "python3"
  },
  "language_info": {
   "codemirror_mode": {
    "name": "ipython",
    "version": 3
   },
   "file_extension": ".py",
   "mimetype": "text/x-python",
   "name": "python",
   "nbconvert_exporter": "python",
   "pygments_lexer": "ipython3",
   "version": "3.11.4"
  }
 },
 "nbformat": 4,
 "nbformat_minor": 2
}
