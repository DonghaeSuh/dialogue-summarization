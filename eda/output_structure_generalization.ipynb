{
 "cells": [
  {
   "cell_type": "markdown",
   "metadata": {},
   "source": [
    "# 전반적인 요약 부분을 하나의 타입으로 통일"
   ]
  },
  {
   "cell_type": "markdown",
   "metadata": {},
   "source": [
    "- output의 맨 첫 번쨰 문장은 `전반적인 요약`에 해당하는 부분이다\n",
    "\n",
    "- 하지만, output에 해당하는 문장의 유형이 6가지나 존재한다\n",
    "\n",
    "    - `\"두 화자는 이 대화에서 ~ \"`\n",
    "    \n",
    "    - `\"두 화자는 ~ \"`\n",
    "    - `\"화자들은 ~ \"`\n",
    "    - `\"두 사람은 ~ \"`\n",
    "    - `\"이 대화에서는 ~ \"`\n",
    "    - `r\"SD\\d{7}(?:와|과).*SD\\d{7}(?:은|는)\" ~ \"`\n",
    "        - ex) \"대화에서 화자 SD2001966와 SD2001967은 ~ \"\n",
    "\n",
    "- 이 때문에\n",
    "    - 모델 입장에서는\n",
    "    - 입력으로 들어온 문장을 요약하는 작업을 하기에 앞서\n",
    "    - 입력으로 들어온 문장을 어떤 형태로 요약해야하는지를 판단 이후에\n",
    "    - 요약을 하는 작업을 거치게 된다\n",
    "\n",
    "- 결국,\n",
    "    - 모델은 6개의 유형의 output을 적절하게 내뱉을 수 있는 능력까지 학습되어야 한다\n",
    "    - 하지만, 이 6개의 유형을 구분짓는 확실한 feature간 상관관계가 보이지 않는다\n",
    "    - 그렇다면, 이는 유형은 output을 생성해냄에 있어 그리 중요한 것이라 볼 수 있고\n",
    "    - 가장 보편적인 형태 하나로 통일하고\n",
    "    - 문제의 목적인 `전반적인 요약`을 하는 것에 집중한다면\n",
    "    - 더 풀기 쉬운 문제가 될 수 있다"
   ]
  },
  {
   "cell_type": "code",
   "execution_count": 2,
   "metadata": {},
   "outputs": [],
   "source": [
    "import pandas as pd\n",
    "import json\n",
    "import matplotlib.pyplot as plt\n",
    "import seaborn as sns\n",
    "import re\n",
    "from copy import deepcopy\n",
    "import warnings\n",
    "warnings.filterwarnings(\"ignore\", category=pd.errors.SettingWithCopyWarning)\n",
    "\n",
    "def make_dataframe(path: str) -> pd.DataFrame:\n",
    "    \"\"\"\n",
    "    Read a json file and return a pandas DataFrame.\n",
    "\n",
    "    Parameters:\n",
    "    path (str): Path to the json file.\n",
    "\n",
    "    Returns:\n",
    "    pd.DataFrame: DataFrame of the json file.\n",
    "    \"\"\"\n",
    "    # Read the json file\n",
    "    with open(path, 'r') as file:\n",
    "        data = json.load(file)\n",
    "\n",
    "    # Create a DataFrame\n",
    "    # columns = ['id', 'conversation', 'subject_keyword', 'output']\n",
    "    df = pd.DataFrame(data)\n",
    "    df['conversation'] = df['input'].apply(lambda x: x['conversation'])\n",
    "    df['subject_keyword'] = df['input'].apply(lambda x: x['subject_keyword'])\n",
    "\n",
    "    # Drop the 'input' column\n",
    "    df.drop('input', axis=1, inplace=True)\n",
    "\n",
    "    # Speakers in the conversation\n",
    "    df['speakers'] = df['conversation'].apply(lambda turns: list(set(turn['speaker'] for turn in turns)))\n",
    "\n",
    "    # Reorder the columns\n",
    "    df = df[['id', 'conversation', 'subject_keyword', 'speakers', 'output']]\n",
    "\n",
    "    return df\n",
    "\n",
    "train_df = make_dataframe('../resource/data/일상대화요약_train.json')\n",
    "dev_df = make_dataframe('../resource/data/일상대화요약_dev.json')\n",
    "test_df = make_dataframe('../resource/data/일상대화요약_test.json')\n",
    "filtered_train_df = make_dataframe('./train.json')\n",
    "filtered_dev_df = make_dataframe('./dev.json')\n",
    "filtered_test_df = make_dataframe('./test.json')"
   ]
  },
  {
   "cell_type": "code",
   "execution_count": 3,
   "metadata": {},
   "outputs": [],
   "source": [
    "# types와 type2 형태로 이루어진 `전반적인 요약` 부분을 모두 \"두 화자는 이 대화에서\"로 통일\n",
    "\n",
    "types = [\"두 화자는\", \"화자들은\" ,\"두 사람은\", \"이 대화에서는\"] # \"두 화자는 이 대화에서\"\n",
    "types2 = r\"SD\\d{7}(?:와|과).*SD\\d{7}(?:은|는)\"\n",
    "\n",
    "\n",
    "\n",
    "def total_summary_generalization(df: pd.DataFrame) -> pd.DataFrame:\n",
    "    \"\"\"\n",
    "    Generalize the `전반적인 요약` part of the DataFrame.\n",
    "\n",
    "    Parameters:\n",
    "    df (pd.DataFrame): DataFrame to generalize.\n",
    "\n",
    "    Returns:\n",
    "    pd.DataFrame: Generalized DataFrame.\n",
    "    \"\"\"\n",
    "    # Copy the DataFrame\n",
    "    df = deepcopy(df)\n",
    "\n",
    "    # Standardize the total summary to start with '두 화자는 이 대화에서'\n",
    "    def generalize_summary(summary: str) -> str:\n",
    "        total_summary = summary.split('.')[0]\n",
    "\n",
    "        if \"두 화자는 이 대화에서\" in total_summary:\n",
    "            return summary\n",
    "        elif re.search(types2, summary):\n",
    "            total_summary = re.sub(r'(.*)'+types2, '두 화자는 이 대화에서', total_summary)+'.'\n",
    "            return total_summary+'.'.join(summary.split('.')[1:])\n",
    "        else:\n",
    "            for type in types:\n",
    "                if type in summary:\n",
    "                    total_summary = re.sub(r'(.*)'+type, '두 화자는 이 대화에서', total_summary)+'.'\n",
    "                    return total_summary+'.'.join(summary.split('.')[1:])\n",
    "        \n",
    "    df['output'] = df['output'].apply(generalize_summary)\n",
    "    \n",
    "    return df"
   ]
  },
  {
   "cell_type": "code",
   "execution_count": 7,
   "metadata": {},
   "outputs": [
    {
     "data": {
      "text/plain": [
       "0"
      ]
     },
     "execution_count": 7,
     "metadata": {},
     "output_type": "execute_result"
    }
   ],
   "source": [
    "total_summary_generalization(filtered_train_df)['output'].isnull().sum()"
   ]
  },
  {
   "cell_type": "code",
   "execution_count": 8,
   "metadata": {},
   "outputs": [
    {
     "data": {
      "text/plain": [
       "0"
      ]
     },
     "execution_count": 8,
     "metadata": {},
     "output_type": "execute_result"
    }
   ],
   "source": [
    "total_summary_generalization(filtered_dev_df)['output'].isnull().sum()"
   ]
  },
  {
   "cell_type": "code",
   "execution_count": 10,
   "metadata": {},
   "outputs": [
    {
     "data": {
      "text/plain": [
       "True"
      ]
     },
     "execution_count": 10,
     "metadata": {},
     "output_type": "execute_result"
    }
   ],
   "source": [
    "\".\".strip() ==\".\""
   ]
  },
  {
   "cell_type": "code",
   "execution_count": null,
   "metadata": {},
   "outputs": [],
   "source": []
  }
 ],
 "metadata": {
  "kernelspec": {
   "display_name": "nlp1",
   "language": "python",
   "name": "python3"
  },
  "language_info": {
   "codemirror_mode": {
    "name": "ipython",
    "version": 3
   },
   "file_extension": ".py",
   "mimetype": "text/x-python",
   "name": "python",
   "nbconvert_exporter": "python",
   "pygments_lexer": "ipython3",
   "version": "3.11.4"
  }
 },
 "nbformat": 4,
 "nbformat_minor": 2
}
