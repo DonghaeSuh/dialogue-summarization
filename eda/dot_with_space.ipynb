{
 "cells": [
  {
   "cell_type": "markdown",
   "metadata": {},
   "source": [
    "# '.' 뒤에 공백이 존재 하는지"
   ]
  },
  {
   "cell_type": "code",
   "execution_count": 1,
   "metadata": {},
   "outputs": [],
   "source": [
    "import pandas as pd\n",
    "import json\n",
    "import matplotlib.pyplot as plt\n",
    "import seaborn as sns\n",
    "import re\n",
    "from copy import deepcopy\n",
    "import warnings\n",
    "warnings.filterwarnings(\"ignore\", category=pd.errors.SettingWithCopyWarning)\n",
    "import rouge\n",
    "\n",
    "def make_dataframe(path: str) -> pd.DataFrame:\n",
    "    \"\"\"\n",
    "    Read a json file and return a pandas DataFrame.\n",
    "\n",
    "    Parameters:\n",
    "    path (str): Path to the json file.\n",
    "\n",
    "    Returns:\n",
    "    pd.DataFrame: DataFrame of the json file.\n",
    "    \"\"\"\n",
    "    # Read the json file\n",
    "    with open(path, 'r') as file:\n",
    "        data = json.load(file)\n",
    "\n",
    "    # Create a DataFrame\n",
    "    # columns = ['id', 'conversation', 'subject_keyword', 'output']\n",
    "    df = pd.DataFrame(data)\n",
    "    df['conversation'] = df['input'].apply(lambda x: x['conversation'])\n",
    "    df['subject_keyword'] = df['input'].apply(lambda x: x['subject_keyword'])\n",
    "\n",
    "    # Drop the 'input' column\n",
    "    df.drop('input', axis=1, inplace=True)\n",
    "\n",
    "    # Speakers in the conversation\n",
    "    df['speakers'] = df['conversation'].apply(lambda turns: list(set(turn['speaker'] for turn in turns)))\n",
    "\n",
    "    # Reorder the columns\n",
    "    df = df[['id', 'conversation', 'subject_keyword', 'speakers', 'output']]\n",
    "\n",
    "    return df\n",
    "\n",
    "train_df = make_dataframe('../resource/data/일상대화요약_train.json')\n",
    "dev_df = make_dataframe('../resource/data/일상대화요약_dev.json')\n",
    "test_df = make_dataframe('../resource/data/일상대화요약_test.json')\n",
    "filtered_train_df = make_dataframe('./train.json')\n",
    "filtered_dev_df = make_dataframe('./dev.json')\n",
    "filtered_test_df = make_dataframe('./test.json')"
   ]
  },
  {
   "cell_type": "markdown",
   "metadata": {},
   "source": [
    "## output의 맨 마지막 확인 "
   ]
  },
  {
   "cell_type": "code",
   "execution_count": 2,
   "metadata": {},
   "outputs": [],
   "source": [
    "# output의 맨 마지막이 '.'으로 끝나는지, '. '으로 끝나는지 확인\n",
    "def check_last_character(df: pd.DataFrame) -> None:\n",
    "    \"\"\"\n",
    "    Check if the last character of the 'output' column is '.' or '. '.\n",
    "\n",
    "    Parameters:\n",
    "    df (pd.DataFrame): DataFrame to check.\n",
    "    \"\"\"\n",
    "    end_dot = 0\n",
    "    end_dot_space = 0\n",
    "    another = 0\n",
    "\n",
    "    for output in df['output']:\n",
    "        if output[-1] == '.':\n",
    "            end_dot += 1\n",
    "        elif output[-2:] == '. ':\n",
    "            end_dot_space += 1\n",
    "        else:\n",
    "            another += 1\n",
    "            print(\"another sentence : \",output)\n",
    "        \n",
    "    print(f\"Number of outputs ending with '.': {end_dot}\")\n",
    "    print(f\"Number of outputs ending with '. ': {end_dot_space}\")\n",
    "    print(f\"Number of outputs ending with another character: {another}\")"
   ]
  },
  {
   "cell_type": "code",
   "execution_count": null,
   "metadata": {},
   "outputs": [
    {
     "name": "stdout",
     "output_type": "stream",
     "text": [
      "another sentence :  두 화자는 이 대화에서 영화 관람 스타일에 대해 말했습니다. SD2001145는 영화관에 가서 신작을 봤으며 알아서 스스로 누르고 애플리케이션으로 들어가서 영화를 보면 되어서 영화관을 자주 이용한다고 말했습니다. 또 한국 영화 위주로 많이 보는데 요즘엔 외국 영화 중심으로 재개봉을 하고 있어 조금 아쉽다고 말했습니다. SD2001146은 코로나 때문에 영화관을 못 가서 신작 영화를 보진 못했고 넷플릭스나 웨이브에서 시청한다고 말했습니다. 집에서 티브이나 휴대폰으로 볼 땐 소리와 화면의 질이 아쉽다고 말했습니다\n",
      "Number of outputs ending with '.': 498\n",
      "Number of outputs ending with '. ': 7\n",
      "Number of outputs ending with another character: 1\n"
     ]
    }
   ],
   "source": [
    "check_last_character(filtered_train_df)"
   ]
  },
  {
   "cell_type": "code",
   "execution_count": null,
   "metadata": {},
   "outputs": [
    {
     "name": "stdout",
     "output_type": "stream",
     "text": [
      "Number of outputs ending with '.': 100\n",
      "Number of outputs ending with '. ': 2\n",
      "Number of outputs ending with another character: 0\n"
     ]
    }
   ],
   "source": [
    "check_last_character(filtered_dev_df)"
   ]
  },
  {
   "cell_type": "markdown",
   "metadata": {},
   "source": [
    "## output, utterance 내에 '.' 뒤 공백 여부"
   ]
  },
  {
   "cell_type": "code",
   "execution_count": 18,
   "metadata": {},
   "outputs": [],
   "source": [
    "# utterance 내 '.' 뒤 공백 여부 확인\n",
    "\n",
    "import re\n",
    "\n",
    "\n",
    "def check_dot_space(df: pd.DataFrame) -> None:\n",
    "    \"\"\"\n",
    "    Check if there is a space after '.' in the text\n",
    "\n",
    "    Parameters:\n",
    "    df (pd.DataFrame): DataFrame to check.\n",
    "    \"\"\"\n",
    "    # 마침표 뒤에 공백이 있는 경우를 찾는 패턴\n",
    "    pattern_with_space = re.compile(r'\\. ')\n",
    "    # 마침표 뒤에 공백이 없는 경우를 찾는 패턴\n",
    "    pattern_no_space = re.compile(r'\\.[^\\s]')\n",
    "\n",
    "    dot_with_space_in_utterance = 0\n",
    "    dot_without_space_in_utterance = 0\n",
    "    dot_with_space_in_output = 0\n",
    "    dot_without_space_in_output = 0\n",
    "\n",
    "    for turns in df['conversation']:\n",
    "        for turn in turns:\n",
    "            sentence = turn['utterance']\n",
    "            # 패턴에 매치되는 모든 경우를 찾고 개수 세기\n",
    "            matches_with_space = pattern_with_space.findall(sentence)\n",
    "            matches_no_space = pattern_no_space.findall(sentence)\n",
    "            dot_with_space_in_utterance += len(matches_with_space)\n",
    "            dot_without_space_in_utterance += len(matches_no_space)\n",
    "\n",
    "    for output in df['output']:\n",
    "        matches_with_space = pattern_with_space.findall(output)\n",
    "        matches_no_space = pattern_no_space.findall(output)\n",
    "        dot_with_space_in_output += len(matches_with_space)\n",
    "        dot_without_space_in_output += len(matches_no_space)\n",
    "\n",
    "    \n",
    "    print(f\"Number of '.' with space in utterance: {dot_with_space_in_utterance}\")\n",
    "    print(f\"Number of '.' without space in utterance: {dot_without_space_in_utterance}\")\n",
    "    print(f\"Number of '.' with space in output: {dot_with_space_in_output}\")\n",
    "    print(f\"Number of '.' without space in output: {dot_without_space_in_output}\")"
   ]
  },
  {
   "cell_type": "code",
   "execution_count": 19,
   "metadata": {},
   "outputs": [
    {
     "name": "stdout",
     "output_type": "stream",
     "text": [
      "Number of '.' with space in utterance: 12060\n",
      "Number of '.' without space in utterance: 14\n",
      "Number of '.' with space in output: 2748\n",
      "Number of '.' without space in output: 7\n"
     ]
    }
   ],
   "source": [
    "check_dot_space(filtered_train_df)"
   ]
  },
  {
   "cell_type": "code",
   "execution_count": 21,
   "metadata": {},
   "outputs": [
    {
     "name": "stdout",
     "output_type": "stream",
     "text": [
      "Number of '.' with space in utterance: 2578\n",
      "Number of '.' without space in utterance: 2\n",
      "Number of '.' with space in output: 532\n",
      "Number of '.' without space in output: 4\n"
     ]
    }
   ],
   "source": [
    "check_dot_space(filtered_dev_df)"
   ]
  },
  {
   "cell_type": "markdown",
   "metadata": {},
   "source": [
    "- 만약 문장 내 '.' 뒤에 공백이 존재하지 않는다면, '. ' 공백을 추가해주고\n",
    "- 맨 마지막으로 strip()을 해준다"
   ]
  },
  {
   "cell_type": "code",
   "execution_count": 34,
   "metadata": {},
   "outputs": [],
   "source": [
    "filtered_train_df = make_dataframe('./train.json')\n",
    "filtered_dev_df = make_dataframe('./dev.json')\n",
    "filtered_test_df = make_dataframe('./test.json')"
   ]
  },
  {
   "cell_type": "code",
   "execution_count": 35,
   "metadata": {},
   "outputs": [
    {
     "name": "stdout",
     "output_type": "stream",
     "text": [
      "Number of outputs ending with '.': 506\n",
      "Number of outputs ending with '. ': 0\n",
      "Number of outputs ending with another character: 0\n"
     ]
    }
   ],
   "source": [
    "check_last_character(filtered_train_df)"
   ]
  },
  {
   "cell_type": "code",
   "execution_count": 36,
   "metadata": {},
   "outputs": [
    {
     "name": "stdout",
     "output_type": "stream",
     "text": [
      "Number of outputs ending with '.': 102\n",
      "Number of outputs ending with '. ': 0\n",
      "Number of outputs ending with another character: 0\n"
     ]
    }
   ],
   "source": [
    "check_last_character(filtered_dev_df)"
   ]
  },
  {
   "cell_type": "code",
   "execution_count": 37,
   "metadata": {},
   "outputs": [
    {
     "name": "stdout",
     "output_type": "stream",
     "text": [
      "Number of '.' with space in utterance: 12074\n",
      "Number of '.' without space in utterance: 0\n",
      "Number of '.' with space in output: 2749\n",
      "Number of '.' without space in output: 0\n"
     ]
    }
   ],
   "source": [
    "check_dot_space(filtered_train_df)"
   ]
  },
  {
   "cell_type": "code",
   "execution_count": 38,
   "metadata": {},
   "outputs": [
    {
     "name": "stdout",
     "output_type": "stream",
     "text": [
      "Number of '.' with space in utterance: 2580\n",
      "Number of '.' without space in utterance: 0\n",
      "Number of '.' with space in output: 535\n",
      "Number of '.' without space in output: 0\n"
     ]
    }
   ],
   "source": [
    "check_dot_space(filtered_dev_df)"
   ]
  }
 ],
 "metadata": {
  "kernelspec": {
   "display_name": "nlp1",
   "language": "python",
   "name": "python3"
  },
  "language_info": {
   "codemirror_mode": {
    "name": "ipython",
    "version": 3
   },
   "file_extension": ".py",
   "mimetype": "text/x-python",
   "name": "python",
   "nbconvert_exporter": "python",
   "pygments_lexer": "ipython3",
   "version": "3.11.4"
  }
 },
 "nbformat": 4,
 "nbformat_minor": 2
}
