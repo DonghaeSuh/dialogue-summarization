{
 "cells": [
  {
   "cell_type": "markdown",
   "metadata": {},
   "source": [
    "## 이상치 데이터 EDA\n",
    "\n",
    "- `preprocess.py` 모듈을 통해 3 가지 전처리를 자동으로 가능\n",
    "\n",
    "    - **감탄사 [\"음~\",\"어~\",\"아~\",\"그~\"] 제거**\n",
    "\n",
    "    - **빈 utterance 제거**\n",
    "\n",
    "    - **틀린 output(train 401번째, 402번째 샘플) 수정**\n",
    "\n",
    "    - 단순히 `python preprocess.py`을 터미널에 입력하면 전처리되어 default로 `resource/data` 경로에 저장됨"
   ]
  },
  {
   "cell_type": "code",
   "execution_count": 7,
   "metadata": {},
   "outputs": [],
   "source": [
    "import pandas as pd\n",
    "import json\n",
    "import matplotlib.pyplot as plt\n",
    "import seaborn as sns\n",
    "import re"
   ]
  },
  {
   "cell_type": "code",
   "execution_count": 2,
   "metadata": {},
   "outputs": [],
   "source": [
    "def make_dataframe(path: str) -> pd.DataFrame:\n",
    "    \"\"\"\n",
    "    Read a json file and return a pandas DataFrame.\n",
    "\n",
    "    Parameters:\n",
    "    path (str): Path to the json file.\n",
    "\n",
    "    Returns:\n",
    "    pd.DataFrame: DataFrame of the json file.\n",
    "    \"\"\"\n",
    "    # Read the json file\n",
    "    with open(path, 'r') as file:\n",
    "        data = json.load(file)\n",
    "\n",
    "    # Create a DataFrame\n",
    "    # columns = ['id', 'conversation', 'subject_keyword', 'output']\n",
    "    df = pd.DataFrame(data)\n",
    "    df['conversation'] = df['input'].apply(lambda x: x['conversation'])\n",
    "    df['subject_keyword'] = df['input'].apply(lambda x: x['subject_keyword'])\n",
    "\n",
    "    # Drop the 'input' column\n",
    "    df.drop('input', axis=1, inplace=True)\n",
    "\n",
    "    # Speakers in the conversation\n",
    "    df['speakers'] = df['conversation'].apply(lambda turns: list(set(turn['speaker'] for turn in turns)))\n",
    "\n",
    "    # Reorder the columns\n",
    "    df = df[['id', 'conversation', 'subject_keyword', 'speakers', 'output']]\n",
    "\n",
    "    return df"
   ]
  },
  {
   "cell_type": "code",
   "execution_count": 3,
   "metadata": {},
   "outputs": [],
   "source": [
    "train_df = make_dataframe('../resource/filtered_data/일상대화요약_train.json')\n",
    "dev_df = make_dataframe('../resource/filtered_data/일상대화요약_dev.json')\n",
    "test_df = make_dataframe('../resource/filtered_data/일상대화요약_test.json')"
   ]
  },
  {
   "cell_type": "code",
   "execution_count": 98,
   "metadata": {},
   "outputs": [],
   "source": [
    "train_df = make_dataframe('../resource/data/일상대화요약_train.json')\n",
    "dev_df = make_dataframe('../resource/data/일상대화요약_dev.json')\n",
    "test_df = make_dataframe('../resource/data/일상대화요약_test.json')"
   ]
  },
  {
   "cell_type": "markdown",
   "metadata": {},
   "source": [
    "<br/>\n",
    "\n",
    "<br/>"
   ]
  },
  {
   "cell_type": "markdown",
   "metadata": {},
   "source": [
    "## spekers와 output 내의 speakers가 동일한지 확인\n",
    "\n",
    "- speaker의 구조가 'SD'+'7자리숫자' 인지 확인"
   ]
  },
  {
   "cell_type": "code",
   "execution_count": 90,
   "metadata": {},
   "outputs": [],
   "source": [
    "def check_speaker_structure(df: pd.DataFrame) -> None:\n",
    "    \"\"\"\n",
    "    Check the structure of the speakers in the conversation.\n",
    "\n",
    "    Parameters:\n",
    "    df (pd.DataFrame): DataFrame of the json file.\n",
    "    \"\"\"\n",
    "    # Check the structure of the speakers in the conversation\n",
    "    cnt = 0\n",
    "    for i, speakers in enumerate(df['speakers']):\n",
    "        for speaker in speakers:\n",
    "            if not re.match(r'SD\\d{7}', speaker):\n",
    "                print(f'Row {i}: {speaker}')\n",
    "                cnt += 1\n",
    "\n",
    "    if cnt == 0:\n",
    "        print('All speakers are in the correct format.')"
   ]
  },
  {
   "cell_type": "code",
   "execution_count": 21,
   "metadata": {},
   "outputs": [
    {
     "name": "stdout",
     "output_type": "stream",
     "text": [
      "All speakers are in the correct format.\n",
      "All speakers are in the correct format.\n",
      "All speakers are in the correct format.\n"
     ]
    }
   ],
   "source": [
    "check_speaker_structure(train_df)\n",
    "check_speaker_structure(dev_df)\n",
    "check_speaker_structure(test_df)"
   ]
  },
  {
   "cell_type": "markdown",
   "metadata": {},
   "source": [
    "- output 내에 등장하는 모든 speaker들 중에서\n",
    "    - 실제 대화에 등장하는 speaker가 아닌 샘플을 찾기"
   ]
  },
  {
   "cell_type": "code",
   "execution_count": 91,
   "metadata": {},
   "outputs": [],
   "source": [
    "def check_invalid_output(df: pd.DataFrame) -> pd.DataFrame:\n",
    "    \"\"\"\n",
    "    Check if the output is invalid.\n",
    "\n",
    "    Parameters:\n",
    "    df (pd.DataFrame): DataFrame to check.\n",
    "\n",
    "    Returns:\n",
    "    pd.DataFrame: DataFrame with valid output.\n",
    "    \"\"\"\n",
    "    def is_not_valid_output(row):\n",
    "        # extract speakers in the output\n",
    "        speakers = re.findall(r'SD\\d{7}', row['output'])\n",
    "\n",
    "        # real speakers\n",
    "        real_speakers = row['speakers']\n",
    "\n",
    "        # check the validity\n",
    "        if set(speakers) != set(real_speakers):\n",
    "            print(\"real_speakers: \", set(real_speakers), \"output_speakers: \", set(speakers))\n",
    "            \n",
    "        return set(speakers) != set(real_speakers)\n",
    "\n",
    "    # find the rows with invalid output\n",
    "    is_not_valid = df.apply(lambda row: is_not_valid_output(row), axis=1)\n",
    "\n",
    "    return df[is_not_valid]"
   ]
  },
  {
   "cell_type": "code",
   "execution_count": 17,
   "metadata": {},
   "outputs": [
    {
     "name": "stdout",
     "output_type": "stream",
     "text": [
      "real_speakers:  {'SD2100503', 'SD2110504'} output_speakers:  {'SD2100503', 'SD2110504', 'SD2100504'}\n",
      "real_speakers:  {'SD2100503', 'SD2110504'} output_speakers:  {'SD2110504', 'SD2110503'}\n"
     ]
    },
    {
     "data": {
      "text/html": [
       "<div>\n",
       "<style scoped>\n",
       "    .dataframe tbody tr th:only-of-type {\n",
       "        vertical-align: middle;\n",
       "    }\n",
       "\n",
       "    .dataframe tbody tr th {\n",
       "        vertical-align: top;\n",
       "    }\n",
       "\n",
       "    .dataframe thead th {\n",
       "        text-align: right;\n",
       "    }\n",
       "</style>\n",
       "<table border=\"1\" class=\"dataframe\">\n",
       "  <thead>\n",
       "    <tr style=\"text-align: right;\">\n",
       "      <th></th>\n",
       "      <th>id</th>\n",
       "      <th>conversation</th>\n",
       "      <th>subject_keyword</th>\n",
       "      <th>speakers</th>\n",
       "      <th>output</th>\n",
       "    </tr>\n",
       "  </thead>\n",
       "  <tbody>\n",
       "    <tr>\n",
       "      <th>400</th>\n",
       "      <td>nikluge-2024-일상 대화 요약-train-000401</td>\n",
       "      <td>[{'speaker': 'SD2100503', 'utterance': '언니 결혼 ...</td>\n",
       "      <td>[결혼]</td>\n",
       "      <td>[SD2100503, SD2110504]</td>\n",
       "      <td>대화에서 SD2100503과 SD2100504는 결혼식에 대해 이야기를 나눴습니다....</td>\n",
       "    </tr>\n",
       "    <tr>\n",
       "      <th>401</th>\n",
       "      <td>nikluge-2024-일상 대화 요약-train-000402</td>\n",
       "      <td>[{'speaker': 'SD2110504', 'utterance': '너는 누구랑...</td>\n",
       "      <td>[결혼]</td>\n",
       "      <td>[SD2100503, SD2110504]</td>\n",
       "      <td>이 대화에서 SD2110503과 SD2110504는 결혼에 대해 이야기를 나눴습니다...</td>\n",
       "    </tr>\n",
       "  </tbody>\n",
       "</table>\n",
       "</div>"
      ],
      "text/plain": [
       "                                     id  \\\n",
       "400  nikluge-2024-일상 대화 요약-train-000401   \n",
       "401  nikluge-2024-일상 대화 요약-train-000402   \n",
       "\n",
       "                                          conversation subject_keyword  \\\n",
       "400  [{'speaker': 'SD2100503', 'utterance': '언니 결혼 ...            [결혼]   \n",
       "401  [{'speaker': 'SD2110504', 'utterance': '너는 누구랑...            [결혼]   \n",
       "\n",
       "                   speakers                                             output  \n",
       "400  [SD2100503, SD2110504]  대화에서 SD2100503과 SD2100504는 결혼식에 대해 이야기를 나눴습니다....  \n",
       "401  [SD2100503, SD2110504]  이 대화에서 SD2110503과 SD2110504는 결혼에 대해 이야기를 나눴습니다...  "
      ]
     },
     "execution_count": 17,
     "metadata": {},
     "output_type": "execute_result"
    }
   ],
   "source": [
    "check_invalid_output(train_df)"
   ]
  },
  {
   "cell_type": "code",
   "execution_count": 18,
   "metadata": {},
   "outputs": [
    {
     "data": {
      "text/html": [
       "<div>\n",
       "<style scoped>\n",
       "    .dataframe tbody tr th:only-of-type {\n",
       "        vertical-align: middle;\n",
       "    }\n",
       "\n",
       "    .dataframe tbody tr th {\n",
       "        vertical-align: top;\n",
       "    }\n",
       "\n",
       "    .dataframe thead th {\n",
       "        text-align: right;\n",
       "    }\n",
       "</style>\n",
       "<table border=\"1\" class=\"dataframe\">\n",
       "  <thead>\n",
       "    <tr style=\"text-align: right;\">\n",
       "      <th></th>\n",
       "      <th>id</th>\n",
       "      <th>conversation</th>\n",
       "      <th>subject_keyword</th>\n",
       "      <th>speakers</th>\n",
       "      <th>output</th>\n",
       "    </tr>\n",
       "  </thead>\n",
       "  <tbody>\n",
       "  </tbody>\n",
       "</table>\n",
       "</div>"
      ],
      "text/plain": [
       "Empty DataFrame\n",
       "Columns: [id, conversation, subject_keyword, speakers, output]\n",
       "Index: []"
      ]
     },
     "execution_count": 18,
     "metadata": {},
     "output_type": "execute_result"
    }
   ],
   "source": [
    "check_invalid_output(dev_df)"
   ]
  },
  {
   "cell_type": "markdown",
   "metadata": {},
   "source": [
    "- 이상 데이터 직접 수정"
   ]
  },
  {
   "cell_type": "code",
   "execution_count": 55,
   "metadata": {},
   "outputs": [
    {
     "data": {
      "text/html": [
       "<div>\n",
       "<style scoped>\n",
       "    .dataframe tbody tr th:only-of-type {\n",
       "        vertical-align: middle;\n",
       "    }\n",
       "\n",
       "    .dataframe tbody tr th {\n",
       "        vertical-align: top;\n",
       "    }\n",
       "\n",
       "    .dataframe thead th {\n",
       "        text-align: right;\n",
       "    }\n",
       "</style>\n",
       "<table border=\"1\" class=\"dataframe\">\n",
       "  <thead>\n",
       "    <tr style=\"text-align: right;\">\n",
       "      <th></th>\n",
       "      <th>id</th>\n",
       "      <th>conversation</th>\n",
       "      <th>subject_keyword</th>\n",
       "      <th>speakers</th>\n",
       "      <th>output</th>\n",
       "    </tr>\n",
       "  </thead>\n",
       "  <tbody>\n",
       "  </tbody>\n",
       "</table>\n",
       "</div>"
      ],
      "text/plain": [
       "Empty DataFrame\n",
       "Columns: [id, conversation, subject_keyword, speakers, output]\n",
       "Index: []"
      ]
     },
     "execution_count": 55,
     "metadata": {},
     "output_type": "execute_result"
    }
   ],
   "source": [
    "# 수정 후, 다시 불러오기\n",
    "train_df = make_dataframe('../resource/filtered_data/일상대화요약_train.json')\n",
    "dev_df = make_dataframe('../resource/filtered_data/일상대화요약_dev.json')\n",
    "\n",
    "check_invalid_output(train_df)"
   ]
  },
  {
   "cell_type": "markdown",
   "metadata": {},
   "source": [
    "<br/>\n",
    "\n",
    "<br/>"
   ]
  },
  {
   "cell_type": "markdown",
   "metadata": {},
   "source": [
    "## utterance가 비어있는 샘플 확인\n",
    "\n",
    "- `output`과, `speaker`의 경우 모두 채워져있는 것을 확인\n",
    "\n",
    "### 결과\n",
    "- train : 30개, dev : 1개, test : 4개의 샘플에서 비어있는 utterance 발견\n",
    "\n",
    "    - 지금 default의 경우 `chat.append(f\"화자{speaker}: {utterance}\")` 로 인해 비어있는 샘플이 입력으로 추가되게 됨\n",
    "    - 이는 의미없는 연산 비용을 발생시키므로 제거시켜주자"
   ]
  },
  {
   "cell_type": "code",
   "execution_count": 80,
   "metadata": {},
   "outputs": [],
   "source": [
    "train_df = make_dataframe('../resource/filtered_data/일상대화요약_train.json')\n",
    "dev_df = make_dataframe('../resource/filtered_data/일상대화요약_dev.json')\n",
    "test_df = make_dataframe('../resource/filtered_data/일상대화요약_test.json')"
   ]
  },
  {
   "cell_type": "code",
   "execution_count": 81,
   "metadata": {},
   "outputs": [],
   "source": [
    "# Fine the samples that have empty utterances\n",
    "\n",
    "def find_empty_utterances(df: pd.DataFrame) -> pd.DataFrame:\n",
    "    \"\"\"\n",
    "    Find the samples that have empty utterances.\n",
    "\n",
    "    Parameters:\n",
    "    df (pd.DataFrame): DataFrame to check.\n",
    "\n",
    "    returns:\n",
    "    pd.Series: DataFrame with empty outputs.\n",
    "    \"\"\"\n",
    "    # Find the samples that have empty utterances\n",
    "    def has_empty_utterances(turns):\n",
    "        return any(not turn['utterance'] for turn in turns)\n",
    "\n",
    "    empty_utterances = df['conversation'].apply(lambda turns: has_empty_utterances(turns))\n",
    "    print(f'Number of samples that have empty utterances: {empty_utterances.sum()}')\n",
    "    \n",
    "    return empty_utterances"
   ]
  },
  {
   "cell_type": "code",
   "execution_count": 82,
   "metadata": {},
   "outputs": [
    {
     "name": "stdout",
     "output_type": "stream",
     "text": [
      "Number of samples that have empty utterances: 30\n",
      "Number of samples that have empty utterances: 1\n",
      "Number of samples that have empty utterances: 4\n"
     ]
    }
   ],
   "source": [
    "empty_train = find_empty_utterances(train_df)\n",
    "empty_dev = find_empty_utterances(dev_df)\n",
    "empty_test = find_empty_utterances(test_df)"
   ]
  },
  {
   "cell_type": "markdown",
   "metadata": {},
   "source": [
    "- 비어있는 utterances 제거"
   ]
  },
  {
   "cell_type": "code",
   "execution_count": 95,
   "metadata": {},
   "outputs": [],
   "source": [
    "# Remove the samples that have empty utterances\n",
    "\n",
    "def remove_empty_utterances(df: pd.DataFrame) -> pd.DataFrame:\n",
    "    \"\"\"\n",
    "    Remove the samples that have empty utterances.\n",
    "\n",
    "    Parameters:\n",
    "    df (pd.DataFrame): DataFrame to check.\n",
    "\n",
    "    Returns:\n",
    "    pd.DataFrame: DataFrame with no empty utterances.\n",
    "    \"\"\"\n",
    "    # Remove the samples that have empty utterances\n",
    "    def remove_empty_utterance_turn(turns):\n",
    "        # Remove the turns that have empty utterances\n",
    "        return [turn for turn in turns if turn['utterance']]\n",
    "    \n",
    "    df['conversation'] = df['conversation'].apply(lambda turns: remove_empty_utterance_turn(turns))\n",
    "    print('Empty utterances removed.')\n",
    "    return df"
   ]
  },
  {
   "cell_type": "code",
   "execution_count": 96,
   "metadata": {},
   "outputs": [
    {
     "name": "stdout",
     "output_type": "stream",
     "text": [
      "Empty utterances removed.\n",
      "Empty utterances removed.\n",
      "Empty utterances removed.\n"
     ]
    }
   ],
   "source": [
    "fine_train_df = remove_empty_utterances(train_df)\n",
    "fine_dev_df = remove_empty_utterances(dev_df)\n",
    "fine_test_df = remove_empty_utterances(test_df)"
   ]
  },
  {
   "cell_type": "code",
   "execution_count": 99,
   "metadata": {},
   "outputs": [
    {
     "name": "stdout",
     "output_type": "stream",
     "text": [
      "Number of samples that have empty utterances: 0\n",
      "Number of samples that have empty utterances: 0\n",
      "Number of samples that have empty utterances: 0\n"
     ]
    }
   ],
   "source": [
    "_ = find_empty_utterances(fine_train_df)\n",
    "_ = find_empty_utterances(fine_dev_df)\n",
    "_ = find_empty_utterances(fine_test_df)"
   ]
  },
  {
   "cell_type": "code",
   "execution_count": 87,
   "metadata": {},
   "outputs": [],
   "source": [
    "# save the fine data to json files\n",
    "\n",
    "def save_to_json(df: pd.DataFrame, path: str) -> None:\n",
    "    \"\"\"\n",
    "    Save the DataFrame to a json file.\n",
    "\n",
    "    Parameters:\n",
    "    df (pd.DataFrame): DataFrame to save.\n",
    "    path (str): Path to save the json file.\n",
    "    \"\"\"\n",
    "    def make_input_column(row):\n",
    "        input_col = row[['conversation', 'subject_keyword']].to_dict()\n",
    "        return input_col\n",
    "\n",
    "    df['input'] = df.apply(lambda row: make_input_column(row), axis=1)\n",
    "\n",
    "    # Drop the 'conversation', 'speakers' and 'subject_keyword'columns\n",
    "    df.drop(['conversation', 'speakers', 'subject_keyword'], axis=1, inplace=True)\n",
    "\n",
    "    # Reorder the columns\n",
    "    df = df[['id', 'input', 'output']]\n",
    "\n",
    "    # Save the DataFrame to a json file\n",
    "    data = df.to_dict(orient='records')\n",
    "    \n",
    "    with open(path, 'w') as file:\n",
    "        json.dump(data, file, ensure_ascii=False, indent=4)"
   ]
  },
  {
   "cell_type": "code",
   "execution_count": 88,
   "metadata": {},
   "outputs": [],
   "source": [
    "save_to_json(fine_train_df, './sample.json')"
   ]
  }
 ],
 "metadata": {
  "kernelspec": {
   "display_name": "nlp1",
   "language": "python",
   "name": "python3"
  },
  "language_info": {
   "codemirror_mode": {
    "name": "ipython",
    "version": 3
   },
   "file_extension": ".py",
   "mimetype": "text/x-python",
   "name": "python",
   "nbconvert_exporter": "python",
   "pygments_lexer": "ipython3",
   "version": "3.11.4"
  }
 },
 "nbformat": 4,
 "nbformat_minor": 2
}
