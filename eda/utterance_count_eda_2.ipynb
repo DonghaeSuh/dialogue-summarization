{
 "cells": [
  {
   "cell_type": "markdown",
   "metadata": {},
   "source": [
    "# speaker 별 발화 길이에 따른 output 내 요약 차지 비율 분석"
   ]
  },
  {
   "cell_type": "markdown",
   "metadata": {},
   "source": [
    "\n",
    "- 샘플마다 speaker 별 발화 길이를 확인 -> 이 길이가 output에서도 동일하게 적용되는지 확인\n",
    "    - 확인할 만 한 것 \n",
    "        - speaker별 샘플내 utterance 개수\n",
    "        - speaker별 샘플내 utterance 총 발화길이\n",
    "        - speaker별 utterance 별 발화 길이 평균, 중앙값, 최대 최소\n",
    "\n",
    "    - output 내 speaker별 요약에 해당하는 범위를 특정하기 위해 이름을 사용 (SD~ )\n",
    "        - 이 SD가 첫번째 문장(전반적인 요약)을 제외한 그 뒤의 문장 내에서 몇 개 존재하는지 화깅ㄴ\n",
    "        - 만약 2개가 존재하고 그 이름이 서로 다르다면,\n",
    "            - 두 개의 문장으로 분할 가능\n",
    "\n",
    "        - 만약 3개 이상이 존재한다면\n",
    "            - 이는 직접 분석하여 어떻게 분리할 것인지 해봐야함\n",
    "\n",
    "<br/>\n",
    "\n",
    "- 샘플 output의 speaker별 요약 길이 \n",
    "    - speaker 별 총 발화길이, speaker별 발화 길이 평균에 따른\n",
    "        - speaker 별 요약 길이\n",
    "        - 이 요약길이가 특정 범위 내에 존재한다면\n",
    "        - prompt로 요약 길이 범위를 주어줄 수 있어서 매우 중요!!!!!!!!!\n",
    "                \n",
    "        - 그리고 이 길이 분포가 dev 데이터, test 데이터에 대해서도 동일하게 적용되는가?\n",
    "\n",
    "\n",
    "        - 샘플내 발화(utterance) 길이와 요약 길이가 비례하는가?\n",
    "            - 그렇지 않은 샘플이라면 어떤 특징을 가지는가?"
   ]
  },
  {
   "cell_type": "markdown",
   "metadata": {},
   "source": [
    "## 샘플 내 speaker 별 발화 개수"
   ]
  },
  {
   "cell_type": "code",
   "execution_count": 71,
   "metadata": {},
   "outputs": [],
   "source": [
    "import pandas as pd\n",
    "import json\n",
    "import matplotlib.pyplot as plt\n",
    "import seaborn as sns\n",
    "from copy import deepcopy\n",
    "from transformers import AutoTokenizer\n",
    "import re\n",
    "from collections import defaultdict"
   ]
  },
  {
   "cell_type": "code",
   "execution_count": 72,
   "metadata": {},
   "outputs": [],
   "source": [
    "def make_dataframe(path: str) -> pd.DataFrame:\n",
    "    \"\"\"\n",
    "    Read a json file and return a pandas DataFrame.\n",
    "\n",
    "    Parameters:\n",
    "    path (str): Path to the json file.\n",
    "\n",
    "    Returns:\n",
    "    pd.DataFrame: DataFrame of the json file.\n",
    "    \"\"\"\n",
    "    # Read the json file\n",
    "    with open(path, 'r') as file:\n",
    "        data = json.load(file)\n",
    "\n",
    "    # Create a DataFrame\n",
    "    # columns = ['id', 'conversation', 'subject_keyword', 'output']\n",
    "    df = pd.DataFrame(data)\n",
    "    df['conversation'] = df['input'].apply(lambda x: x['conversation'])\n",
    "    df['subject_keyword'] = df['input'].apply(lambda x: x['subject_keyword'])\n",
    "\n",
    "    # Drop the 'input' column\n",
    "    df.drop('input', axis=1, inplace=True)\n",
    "\n",
    "    # Speakers in the conversation\n",
    "    df['speakers'] = df['conversation'].apply(lambda turns: list(set(turn['speaker'] for turn in turns)))\n",
    "\n",
    "    # Reorder the columns\n",
    "    df = df[['id', 'conversation', 'subject_keyword', 'speakers', 'output']]\n",
    "\n",
    "    return df"
   ]
  },
  {
   "cell_type": "code",
   "execution_count": 73,
   "metadata": {},
   "outputs": [],
   "source": [
    "train_df = make_dataframe('../resource/data/일상대화요약_train.json')\n",
    "dev_df = make_dataframe('../resource/data/일상대화요약_dev.json')\n",
    "test_df = make_dataframe('../resource/data/일상대화요약_test.json')\n",
    "filtered_train_df = make_dataframe('./train.json')\n",
    "filtered_dev_df = make_dataframe('./dev.json')\n",
    "filtered_test_df = make_dataframe('./test.json')"
   ]
  },
  {
   "cell_type": "code",
   "execution_count": 99,
   "metadata": {},
   "outputs": [],
   "source": [
    "def get_num_utterances_per_speaker(df: pd.DataFrame, test = None) -> pd.DataFrame:\n",
    "    \"\"\"\n",
    "    Get the number of utterances per speaker in the DataFrame.\n",
    "\n",
    "    Parameters:\n",
    "    df (pd.DataFrame): DataFrame of the data.\n",
    "    \"\"\"\n",
    "    df = deepcopy(df)\n",
    "\n",
    "    # Get the number of utterances per speaker\n",
    "    def return_num_utterances_per_speaker(turns):\n",
    "        speakers = [turn['speaker'] for turn in turns]\n",
    "        if speakers is None:\n",
    "            print(\"errror\")\n",
    "        return pd.Series(speakers).value_counts().to_dict()\n",
    "    \n",
    "    # Get the number of utterances per speaker\n",
    "    df['num_utterances_per_speaker'] = df['conversation'].apply(return_num_utterances_per_speaker)\n",
    "    \n",
    "    # Get the first speaker in the conversation\n",
    "    df['first_speaker'] = df['conversation'].apply(lambda x: x[0]['speaker'])\n",
    "    # df['last_speaker'] = df['conversation'].apply(lambda x: x[-1]['speaker'])\n",
    "\n",
    "    # Get the first speaker of speaker summary in the output\n",
    "    if test is None:\n",
    "        df['first_speaker_summary'] = df['output'].apply(lambda x : re.findall(r'SD\\d{7}', x.split('.')[1]))\n",
    "\n",
    "    return df"
   ]
  },
  {
   "cell_type": "code",
   "execution_count": 100,
   "metadata": {},
   "outputs": [],
   "source": [
    "train_df = get_num_utterances_per_speaker(filtered_train_df)\n",
    "dev_df = get_num_utterances_per_speaker(filtered_dev_df)\n",
    "test_df = get_num_utterances_per_speaker(filtered_test_df, test = True)"
   ]
  },
  {
   "cell_type": "code",
   "execution_count": 101,
   "metadata": {},
   "outputs": [
    {
     "data": {
      "text/html": [
       "<div>\n",
       "<style scoped>\n",
       "    .dataframe tbody tr th:only-of-type {\n",
       "        vertical-align: middle;\n",
       "    }\n",
       "\n",
       "    .dataframe tbody tr th {\n",
       "        vertical-align: top;\n",
       "    }\n",
       "\n",
       "    .dataframe thead th {\n",
       "        text-align: right;\n",
       "    }\n",
       "</style>\n",
       "<table border=\"1\" class=\"dataframe\">\n",
       "  <thead>\n",
       "    <tr style=\"text-align: right;\">\n",
       "      <th></th>\n",
       "      <th>id</th>\n",
       "      <th>conversation</th>\n",
       "      <th>subject_keyword</th>\n",
       "      <th>speakers</th>\n",
       "      <th>output</th>\n",
       "      <th>num_utterances_per_speaker</th>\n",
       "      <th>first_speaker</th>\n",
       "      <th>first_speaker_summary</th>\n",
       "    </tr>\n",
       "  </thead>\n",
       "  <tbody>\n",
       "    <tr>\n",
       "      <th>0</th>\n",
       "      <td>nikluge-2024-일상 대화 요약-train-000001</td>\n",
       "      <td>[{'speaker': 'SD2000001', 'utterance': '저는 여행 ...</td>\n",
       "      <td>[해외여행]</td>\n",
       "      <td>[SD2000002, SD2000001]</td>\n",
       "      <td>두 화자는 이 대화에서 좋았던 여행지와 기억나는 주요 명소에 대해 이야기했습니다. ...</td>\n",
       "      <td>{'SD2000002': 8, 'SD2000001': 6}</td>\n",
       "      <td>SD2000001</td>\n",
       "      <td>[SD2000001]</td>\n",
       "    </tr>\n",
       "  </tbody>\n",
       "</table>\n",
       "</div>"
      ],
      "text/plain": [
       "                                   id  \\\n",
       "0  nikluge-2024-일상 대화 요약-train-000001   \n",
       "\n",
       "                                        conversation subject_keyword  \\\n",
       "0  [{'speaker': 'SD2000001', 'utterance': '저는 여행 ...          [해외여행]   \n",
       "\n",
       "                 speakers                                             output  \\\n",
       "0  [SD2000002, SD2000001]  두 화자는 이 대화에서 좋았던 여행지와 기억나는 주요 명소에 대해 이야기했습니다. ...   \n",
       "\n",
       "         num_utterances_per_speaker first_speaker first_speaker_summary  \n",
       "0  {'SD2000002': 8, 'SD2000001': 6}     SD2000001           [SD2000001]  "
      ]
     },
     "execution_count": 101,
     "metadata": {},
     "output_type": "execute_result"
    }
   ],
   "source": [
    "train_df.head(1)"
   ]
  },
  {
   "cell_type": "markdown",
   "metadata": {},
   "source": [
    "- output summary의 맨 첫번째 speaker 요약에 해당하는 speaker 특징"
   ]
  },
  {
   "cell_type": "code",
   "execution_count": 108,
   "metadata": {},
   "outputs": [
    {
     "name": "stdout",
     "output_type": "stream",
     "text": [
      "True     460\n",
      "False     46\n",
      "Name: count, dtype: int64\n",
      "True     95\n",
      "False     7\n",
      "Name: count, dtype: int64\n"
     ]
    }
   ],
   "source": [
    "def compare_speaker(row):\n",
    "    \"\"\"\n",
    "    Compare the first speaker in the conversation and the first speaker in the speaker summary.\n",
    "    \"\"\"\n",
    "    # Version 1\n",
    "    # if row['first_speaker_summary'] == []:\n",
    "    #     return False\n",
    "    # return row['first_speaker_summary'][0] == row['first_speaker']\n",
    "    \n",
    "    # Version 2\n",
    "    head_speaker = re.findall(r'SD\\d{7}', row['output'])[0]\n",
    "    return head_speaker == row['first_speaker']\n",
    "\n",
    "\n",
    "print(train_df.apply(compare_speaker, axis = 1).value_counts())\n",
    "print(dev_df.apply(compare_speaker, axis = 1).value_counts())"
   ]
  },
  {
   "cell_type": "code",
   "execution_count": null,
   "metadata": {},
   "outputs": [],
   "source": []
  },
  {
   "cell_type": "code",
   "execution_count": 110,
   "metadata": {},
   "outputs": [
    {
     "data": {
      "text/plain": [
       "26     [SD2000869는, SD2000870의]\n",
       "475    [SD2110574는, SD2100573도]\n",
       "Name: output, dtype: object"
      ]
     },
     "execution_count": 110,
     "metadata": {},
     "output_type": "execute_result"
    }
   ],
   "source": [
    "reversed_speaker_train_df = train_df[~train_df.apply(compare_speaker, axis = 1)]\n",
    "def check_different_speaker(text:str):\n",
    "    \"\"\"\n",
    "    Check if the first speaker in the conversation and the first speaker in the speaker summary are different.\n",
    "    \"\"\"\n",
    "    headers = re.findall(r'SD\\d{7}[은는]{1}', text)\n",
    "    if len(headers) > 1:\n",
    "        headers = set([header[:9] for header in headers])\n",
    "        if len(headers) > 1:\n",
    "            return False\n",
    "        else:\n",
    "            return True\n",
    "    else:\n",
    "        return True\n",
    "reversed_speaker_train_df[reversed_speaker_train_df['output'].apply(check_different_speaker)]['output'].apply(lambda x: re.findall(r'SD\\d{7}\\w+', x))"
   ]
  },
  {
   "cell_type": "code",
   "execution_count": 91,
   "metadata": {},
   "outputs": [
    {
     "data": {
      "text/plain": [
       "'두 화자는 이 대화에서 자식을 낳는 것에 대해 말했습니다. SD2000869는 본인이 딸들을 낳아 인생의 큰 기쁨이었다며 자녀들도 자식을 낳아 자녀로 인한 행복함을 누렸으면 좋겠다고 말했습니다. SD2000870의 지인은 자녀가 예쁘지만 키우면서 너무 힘들었기 때문에 자식을 낳는 것에 신중해야 하고 안 낳아도 된다고 생각하고 있다고 말했습니다.'"
      ]
     },
     "execution_count": 91,
     "metadata": {},
     "output_type": "execute_result"
    }
   ],
   "source": [
    "train_df['output'].iloc[26]"
   ]
  },
  {
   "cell_type": "code",
   "execution_count": 93,
   "metadata": {},
   "outputs": [
    {
     "data": {
      "text/plain": [
       "[{'speaker': 'SD2100573',\n",
       "  'utterance': '그리고 우리 하와이 말고 제주도가 지금 당장 닥쳐 있잖아. 제주도 일정이 내가 너랑 거의 비슷하게 가는 거 같던데 맞나?'},\n",
       " {'speaker': 'SD2110574',\n",
       "  'utterance': '난 언니가 언제 오는지는 모르겠고 우리가 오후 3시 비행기인 건 알고 있어.'},\n",
       " {'speaker': 'SD2100573',\n",
       "  'utterance': '엄마가 너랑 나 비행기 시간이 비슷하게 해서 픽업을 한다고 했거든? 해서 아마 비슷할 거 같아.'},\n",
       " {'speaker': 'SD2110574',\n",
       "  'utterance': '그러면은 비슷한 시간에 도착하겠다 내가 알기론 우리 도착하고 바로 거의 저녁 먹고 그냥 그날 일정은 그렇게 끝이고 다음 날에 우리 이거 사진작가 와 가지고 제주도 예쁜 곳 돌아다니면서 사진 많이 찍는다고 했었어.'},\n",
       " {'speaker': 'SD2100573',\n",
       "  'utterance': '맞아 엄마가 그거 준비한다고 티셔츠도 사고 너한테 신발도 사 오라고 하고 그랬는데 특히 티셔츠는 너무 추워져서 못 입을 거 같아 사진 찍을 때.'},\n",
       " {'speaker': 'SD2110574', 'utterance': '근데 제주도는 한 20도쯤 된대 그때.'},\n",
       " {'speaker': 'SD2100573', 'utterance': '야 진짜 지금 보다 1주일 뒨데 그렇게 따뜻하다니 신기하다.'},\n",
       " {'speaker': 'SD2110574',\n",
       "  'utterance': '그리고 그냥 외투도 여러 가지 겹쳐 입 걸쳐서 입고 그러면은 괜찮지 않을까 싶어.'},\n",
       " {'speaker': 'SD2100573', 'utterance': '이번에 엄마가 보내준 것도 가족 여행용으로 보내 준 외투야?'},\n",
       " {'speaker': 'SD2110574', 'utterance': '어떤 거?'},\n",
       " {'speaker': 'SD2100573', 'utterance': '아이 아이보 베이지색 외투'},\n",
       " {'speaker': 'SD2110574', 'utterance': '그거는 아닌 거 같아 그냥 그거는 싸서?'},\n",
       " {'speaker': 'SD2100573',\n",
       "  'utterance': '그러면 이번에 여행 갔을 때 사진 찍는 게 다 야외야 스튜디오 샷 샷도 있어?'},\n",
       " {'speaker': 'SD2110574',\n",
       "  'utterance': '그거는 아닌 거 같아 다 야외만 있는 거 같아. 예쁜 스폿을 돌아다니면서 찍는다고 했었어.'},\n",
       " {'speaker': 'SD2100573', 'utterance': '엄마는 그런 사진작가를 어떻게 콘택트 했을까?'},\n",
       " {'speaker': 'SD2110574',\n",
       "  'utterance': '엄마가 인스타그램에서 괜찮은 작가 사진이 있어 가지고 작가를 직접 연락했다고 했어.'},\n",
       " {'speaker': 'SD2100573',\n",
       "  'utterance': '진짜? 나도 검색 인스타그램으로 안 하는데 엄마가 되게 센스 있으시다.'},\n",
       " {'speaker': 'SD2110574', 'utterance': '신세대야.'},\n",
       " {'speaker': 'SD2100573', 'utterance': '요즘 신세대들은 다 인스타그램이랑 유튜브로 검색한다고 하더라고.'},\n",
       " {'speaker': 'SD2110574',\n",
       "  'utterance': '내가 제주도에 가면은 오빠랑은 이거는 진짜 꼭 먹어야 된다고 엄청 신신당부를 했는데 엄마가 이미 가기로 한 식당들을 다 잡아 놓은 거야. 다 예약까지 다 해 놔가지고 오빠가 조금은 아쉬워하고 있어.'},\n",
       " {'speaker': 'SD2100573',\n",
       "  'utterance': '맞아 근데 엄마랑 여행을 다니면 항상 풀 세팅에 참여해야 되는 게 난 조금 아쉬운 거 같아.'},\n",
       " {'speaker': 'SD2110574',\n",
       "  'utterance': '근데 엄마는 엄마 나름 열심히 알아보고서 여행 일정을 다 짜는 거니까 또 이해가 가기도 해 어쩌겠어.'},\n",
       " {'speaker': 'SD2100573',\n",
       "  'utterance': '엄마가 그런 거 찾는 게 엄마의 기쁨 이어 가지고 그러시는 거 같은데 이번에 통영 여행 갔을 때도 엄마가 다 짜 놓으셨더라고. 그래서 약간 반쯤 정 자고 있는 상태로 모든 걸 이렇게 따라갔던 거 같아 이렇게 또렷하게 난 어디에 있지 이거를 그냥 잘 모르게'},\n",
       " {'speaker': 'SD2110574',\n",
       "  'utterance': '이번에 제주도 가서는 나는 먹는 것도 진짜 여행에 중요하니까 먹는 거를 나는 꼭 벵에돔을 먹고 싶다. 그리고 난 쥐치와 쥐치의 간을 꼭 먹고 싶다. 그렇게 얘기를 해 놨는데 엄마가 가기로 약속한 횟집은 횟집에서는 그런 걸 취급을 잘 안 하나 봐. 그래 가지고 우리가 그날 꼭 그거 들어올 수 있게 해달라고 미리 전화까지 해서 얘기해 놨어.'},\n",
       " {'speaker': 'SD2100573', 'utterance': '진짜 그러면 거기서 알겠대?'},\n",
       " {'speaker': 'SD2110574', 'utterance': '그러니까 가끔 들어오던데 해 볼게요 이렇게 얘기는 하더라고.'},\n",
       " {'speaker': 'SD2100573',\n",
       "  'utterance': '나는 회에 별로 조예가 없어 가지고 그렇게 여행 가면은 지역의 특산 회 같은 거를 잘 알고 찾아 먹는 사람들이 부럽더라. 아니면 제철 회? 이런 걸 사람들이 잘 먹더라고.'},\n",
       " {'speaker': 'SD2110574',\n",
       "  'utterance': '나도 그런 거 진짜 하나도 모르는데 name 오빠랑 나랑 둘이서 여행을 한국으로 자주 못 오니까 유튜브로 엄청 검색해. 그래 가지고 제주도에 가면 먹어야 될 회 제철 이번 가을에 오신다면 꼭 가보세요 이런 거를 꼭 찾아보고 가 가고 싶 가려고 찾아보지.'},\n",
       " {'speaker': 'SD2100573',\n",
       "  'utterance': '맞아 유튜브로 뭔가 어디 갈지 먼저 검색해 가지고 그런 거 구경하는 게 또 여행 가기 전에 재미인 거 같아.'},\n",
       " {'speaker': 'SD2110574',\n",
       "  'utterance': '한국 음식을 미국에서 맛있게 잘 먹을 수가 없으니까 특히 그런 횟감들은 진짜 미국에서 절대 못 먹으니까 이번에 여행 가면은 진짜 꼭 먹어야지 싶으니까 꼭 먹어야 돼 이런 생각 때문에 내가 그걸 엄청 검색을 해 봤지.'},\n",
       " {'speaker': 'SD2100573', 'utterance': '그렇구나. 쥐치가 쥐포 만드는 건데 그거의 간을 먹어?'},\n",
       " {'speaker': 'SD2110574',\n",
       "  'utterance': '간이 되게 별미래 그래 가지고 간으로 소스를 만들어서 거기에 쥐치를 찍어 먹는대.'},\n",
       " {'speaker': 'SD2100573',\n",
       "  'utterance': '너무 약간 쥐포라고 생각하면 쥐치가 굉장히 작은데 간을 먹다니 뭔가 충격적이야.'},\n",
       " {'speaker': 'SD2110574', 'utterance': '벼룩의 간 같은 느낌인 거야?'},\n",
       " {'speaker': 'SD2100573',\n",
       "  'utterance': '맞아 그런 느낌이야. 제주도 이번에 가면 승마 또 하면은 너무 좋을 거 같은데. 그런 시간은 아마 없겠지?'},\n",
       " {'speaker': 'SD2110574', 'utterance': '그런 거 같아 승마는 그때 재밌었어?'},\n",
       " {'speaker': 'SD2100573',\n",
       "  'utterance': '작년에 제주도 갔을 때는 승마 선생님이 정말 얘를 승마의 맛을 보여주겠다 이런 느낌이어 가지고 되게 많이 배웠어. 그래서 한 시간 반을 했는데도 되게 재밌었는데 이번에 갔을 때는 선생님이 바뀌었더라고.'},\n",
       " {'speaker': 'SD2110574',\n",
       "  'utterance': '그러면 그런 승마를 배울 때 나도 같이 껴서 했으면 좋았을 뻔했다.'}]"
      ]
     },
     "execution_count": 93,
     "metadata": {},
     "output_type": "execute_result"
    }
   ],
   "source": [
    "train_df['conversation'].iloc[475]"
   ]
  },
  {
   "cell_type": "code",
   "execution_count": 92,
   "metadata": {},
   "outputs": [
    {
     "data": {
      "text/plain": [
       "'두 화자는 이 대화에서 엄마와 함께 가는 제주도 여행에 관해 이야기했습니다. 두 화자는 오후 3시 비행기를 타고 제주도에 도착해 저녁을 먹고 다음 날 엄마가 섭외한 사진 작가와 함께 제주도 야외 예쁜 장소들을 돌아다니며 사진을 찍는다고 이야기했습니다. SD2110574는 제주도에 가면 꼭 먹고 싶은 음식이 있었는데 엄마가 미리 식당을 예약해 놓아서 아쉽다고 했으며 SD2100573도 엄마의 모든 일정에 참여하는 것이 싫다고 이야기했으며 제주도에 가면 승마를 하고 싶다고 말했습니다.'"
      ]
     },
     "execution_count": 92,
     "metadata": {},
     "output_type": "execute_result"
    }
   ],
   "source": [
    "train_df['output'].iloc[475]"
   ]
  },
  {
   "cell_type": "markdown",
   "metadata": {},
   "source": [
    "- train의 [475] [SD2110574는, SD2100573도] 에서 \n",
    "    - SD2100573도 -> SD2100573은"
   ]
  },
  {
   "cell_type": "code",
   "execution_count": 109,
   "metadata": {},
   "outputs": [
    {
     "name": "stdout",
     "output_type": "stream",
     "text": [
      "True     95\n",
      "False     7\n",
      "Name: count, dtype: int64\n"
     ]
    },
    {
     "data": {
      "text/html": [
       "<div>\n",
       "<style scoped>\n",
       "    .dataframe tbody tr th:only-of-type {\n",
       "        vertical-align: middle;\n",
       "    }\n",
       "\n",
       "    .dataframe tbody tr th {\n",
       "        vertical-align: top;\n",
       "    }\n",
       "\n",
       "    .dataframe thead th {\n",
       "        text-align: right;\n",
       "    }\n",
       "</style>\n",
       "<table border=\"1\" class=\"dataframe\">\n",
       "  <thead>\n",
       "    <tr style=\"text-align: right;\">\n",
       "      <th></th>\n",
       "      <th>id</th>\n",
       "      <th>conversation</th>\n",
       "      <th>subject_keyword</th>\n",
       "      <th>speakers</th>\n",
       "      <th>output</th>\n",
       "      <th>num_utterances_per_speaker</th>\n",
       "      <th>first_speaker</th>\n",
       "      <th>first_speaker_summary</th>\n",
       "    </tr>\n",
       "  </thead>\n",
       "  <tbody>\n",
       "  </tbody>\n",
       "</table>\n",
       "</div>"
      ],
      "text/plain": [
       "Empty DataFrame\n",
       "Columns: [id, conversation, subject_keyword, speakers, output, num_utterances_per_speaker, first_speaker, first_speaker_summary]\n",
       "Index: []"
      ]
     },
     "execution_count": 109,
     "metadata": {},
     "output_type": "execute_result"
    }
   ],
   "source": [
    "print(dev_df.apply(compare_speaker, axis = 1).value_counts())\n",
    "reversed_speaker_dev_df = dev_df[~dev_df.apply(compare_speaker, axis = 1)]\n",
    "reversed_speaker_dev_df[reversed_speaker_dev_df['output'].apply(check_different_speaker)]"
   ]
  },
  {
   "cell_type": "markdown",
   "metadata": {},
   "source": [
    "<br/>"
   ]
  },
  {
   "cell_type": "code",
   "execution_count": 65,
   "metadata": {},
   "outputs": [
    {
     "data": {
      "text/plain": [
       "first_speaker_summary\n",
       "2    470\n",
       "3     30\n",
       "0      4\n",
       "4      2\n",
       "Name: count, dtype: int64"
      ]
     },
     "execution_count": 65,
     "metadata": {},
     "output_type": "execute_result"
    }
   ],
   "source": [
    "train_df['first_speaker_summary'].apply(lambda x : len(x)).value_counts()"
   ]
  },
  {
   "cell_type": "code",
   "execution_count": 61,
   "metadata": {},
   "outputs": [
    {
     "data": {
      "text/plain": [
       "first_speaker_summary\n",
       "2    101\n",
       "3      1\n",
       "Name: count, dtype: int64"
      ]
     },
     "execution_count": 61,
     "metadata": {},
     "output_type": "execute_result"
    }
   ],
   "source": [
    "dev_df['first_speaker_summary'].apply(lambda x : len(x)).value_counts()"
   ]
  },
  {
   "cell_type": "markdown",
   "metadata": {},
   "source": [
    "<br/>\n",
    "\n",
    "<br/>"
   ]
  },
  {
   "cell_type": "code",
   "execution_count": 122,
   "metadata": {},
   "outputs": [
    {
     "data": {
      "text/plain": [
       "'두 화자는 이 대화에서 생일 선물에 대해 말했습니다. SD2000859는 본인 동생도 SD2000860과 비슷하게 생일인 사람이 직접 밥을 사주는 데 좋은 방식인 것 같다고 했습니다. SD2000860은 생일인 사람이 밥을 사주는 편이며 받기보다 부모님께 감사해야 하는 날이라고 말했습니다. 어릴 때는 상대방처럼 선물 주고받는 걸 좋아했지만 요즘엔 선물을 주기보다는 생일날 함께 하기 위해 밥을 사준다고 말했습니다. 또 화자의 지인들이 생일에 받기보다 부모님께 감사 전화를 하는 것을 보면서 반성했다고 말했습니다.'"
      ]
     },
     "execution_count": 122,
     "metadata": {},
     "output_type": "execute_result"
    }
   ],
   "source": [
    "dev_df[dev_df['first_speaker_summary'].apply(lambda x : len(x)==2)]['output'].iloc[0]"
   ]
  },
  {
   "cell_type": "markdown",
   "metadata": {},
   "source": [
    "### output 두번째 문장에 speaker가 없는 경우\n",
    "- 두 화자 모두 ~ 하다라는 문장이 나오는 경우가 있음"
   ]
  },
  {
   "cell_type": "code",
   "execution_count": 9,
   "metadata": {},
   "outputs": [
    {
     "data": {
      "text/plain": [
       "59                               두 화자 모두 네 가족이라고 이야기했습니다\n",
       "63              두 화자 모두 학교 다닐 때 친구들과의 관계에서 힘들었다고 이야기했습니다\n",
       "261                두 화자 모두 형제와 친하거나 마음을 터 놓지는 않는다고 말했습니다\n",
       "475     두 화자는 오후 3시 비행기를 타고 제주도에 도착해 저녁을 먹고 다음 날 엄마가 ...\n",
       "Name: output, dtype: object"
      ]
     },
     "execution_count": 9,
     "metadata": {},
     "output_type": "execute_result"
    }
   ],
   "source": [
    "train_df[train_df['first_speaker_summary'].apply(lambda x : len(x) == 0)]['output'].apply(lambda x : x.split('.')[1])"
   ]
  },
  {
   "cell_type": "code",
   "execution_count": 42,
   "metadata": {},
   "outputs": [
    {
     "data": {
      "text/plain": [
       "[{'speaker': 'SD2100573',\n",
       "  'utterance': '그리고 우리 하와이 말고 제주도가 지금 당장 닥쳐 있잖아. 제주도 일정이 내가 너랑 거의 비슷하게 가는 거 같던데 맞나?'},\n",
       " {'speaker': 'SD2110574',\n",
       "  'utterance': '난 언니가 언제 오는지는 모르겠고 우리가 오후 3시 비행기인 건 알고 있어.'},\n",
       " {'speaker': 'SD2100573',\n",
       "  'utterance': '엄마가 너랑 나 비행기 시간이 비슷하게 해서 픽업을 한다고 했거든? 해서 아마 비슷할 거 같아.'},\n",
       " {'speaker': 'SD2110574',\n",
       "  'utterance': '그러면은 비슷한 시간에 도착하겠다 내가 알기론 우리 도착하고 바로 거의 저녁 먹고 그냥 그날 일정은 그렇게 끝이고 다음 날에 우리 이거 사진작가 와 가지고 제주도 예쁜 곳 돌아다니면서 사진 많이 찍는다고 했었어.'},\n",
       " {'speaker': 'SD2100573',\n",
       "  'utterance': '맞아 엄마가 그거 준비한다고 티셔츠도 사고 너한테 신발도 사 오라고 하고 그랬는데 특히 티셔츠는 너무 추워져서 못 입을 거 같아 사진 찍을 때.'},\n",
       " {'speaker': 'SD2110574', 'utterance': '근데 제주도는 한 20도쯤 된대 그때.'},\n",
       " {'speaker': 'SD2100573', 'utterance': '야 진짜 지금 보다 1주일 뒨데 그렇게 따뜻하다니 신기하다.'},\n",
       " {'speaker': 'SD2110574',\n",
       "  'utterance': '그리고 그냥 외투도 여러 가지 겹쳐 입 걸쳐서 입고 그러면은 괜찮지 않을까 싶어.'},\n",
       " {'speaker': 'SD2100573', 'utterance': '이번에 엄마가 보내준 것도 가족 여행용으로 보내 준 외투야?'},\n",
       " {'speaker': 'SD2110574', 'utterance': '어떤 거?'},\n",
       " {'speaker': 'SD2100573', 'utterance': '아이 아이보 베이지색 외투'},\n",
       " {'speaker': 'SD2110574', 'utterance': '그거는 아닌 거 같아 그냥 그거는 싸서?'},\n",
       " {'speaker': 'SD2100573',\n",
       "  'utterance': '그러면 이번에 여행 갔을 때 사진 찍는 게 다 야외야 스튜디오 샷 샷도 있어?'},\n",
       " {'speaker': 'SD2110574',\n",
       "  'utterance': '그거는 아닌 거 같아 다 야외만 있는 거 같아. 예쁜 스폿을 돌아다니면서 찍는다고 했었어.'},\n",
       " {'speaker': 'SD2100573', 'utterance': '엄마는 그런 사진작가를 어떻게 콘택트 했을까?'},\n",
       " {'speaker': 'SD2110574',\n",
       "  'utterance': '엄마가 인스타그램에서 괜찮은 작가 사진이 있어 가지고 작가를 직접 연락했다고 했어.'},\n",
       " {'speaker': 'SD2100573',\n",
       "  'utterance': '진짜? 나도 검색 인스타그램으로 안 하는데 엄마가 되게 센스 있으시다.'},\n",
       " {'speaker': 'SD2110574', 'utterance': '신세대야.'},\n",
       " {'speaker': 'SD2100573', 'utterance': '요즘 신세대들은 다 인스타그램이랑 유튜브로 검색한다고 하더라고.'},\n",
       " {'speaker': 'SD2110574',\n",
       "  'utterance': '내가 제주도에 가면은 오빠랑은 이거는 진짜 꼭 먹어야 된다고 엄청 신신당부를 했는데 엄마가 이미 가기로 한 식당들을 다 잡아 놓은 거야. 다 예약까지 다 해 놔가지고 오빠가 조금은 아쉬워하고 있어.'},\n",
       " {'speaker': 'SD2100573',\n",
       "  'utterance': '맞아 근데 엄마랑 여행을 다니면 항상 풀 세팅에 참여해야 되는 게 난 조금 아쉬운 거 같아.'},\n",
       " {'speaker': 'SD2110574',\n",
       "  'utterance': '근데 엄마는 엄마 나름 열심히 알아보고서 여행 일정을 다 짜는 거니까 또 이해가 가기도 해 어쩌겠어.'},\n",
       " {'speaker': 'SD2100573',\n",
       "  'utterance': '엄마가 그런 거 찾는 게 엄마의 기쁨 이어 가지고 그러시는 거 같은데 이번에 통영 여행 갔을 때도 엄마가 다 짜 놓으셨더라고. 그래서 약간 반쯤 정 자고 있는 상태로 모든 걸 이렇게 따라갔던 거 같아 이렇게 또렷하게 난 어디에 있지 이거를 그냥 잘 모르게'},\n",
       " {'speaker': 'SD2110574',\n",
       "  'utterance': '이번에 제주도 가서는 나는 먹는 것도 진짜 여행에 중요하니까 먹는 거를 나는 꼭 벵에돔을 먹고 싶다. 그리고 난 쥐치와 쥐치의 간을 꼭 먹고 싶다. 그렇게 얘기를 해 놨는데 엄마가 가기로 약속한 횟집은 횟집에서는 그런 걸 취급을 잘 안 하나 봐. 그래 가지고 우리가 그날 꼭 그거 들어올 수 있게 해달라고 미리 전화까지 해서 얘기해 놨어.'},\n",
       " {'speaker': 'SD2100573', 'utterance': '진짜 그러면 거기서 알겠대?'},\n",
       " {'speaker': 'SD2110574', 'utterance': '그러니까 가끔 들어오던데 해 볼게요 이렇게 얘기는 하더라고.'},\n",
       " {'speaker': 'SD2100573',\n",
       "  'utterance': '나는 회에 별로 조예가 없어 가지고 그렇게 여행 가면은 지역의 특산 회 같은 거를 잘 알고 찾아 먹는 사람들이 부럽더라. 아니면 제철 회? 이런 걸 사람들이 잘 먹더라고.'},\n",
       " {'speaker': 'SD2110574',\n",
       "  'utterance': '나도 그런 거 진짜 하나도 모르는데 name 오빠랑 나랑 둘이서 여행을 한국으로 자주 못 오니까 유튜브로 엄청 검색해. 그래 가지고 제주도에 가면 먹어야 될 회 제철 이번 가을에 오신다면 꼭 가보세요 이런 거를 꼭 찾아보고 가 가고 싶 가려고 찾아보지.'},\n",
       " {'speaker': 'SD2100573',\n",
       "  'utterance': '맞아 유튜브로 뭔가 어디 갈지 먼저 검색해 가지고 그런 거 구경하는 게 또 여행 가기 전에 재미인 거 같아.'},\n",
       " {'speaker': 'SD2110574',\n",
       "  'utterance': '한국 음식을 미국에서 맛있게 잘 먹을 수가 없으니까 특히 그런 횟감들은 진짜 미국에서 절대 못 먹으니까 이번에 여행 가면은 진짜 꼭 먹어야지 싶으니까 꼭 먹어야 돼 이런 생각 때문에 내가 그걸 엄청 검색을 해 봤지.'},\n",
       " {'speaker': 'SD2100573', 'utterance': '그렇구나. 쥐치가 쥐포 만드는 건데 그거의 간을 먹어?'},\n",
       " {'speaker': 'SD2110574',\n",
       "  'utterance': '간이 되게 별미래 그래 가지고 간으로 소스를 만들어서 거기에 쥐치를 찍어 먹는대.'},\n",
       " {'speaker': 'SD2100573',\n",
       "  'utterance': '너무 약간 쥐포라고 생각하면 쥐치가 굉장히 작은데 간을 먹다니 뭔가 충격적이야.'},\n",
       " {'speaker': 'SD2110574', 'utterance': '벼룩의 간 같은 느낌인 거야?'},\n",
       " {'speaker': 'SD2100573',\n",
       "  'utterance': '맞아 그런 느낌이야. 제주도 이번에 가면 승마 또 하면은 너무 좋을 거 같은데. 그런 시간은 아마 없겠지?'},\n",
       " {'speaker': 'SD2110574', 'utterance': '그런 거 같아 승마는 그때 재밌었어?'},\n",
       " {'speaker': 'SD2100573',\n",
       "  'utterance': '작년에 제주도 갔을 때는 승마 선생님이 정말 얘를 승마의 맛을 보여주겠다 이런 느낌이어 가지고 되게 많이 배웠어. 그래서 한 시간 반을 했는데도 되게 재밌었는데 이번에 갔을 때는 선생님이 바뀌었더라고.'},\n",
       " {'speaker': 'SD2110574',\n",
       "  'utterance': '그러면 그런 승마를 배울 때 나도 같이 껴서 했으면 좋았을 뻔했다.'}]"
      ]
     },
     "execution_count": 42,
     "metadata": {},
     "output_type": "execute_result"
    }
   ],
   "source": [
    "train_df[train_df['first_speaker_summary'].apply(lambda x : len(x) == 0)]['conversation'].iloc[3]"
   ]
  },
  {
   "cell_type": "code",
   "execution_count": 43,
   "metadata": {},
   "outputs": [
    {
     "data": {
      "text/plain": [
       "'## 전반적인 요약\\n두 화자는 이 대화에서 엄마와 함께 가는 제주도 여행에 관해 이야기했습니다. 두 화자는 오후 3시 비행기를 타고 제주도에 도착해 저녁을 먹고 다음 날 엄마가 섭외한 사진 작가와 함께 제주도 야외 예쁜 장소들을 돌아다니며 사진을 찍는다고 이야기했습니다.\\n\\n## SD2110574 요약\\nSD2110574는 제주도에 가면 꼭 먹고 싶은 음식이 있었는데 엄마가 미리 식당을 예약해 놓아서 아쉽다고 했으며\\n\\n## SD2100573 요약\\nSD2100573도 엄마의 모든 일정에 참여하는 것이 싫다고 이야기했으며 제주도에 가면 승마를 하고 싶다고 말했습니다.'"
      ]
     },
     "execution_count": 43,
     "metadata": {},
     "output_type": "execute_result"
    }
   ],
   "source": [
    "train_df[train_df['first_speaker_summary'].apply(lambda x : len(x) == 0)]['output'].iloc[3]"
   ]
  },
  {
   "cell_type": "code",
   "execution_count": 119,
   "metadata": {},
   "outputs": [
    {
     "data": {
      "text/plain": [
       "Series([], Name: output, dtype: object)"
      ]
     },
     "execution_count": 119,
     "metadata": {},
     "output_type": "execute_result"
    }
   ],
   "source": [
    "dev_df[dev_df['first_spekaer_summary'].apply(lambda x : len(x) == 0)]['output'].apply(lambda x : x.split('.')[1])"
   ]
  },
  {
   "cell_type": "markdown",
   "metadata": {},
   "source": [
    "### output 두 번째 문장에 speaker가 2개 있는 경우"
   ]
  },
  {
   "cell_type": "code",
   "execution_count": 10,
   "metadata": {},
   "outputs": [
    {
     "data": {
      "text/plain": [
       "23      SD2000042는 SD2000043의 블로그에 올라온 토르티야 피자 이야기를 보...\n",
       "28      SD2000871은 SD2000872와 같이 음악 방송을 보며 크래비티 멤버 중 ...\n",
       "34          SD2000879는 SD2000878에게 제주도에서 삶의 고충에 대해 물었습니다\n",
       "254     SD2002188은 SD2002191에게 서방님 때문에 스트레스 받았는데 괜찮은지...\n",
       "255     SD2002191은 SD2002188에게 가족이라면 제일 떠오르는 게 뭔지 물었고...\n",
       "258     SD2002231은 SD2002232에게 건강을 위해 챙겨 먹는 음식과 보조제, ...\n",
       "262     SD2002290은 SD2002291에게 소심하지만, 친한 사람 중에서 활발하고 ...\n",
       "330     SD2100471은 가지고 있는 아파트 지분을 팔고 상가를 사서 세를 줄까 생각하...\n",
       "361     SD2100485는 SD2100486에게 구직 사이트에서 취업 자리를 찾아 면접을...\n",
       "377     SD2100491은 SD2100492가 해준 그릭요거트가 맛있었다며 그 이후로 그...\n",
       "379     SD2100492는 SD2100491에게 모가디슈를 같이 본 것을 기억하는지를 물...\n",
       "388     SD2100497은 최근에 취업을 해서 초반에는 얼떨떨했지만 지금은 취업이라는 것...\n",
       "389          SD2100498은 SD2100497에게 공기업 취업에 대한 생각을 물었습니다\n",
       "398     SD2100502는 SD2100501에게 금연한 이유와 식이요법 지속 여부에 대해...\n",
       "399     SD2100502는 SD2100501에게 다이어트 시작 여부와 건강에 이상은 없는...\n",
       "409     SD2100516은 SD2100515에게 직장에서는 어떤 휴가가 있는지 물었고 남...\n",
       "410        SD2100517은 SD2100518이 돈을 따라가는 모습이 싫다고 이야기했습니다\n",
       "411     SD2100518은 SD2100517에게 위험 부담이 클 뿐더러 숍을 인수하면 수...\n",
       "412     SD2100517은 SD2100518에게 자신을 데려가 줬던 초밥집 기억나는지 물...\n",
       "413     SD2100517은 SD2100518에게 어제 검은색 치킨이 맛있어 보여서 먹었는...\n",
       "414     SD2100524는 SD2110523에게 티브이 프로그램 중 오징어 게임을 본 적...\n",
       "415     SD2100524는 SD2110523에 이번에 넷플릭스에서 나오는 드라마 중에 지...\n",
       "418     SD2100528은 SD2100527에게 쇼미더머니를 봤는지, 거기서 카운팅 스타...\n",
       "466     SD2100569는 SD2100570에게 어떤 가수를 좋아하는지, 이유가 무엇인지...\n",
       "474     SD2110574는 SD2100573에게 휴가지로 하와이와 샌프란시스코 중에 고르...\n",
       "486               SD2100583은 SD2100584에게 그동안의 거주지를 물었습니다\n",
       "489     SD2100584는 SD2100583에게 배우자의 기준에 대해 물어보며, 자신은 ...\n",
       "492     SD2100585는 SD2100586이 제안 받은 학습지 교사에 대해 근무 조건과...\n",
       "495     SD2100589가 SD2100590에게 스쿼트, 엑스텐션, 레그 프레스, 3분할...\n",
       "502     SD2100598은 행복 주택의 보증금에 대해 SD2100597에게 물었으며, 대...\n",
       "Name: output, dtype: object"
      ]
     },
     "execution_count": 10,
     "metadata": {},
     "output_type": "execute_result"
    }
   ],
   "source": [
    "train_df[train_df['first_spekaer_summary'].apply(lambda x : len(x) == 2)]['output'].apply(lambda x : x.split('.')[1])"
   ]
  },
  {
   "cell_type": "markdown",
   "metadata": {},
   "source": [
    "### output 두 번째 문장에 speaker가 3번 등장하는 경우"
   ]
  },
  {
   "cell_type": "code",
   "execution_count": 13,
   "metadata": {},
   "outputs": [
    {
     "data": {
      "text/plain": [
       "' SD2100503은 SD2110504에게 결혼 계획을 물으며 SD2110504가 현재 사귀는 사람과 결혼하면 결혼식 사회 보기로 했다고 말했습니다'"
      ]
     },
     "execution_count": 13,
     "metadata": {},
     "output_type": "execute_result"
    }
   ],
   "source": [
    "train_df[train_df.apply(lambda x : len(x['first_spekaer_summary']) == 3, axis = 1)]['output'].apply(lambda x : x.split('.')[1]).iloc[0]"
   ]
  },
  {
   "cell_type": "markdown",
   "metadata": {},
   "source": [
    "<br/>\n",
    "\n",
    "<br/>"
   ]
  },
  {
   "cell_type": "markdown",
   "metadata": {},
   "source": [
    "## output 속 \"SD{7}[은는]{1}이 등장하는 개수 파악\n",
    "- speaker별 요약을 구분하기 위해"
   ]
  },
  {
   "cell_type": "code",
   "execution_count": 65,
   "metadata": {},
   "outputs": [],
   "source": [
    "def find_speaker_in_output(row):\n",
    "    \"\"\"\n",
    "    Find the speaker in the output.\n",
    "    \"\"\"\n",
    "    headers = re.findall(r'SD\\d{7}[은는]{1}', row['output'])\n",
    "    return headers\n",
    "\n",
    "train_df['headers'] = train_df.apply(find_speaker_in_output, axis = 1)"
   ]
  },
  {
   "cell_type": "code",
   "execution_count": 66,
   "metadata": {},
   "outputs": [
    {
     "data": {
      "text/plain": [
       "2    476\n",
       "3     17\n",
       "1      7\n",
       "0      5\n",
       "4      1\n",
       "Name: count, dtype: int64"
      ]
     },
     "execution_count": 66,
     "metadata": {},
     "output_type": "execute_result"
    }
   ],
   "source": [
    "train_df.apply(lambda x : len(x['headers']), axis = 1).value_counts()"
   ]
  },
  {
   "cell_type": "code",
   "execution_count": 23,
   "metadata": {},
   "outputs": [
    {
     "data": {
      "text/plain": [
       "True    475\n",
       "Name: count, dtype: int64"
      ]
     },
     "execution_count": 23,
     "metadata": {},
     "output_type": "execute_result"
    }
   ],
   "source": [
    "# output 속 \"SD{7}[은는]{1}이 등장하는 개수가 2개인 경우, 이 두 개의 speaker가 서로 다른지 확인\n",
    "train_df[train_df.apply(lambda x : len(x['headers']) == 2, axis = 1)].apply(lambda x : x['headers'][0][:-1] != x['headers'][1][:-1], axis = 1).value_counts()"
   ]
  },
  {
   "cell_type": "code",
   "execution_count": 75,
   "metadata": {},
   "outputs": [
    {
     "data": {
      "text/plain": [
       "2    100\n",
       "1      1\n",
       "3      1\n",
       "Name: count, dtype: int64"
      ]
     },
     "execution_count": 75,
     "metadata": {},
     "output_type": "execute_result"
    }
   ],
   "source": [
    "dev_df['headers'] = dev_df.apply(find_speaker_in_output, axis = 1)\n",
    "dev_df.apply(lambda x : len(x['headers']), axis = 1).value_counts()"
   ]
  },
  {
   "cell_type": "code",
   "execution_count": 24,
   "metadata": {},
   "outputs": [
    {
     "data": {
      "text/plain": [
       "True    100\n",
       "Name: count, dtype: int64"
      ]
     },
     "execution_count": 24,
     "metadata": {},
     "output_type": "execute_result"
    }
   ],
   "source": [
    "# output 속 \"SD{7}[은는]{1}이 등장하는 개수가 2개인 경우, 이 두 개의 speaker가 서로 다른지 확인\n",
    "dev_df[dev_df.apply(lambda x : len(x['headers']) == 2, axis = 1)].apply(lambda x : x['headers'][0][:-1] != x['headers'][1][:-1], axis = 1).value_counts()"
   ]
  },
  {
   "cell_type": "markdown",
   "metadata": {},
   "source": [
    "- [DEV] output 속 \"SD{7}[은는]{1}이 등장하는 개수가\n",
    "\n",
    "- 1개인 경우\n",
    "    - [45] [`SD2000786의`, `SD2000788은`]\n",
    "\n",
    "- 3개인 경우\n",
    "    - [92] [`SD2000862는`, SD2000862는, `SD2000863은`]"
   ]
  },
  {
   "cell_type": "code",
   "execution_count": 81,
   "metadata": {},
   "outputs": [
    {
     "data": {
      "text/plain": [
       "92    [SD2000862는, SD2000862는, SD2000863은]\n",
       "Name: output, dtype: object"
      ]
     },
     "execution_count": 81,
     "metadata": {},
     "output_type": "execute_result"
    }
   ],
   "source": [
    "dev_df[dev_df['headers'].apply(lambda x : len(x) == 3)]['output'].apply(lambda x : re.findall(r'SD\\d{7}\\w*', x))"
   ]
  },
  {
   "cell_type": "code",
   "execution_count": 85,
   "metadata": {},
   "outputs": [
    {
     "data": {
      "text/plain": [
       "'두 화자는 이 대화에서 엔시티와 방탄소년단에 대해 이야기 했습니다. SD2000862는 엔시티의 보스 착장 중 제복 착장이 멤버들의 피지컬 덕분에 좋았고 터프하게 랩을 하는 마크의 모습이 인상깊었다고 말했습니다. SD2000862는 방탄소년단 타이틀곡 중에 발라드인 봄날 곡을 노래가 가진 의미 때문에 가장 좋아한다고 했습니다. 최근에는 지창욱 배우를 눈여겨 보고 있다고 말했습니다. SD2000863은 엔시티 콘서트에 가 본 적은 없지만 고민하다 안 갔던 적이 있어 후회한다고 했습니다. 방탄소년단의 무대 중 쩔어를 챙겨봣고 그 중 뷔의 탐정 착장과 민윤기의 슈트 착장이 좋았다고 말했습니다.'"
      ]
     },
     "execution_count": 85,
     "metadata": {},
     "output_type": "execute_result"
    }
   ],
   "source": [
    "dev_df[dev_df.apply(lambda x : len(x['headers']) == 3, axis = 1)]['output'].iloc[0]"
   ]
  },
  {
   "cell_type": "markdown",
   "metadata": {},
   "source": [
    "- output 속 \"SD{7}[은는]{1}이 등장하는 개수가 2개인 경우, 이 두 개의 speaker가 서로 다르기에\n",
    "- 이  \"SD{7}[은는]{1}\" 이 speaker 요약의 시작 단어라고 볼 수 있다"
   ]
  },
  {
   "cell_type": "markdown",
   "metadata": {},
   "source": [
    "<br/>\n",
    "\n",
    "<br/>"
   ]
  },
  {
   "cell_type": "markdown",
   "metadata": {},
   "source": [
    "- output 속 SD{7} 뒤에 아무런 조사가 붙지 않은 경우 -> 4개 존재\n",
    "\n",
    "    - [242] SD2002060 또한 -> SD2002060도\n",
    "    - [409] 또 SD2100516 자신은 -> 또 자신은\n",
    "    - [440] SD2110545 유기견을 -> 또 유기견을 / 또 SD2100546은 -> SD2100546은\n",
    "    - [494] SD2100589에도 -> SD2100589에게도 / SD2100589 헬스장 -> SD2100589에게 헬스장"
   ]
  },
  {
   "cell_type": "code",
   "execution_count": 119,
   "metadata": {},
   "outputs": [
    {
     "data": {
      "text/plain": [
       "242    [SD2002060 ]\n",
       "409    [SD2100516 ]\n",
       "440    [SD2110545 ]\n",
       "494    [SD2100589 ]\n",
       "dtype: object"
      ]
     },
     "execution_count": 119,
     "metadata": {},
     "output_type": "execute_result"
    }
   ],
   "source": [
    "## output 속 SD{7} 뒤에 아무런 조사가 붙지 않은 경우 -> 4개 존재\n",
    "train_df[train_df['output'].apply(lambda x : re.findall(r'SD\\d{7}\\s', x)).apply(lambda x : False if x == [] else True)].apply(lambda x : re.findall(r'SD\\d{7}\\s', x['output']), axis=1)"
   ]
  },
  {
   "cell_type": "code",
   "execution_count": 153,
   "metadata": {},
   "outputs": [
    {
     "data": {
      "text/plain": [
       "output\n",
       "<re.Match object; span=(278, 289), match='SD2100590에도'>    1\n",
       "Name: count, dtype: int64"
      ]
     },
     "execution_count": 153,
     "metadata": {},
     "output_type": "execute_result"
    }
   ],
   "source": [
    "train_df['output'].apply(lambda x : re.search(r'SD\\d{7}에도', x)).value_counts() # 1개의 예외적인 샘플이므로 에도 -> 에게도 변환"
   ]
  },
  {
   "cell_type": "code",
   "execution_count": 159,
   "metadata": {},
   "outputs": [
    {
     "data": {
      "text/plain": [
       "'두 화자는 이 대화에서 헬스장 등록과 운동에 관해 이야기했습니다. SD2100589는 백신 접종이나 사랑니 치료 등 일들로 헬스장에 빠질 날이 많을 것 같아  헬스장 등록을 고민한다고 말했으며 일수 대비 비용으로 따지면 1달에 9만 원을 지불해야해서 아깝다고 이야기했습니다. 또한 백신 2차 접종 후 3일 정도 쉴지 생각했다고 말했습니다. 운동을 통해 몸 전반적인 부분을 모두 강화하고 싶은데 특히, 가슴과 등을 더 키우고 싶고 체력을 위해 친구들과 함께 달리기도 병행하려고 하고 있다고 말했으며 SD2100590에도 같이 뛰자고 제안했고 구체적인 이야기는 나중에 하기로 했습니다. SD2100590은 처음에는 헬스장을 빼먹지 않고 계속 나갈 수 있으면 금액적으로 나쁘지 않고 운동을 못 하면서 받는 스트레스도 해결된다며 SD2100589를 설득했지만, SD2100589의 백신 접종과 사랑니 일정을 돋고 SD2100589 헬스장 등록을 하지 않아도 괜찮다고 이야기했고 1차 백신을 맞으면 7일 동안 운동을 하지 않아야 한다는 권고 사항에 대해 말하며 2차는 더 조심해야 하며 3일 이상 쉬어야 한다고 말했습니다. 그리고 충분히 쉬어주는 게 장기적으로 도움이 된다고 말하며 백신을 맞고 7일 쉬지 않고 운동했다가 심장 쪽에 이상이 있었던 경험을 공유했습니다. 또한, 컨디션과 체력 관리를 위해 런닝을 다시 시작할 예정이라고 말하며 SD2100589의 제안을 수락했습니다.'"
      ]
     },
     "execution_count": 159,
     "metadata": {},
     "output_type": "execute_result"
    }
   ],
   "source": [
    "train_df['output'].iloc[494]"
   ]
  },
  {
   "cell_type": "code",
   "execution_count": 166,
   "metadata": {},
   "outputs": [
    {
     "data": {
      "text/plain": [
       "0"
      ]
     },
     "execution_count": 166,
     "metadata": {},
     "output_type": "execute_result"
    }
   ],
   "source": [
    "# 전처리 이후\n",
    "post_train_df = pd.read_json('./train.json')\n",
    "\n",
    "post_train_df['output'].apply(lambda x : re.findall(r'SD\\d{7}\\s', x)).apply(lambda x : False if x == [] else True).sum()"
   ]
  },
  {
   "cell_type": "markdown",
   "metadata": {},
   "source": [
    "- dev에 대해 (존재하지 않음)"
   ]
  },
  {
   "cell_type": "code",
   "execution_count": 162,
   "metadata": {},
   "outputs": [
    {
     "data": {
      "text/html": [
       "<div>\n",
       "<style scoped>\n",
       "    .dataframe tbody tr th:only-of-type {\n",
       "        vertical-align: middle;\n",
       "    }\n",
       "\n",
       "    .dataframe tbody tr th {\n",
       "        vertical-align: top;\n",
       "    }\n",
       "\n",
       "    .dataframe thead th {\n",
       "        text-align: right;\n",
       "    }\n",
       "</style>\n",
       "<table border=\"1\" class=\"dataframe\">\n",
       "  <thead>\n",
       "    <tr style=\"text-align: right;\">\n",
       "      <th></th>\n",
       "      <th>id</th>\n",
       "      <th>conversation</th>\n",
       "      <th>subject_keyword</th>\n",
       "      <th>speakers</th>\n",
       "      <th>output</th>\n",
       "      <th>num_utterances_per_speaker</th>\n",
       "      <th>first_speaker</th>\n",
       "      <th>first_spekaer_summary</th>\n",
       "      <th>headers</th>\n",
       "    </tr>\n",
       "  </thead>\n",
       "  <tbody>\n",
       "  </tbody>\n",
       "</table>\n",
       "</div>"
      ],
      "text/plain": [
       "Empty DataFrame\n",
       "Columns: [id, conversation, subject_keyword, speakers, output, num_utterances_per_speaker, first_speaker, first_spekaer_summary, headers]\n",
       "Index: []"
      ]
     },
     "execution_count": 162,
     "metadata": {},
     "output_type": "execute_result"
    }
   ],
   "source": [
    "dev_df[dev_df['output'].apply(lambda x : re.findall(r'SD\\d{7}\\s', x)).apply(lambda x : False if x == [] else True)].apply(lambda x : re.findall(r'SD\\d{7}\\s', x['output']), axis=1)"
   ]
  },
  {
   "cell_type": "markdown",
   "metadata": {},
   "source": [
    "\n",
    "<br/>\n",
    "\n",
    "<br/>\n"
   ]
  },
  {
   "cell_type": "markdown",
   "metadata": {},
   "source": [
    "### output 속 \"SD{7}[은는]{1}이\n",
    "\n",
    "- **0개인 경우**\n",
    "    - [286] SD2002510의, SD2002511의 \n",
    "\n",
    "    - [287] SD2002510의, SD2002511의\n",
    "    \n",
    "    - [402] SD2100509가, SD2100510이\n",
    "\n",
    "    - [403] SD2100509의, SD2100510의\n",
    "\n",
    "    - [457] `SD2100562의`, `SD2100561의`, SD2100562의\n",
    "    \n",
    "    <br/>\n",
    "    \n",
    "    => 서로 다른 \"SD{7}\\w+\"를 각 speaker의 요약문 시작 단어로 간주\n",
    "\n",
    "    <br/>\n",
    "    \n",
    "- **1개인 경우**\n",
    "    - [26] SD2000869는, SD2000870의\n",
    "    - [30] SD2000873은, SD2000874의\n",
    "    - [150] SD2001230은, SD2001229도\n",
    "    - [184] SD2001369는, SD2001368의\n",
    "    - [242] SD2002059는, SD2002060도\n",
    "    - [464] SD2100567은, SD2100568도\n",
    "    - [475] SD2110574는, SD2100573도\\\n",
    "    ~~[495] SD2100589가, SD2100590에게, SD2100590은  # 가 -> 는~~\\\n",
    "\n",
    "    <br/>\n",
    "\n",
    "    => 서로 다른 \"SD{7}\\w+\"를 각 speaker의 요약문 시작 단어로 간주\n",
    "    \n",
    "    <br/>\n",
    "\n",
    "- **3개인 경우** \n",
    "    - [361] [`'SD2100485는'`, 'SD2100486에게', `'SD2100486은'`, 'SD2100486은', 'SD2100485가']\n",
    "\n",
    "    - [380] [`'SD2100494는'`, 'SD2100494는', `'SD2100493은'`]\n",
    "\n",
    "    - [383] [`'SD2100494는'`, 'SD2100494는', `'SD2100493은'`]\n",
    "\n",
    "    - [384] [`'SD2100496은'`, `'SD2100495는'`, 'SD2100495는']\n",
    "\n",
    "\n",
    "    - [389] [`'SD2100498은'`, 'SD2100497에게', 'SD2100498은', 'SD2100497의', `'SD2100497은'`]\n",
    "    - [398] [`'SD2100502는'`, 'SD2100501에게', 'SD2100502는', `'SD2100501은'`]\n",
    "    - [399] [`'SD2100502는'`, 'SD2100501에게', 'SD2100502는', `'SD2100501은'`]\n",
    "    - [408] [`'SD2100516은'`, 'SD2100516는', 'SD2100515에게', `'SD2100515는'`]\n",
    "    - [413] [`'SD2100517은'`, 'SD2100518에게', 'SD2100518에게', 'SD2100517은', `'SD2100518은'`, 'SD2100517에게']\n",
    "    - [419] [`'SD2100528은'`, 'SD2100527에게', 'SD2100528은', 'SD2100528이', `'SD2100527은'`, 'SD2100527이', 'SD2100528에게']\n",
    "    - [421] [`'SD2100528은'`, 'SD2100528은', `'SD2100527은'`]\n",
    "    - [423] [`'SD2100530은'`, 'SD2100530은', `'SD2100529는'`]\n",
    "    - [425] [`'SD2100531은'`, 'SD2100531은', `'SD2100532는'`, 'SD2100531에', 'SD2100531에게', 'SD2100531이']\n",
    "    - [430] [`'SD2100541은'`, 'SD2100542에게', 'SD2100541은', `'SD2100542는'`]\n",
    "    - [438] [`'SD2110545는'`, 'SD2110545는', `'SD2100546은'`]\n",
    "    - [459] [`'SD2100561은'`, `'SD2100562는'`, 'SD2100562는']\n",
    "    - [486] [`'SD2100583은'`, 'SD2100584에게', 'SD2100583은', `'SD2100584는'`, 'SD2100583에게']\n",
    "\n",
    "    <br/>\n",
    "\n",
    "    => 가장 먼저 선택되는 서로 다른 \"SD{7}[은는]{1}\"을 speaker의 요약문 시작 단어로 간주\n",
    "\n",
    "    <br/>\n",
    "\n",
    "\n",
    "- **4개인 경우**\n",
    "    - [414] [`'SD2100524는'`, 'SD2110523에게', 'SD2100524는', 'SD2110523가', 'SD2100524는',`'SD2110523은'`]\n",
    "\n",
    "    <br/>\n",
    "    \n",
    "    => 가장 먼저 선택되는 서로 다른 \"SD{7}[은는]{1}\"을 speaker의 요약문 시작 단어로 간주"
   ]
  },
  {
   "cell_type": "code",
   "execution_count": 73,
   "metadata": {},
   "outputs": [
    {
     "data": {
      "text/plain": [
       "'두 화자는 이 대화에서 티브이 프로그램에 대해 이야기했습니다. SD2100524는 SD2110523에게 티브이 프로그램 중 오징어 게임을 본 적 있는지 물었고, 오징어 게임이 우리나라 말고도 해외에도 인기가 많아서 신기하다고 이야기했습니다. SD2100524는 오징어 게임이 해외에서 인기가 있는 이유는 서바이벌 프로그램에서 보여주지 않았던 감정적인 부분을 많이 다루기 때문이라고 언급했습니다. 또 오징어 게임에서 참가자들이 복도에서 게임하는 것이 제일 인상 깊었다고 이야기했습니다. 한편 SD2110523가 보는 드라마 갯마을 차차차가 어디까지 진행되었는지 물어보면서 요즘 재밌게 보는 드라마가 있는지도 물었습니다. SD2100524는 마이네임 드라마를 봤는데 재밌었다고 이야기했습니다. SD2110523은 오징어 게임은 예고편도 재밌어 보이고 유명한 배우도 나와서 봤는데 처음 보는 형식의 드라마여서 재밌게 느껴져 하루에 다 봤다고 이야기했습니다. 외국에서 인기있는 이유에 대해서는 우리나라 드라마에 비해서 잔인한 장면도 있고 스릴러 같은 느낌이 있어서 좋아하는 것 같다고 이야기했으며, 어릴 때 하던 게임을 드라마에 반영하니 재밌게 느껴지고 또 게임할 때마다 등장한 세트장도 잘 만들어 놓은 것 같다고 했습니다. 또한, 갯마을 차차차는 15화까지 봤는데 초반에는 재밌었지만, 갈수록 재미없다고 이야기했습니다. 다른 드라마로는 요즘 마이네임이 인기 있어서 봤는데 이틀 만에 다 봤지만 마지막에 러브라인이 좀 뜬금없었다고 이야기했습니다.'"
      ]
     },
     "execution_count": 73,
     "metadata": {},
     "output_type": "execute_result"
    }
   ],
   "source": [
    "train_df['output'].iloc[414]"
   ]
  },
  {
   "cell_type": "markdown",
   "metadata": {},
   "source": [
    "<br/>\n",
    "\n",
    "<br/>"
   ]
  },
  {
   "cell_type": "markdown",
   "metadata": {},
   "source": [
    "- 0개인 경우"
   ]
  },
  {
   "cell_type": "code",
   "execution_count": 14,
   "metadata": {},
   "outputs": [
    {
     "data": {
      "text/plain": [
       "286                [SD2002510의, SD2002511의]\n",
       "287                [SD2002510의, SD2002511의]\n",
       "402                [SD2100509가, SD2100510이]\n",
       "403                [SD2100509의, SD2100510의]\n",
       "457    [SD2100562의, SD2100561의, SD2100562의]\n",
       "Name: output, dtype: object"
      ]
     },
     "execution_count": 14,
     "metadata": {},
     "output_type": "execute_result"
    }
   ],
   "source": [
    "train_df[train_df['headers'].apply(lambda x : len(x) == 0)]['output'].apply(lambda x : re.findall(r'SD\\d{7}\\w*', x))"
   ]
  },
  {
   "cell_type": "code",
   "execution_count": 30,
   "metadata": {},
   "outputs": [
    {
     "data": {
      "text/plain": [
       "'두 화자는 이 대화에서 성격의 장단점에 관한 대화를 나눴습니다. SD2002510의 좋은 점은 낙천적이고, 평정심을 잘 유지하는 것이라고 말했습니다. 반면 너무 느긋한 성격 때문에 시간 약속을 어기는 단점이 있고, 지나치게 혼자 고민하는 버릇을 고치고 싶다고 했습니다. SD2002511의 장점은 돈을 잘 내고 금방 잊는 것이라고 말했습니다. 타인의 평가에는 별로 관심이 없고, 스스로 기준에 따라 행동한다고 했습니다. 그리고 체계적인 계획을 세워 그대로 실천하는 편이고, 일할 때만큼은 실수가 없도록 빈틈없는 성격이면 좋겠다고 말했습니다. 또한 타인에게 본인 주장을 강요하는 사람과는 맞지 않는다고 했습니다. 이 밖에 울적할 때는 떡볶이를 먹는다고 말했습니다.'"
      ]
     },
     "execution_count": 30,
     "metadata": {},
     "output_type": "execute_result"
    }
   ],
   "source": [
    "train_df['output'].iloc[287]"
   ]
  },
  {
   "cell_type": "markdown",
   "metadata": {},
   "source": [
    "- 1개인 경우"
   ]
  },
  {
   "cell_type": "code",
   "execution_count": 51,
   "metadata": {},
   "outputs": [
    {
     "data": {
      "text/plain": [
       "26                  [SD2000869는, SD2000870의]\n",
       "30                  [SD2000873은, SD2000874의]\n",
       "150                 [SD2001230은, SD2001229도]\n",
       "184                 [SD2001369는, SD2001368의]\n",
       "242                 [SD2002059는, SD2002060도]\n",
       "464                 [SD2100567은, SD2100568도]\n",
       "475                 [SD2110574는, SD2100573도]\n",
       "495    [SD2100589가, SD2100590에게, SD2100590은]\n",
       "Name: output, dtype: object"
      ]
     },
     "execution_count": 51,
     "metadata": {},
     "output_type": "execute_result"
    }
   ],
   "source": [
    "train_df[train_df['headers'].apply(lambda x : len(x) == 1)]['output'].apply(lambda x : re.findall(r'SD\\d{7}\\w*', x))"
   ]
  },
  {
   "cell_type": "code",
   "execution_count": 31,
   "metadata": {},
   "outputs": [
    {
     "data": {
      "text/plain": [
       "'두 화자는 이 대화에서 운동 방법에 대한 이야기를 나누었습니다. SD2100589가 SD2100590에게 스쿼트, 엑스텐션, 레그 프레스, 3분할 운동, 운동 시 중량, 벤치프레스 등 상하체 및 가슴 운동 루틴에 대해 물어봤습니다. SD2100590은 하체 운동은 3분할로 일주일에 두 번 정도 하는데 보통 스트레칭 후 힘과 체력이 가장 많이 필요한 스쿼트를 가장 먼저 하고 익스텐션은 4에서 5세트 정도 한다고 말했습니다. 스쾃과 달리 누르기는 비슷한 운동이기 때문에 둘 중 하나만 하는데 코어 근육과 다리 발달에 더 도움이 되는 스쿼트를 더 우선시한다고 말했습니다. 스쿼트는 보통 10에서 12회를 무리 없이 할 수 있으면 한 세트로 하며 가벼운 무게에서 시작하는데 메인 세트 무게가 도달되면 그때부터 세트를 시작한다고 이야기했습니다. 그리고 최근 가슴 운동은 플레이트 머신을 적극적으로 이용하는 중인데 플레이트 머신을 이용해 운동하면 더 안전하고 자극에 집중하기 편하다고 이야기했습니다. 그리고 프리웨이트를 메인으로 하고 보조 운동으로 부족한 부분을 보완하는 게 좋다고 이야기했습니다.'"
      ]
     },
     "execution_count": 31,
     "metadata": {},
     "output_type": "execute_result"
    }
   ],
   "source": [
    "train_df['output'].iloc[495]"
   ]
  },
  {
   "cell_type": "markdown",
   "metadata": {},
   "source": [
    "- 3개인 경우"
   ]
  },
  {
   "cell_type": "code",
   "execution_count": 192,
   "metadata": {},
   "outputs": [
    {
     "name": "stdout",
     "output_type": "stream",
     "text": [
      "[361] ['SD2100485는', 'SD2100486에게', 'SD2100486은', 'SD2100486은', 'SD2100485가']\n",
      "[380] ['SD2100494는', 'SD2100494는', 'SD2100493은']\n",
      "[383] ['SD2100494는', 'SD2100494는', 'SD2100493은']\n",
      "[384] ['SD2100496은', 'SD2100495는', 'SD2100495는']\n",
      "[389] ['SD2100498은', 'SD2100497에게', 'SD2100498은', 'SD2100497의', 'SD2100497은']\n",
      "[398] ['SD2100502는', 'SD2100501에게', 'SD2100502는', 'SD2100501은']\n",
      "[399] ['SD2100502는', 'SD2100501에게', 'SD2100502는', 'SD2100501은']\n",
      "[408] ['SD2100516은', 'SD2100516는', 'SD2100515에게', 'SD2100515는']\n",
      "[413] ['SD2100517은', 'SD2100518에게', 'SD2100518에게', 'SD2100517은', 'SD2100518은', 'SD2100517에게']\n",
      "[419] ['SD2100528은', 'SD2100527에게', 'SD2100528은', 'SD2100528이', 'SD2100527은', 'SD2100527이', 'SD2100528에게']\n",
      "[421] ['SD2100528은', 'SD2100528은', 'SD2100527은']\n",
      "[423] ['SD2100530은', 'SD2100530은', 'SD2100529는']\n",
      "[425] ['SD2100531은', 'SD2100531은', 'SD2100532는', 'SD2100531에', 'SD2100531에게', 'SD2100531이']\n",
      "[430] ['SD2100541은', 'SD2100542에게', 'SD2100541은', 'SD2100542는']\n",
      "[438] ['SD2110545는', 'SD2110545는', 'SD2100546은']\n",
      "[459] ['SD2100561은', 'SD2100562는', 'SD2100562는']\n",
      "[486] ['SD2100583은', 'SD2100584에게', 'SD2100583은', 'SD2100584는', 'SD2100583에게']\n"
     ]
    }
   ],
   "source": [
    "for o in train_df[train_df['headers'].apply(lambda x : len(x) == 3)]['output'].apply(lambda x : re.findall(r'SD\\d{7}\\w*', x)).index:\n",
    "    print(f'[{o}]', re.findall(r'SD\\d{7}\\w*', train_df.iloc[o]['output']))"
   ]
  },
  {
   "cell_type": "code",
   "execution_count": 71,
   "metadata": {},
   "outputs": [
    {
     "data": {
      "text/plain": [
       "'두 화자는 이 대화에서 건강과 다이어트에 대해 이야기했습니다. SD2100496은 다이어트에 관심이 많지만 소식이 어려운 것 같다며 유산균같은 것을 챙겨먹지만 큰 효과는 없다고 말했습니다. 머리카락도 빠져서 콜라겐이나 맥주 효모도 챙겨먹고 있지만 큰 차이를 못 느끼겠다며 사람들에게 어떻게 관리하는지 묻게 된다고 말했습니다. 옛말에 머리숱이 많은 사람이 오래 산다는 말이 있는데 본인도 좀 건강하고 오래 살았으면 좋겠다며 노화가 남들보다 빨리 온 것 같아서 갱년기 약을 먹어야 하는데 다른 약을 많이 먹어야 해서 근육은 빠지고 지방만 생기는 것 같다고 말했습니다. 요즘은 남편과 자전거를 타는데 추워져서 헬스를 끊었다고 덧붙였으며 아픈 사람들은 더 운동에 신경써야 한다며 운동을 안하면 너무 피곤한데 남편과 같이 걷기 운동을 다니니 즐겁게 다닐 수 있다고 말했습니다. 또 저녁을 가급적이면 안 먹으려고 한다고 말했습니다. SD2100495는 요즘 갱년기가 다가와서 다이어트를 하는 중이라며 젊었을 적과 비교했을 때 기초대사량도 떨어져서 소식을 하면서 운동을 병행해야 한다고 말했습니다. 한편 탈모는 자연스러운 현상이지만 예방을 위해서는 검은 깨나 콩을 먹고 마사지 하는 사람도 있다며 아무것도 안 하는 것보다는 꾸준히 지금 기울이는 노력을 유지할 필요가 있다고 말했습니다. 또 건강 관리를 잘 하고 스트레스를 안 받는 게 가장 중요한 것 같다고 강조했습니다. 요즘 SD2100495는 운동은 아예 안하고 많이 걸으려고 하고 있다며 저녁을 적게 먹으려고 하고 있는데 먹는 걸 좋아해서 조절이 안 된다고 말한 한편 아침에 미지근한 물 한 잔 마시는 게 좋다고 들었다고 상대방에게 추천했습니다.'"
      ]
     },
     "execution_count": 71,
     "metadata": {},
     "output_type": "execute_result"
    }
   ],
   "source": [
    "train_df['output'].iloc[384]"
   ]
  },
  {
   "cell_type": "markdown",
   "metadata": {},
   "source": [
    "- 4개인 경우"
   ]
  },
  {
   "cell_type": "code",
   "execution_count": 197,
   "metadata": {},
   "outputs": [
    {
     "data": {
      "text/plain": [
       "['SD2100524는',\n",
       " 'SD2110523에게',\n",
       " 'SD2100524는',\n",
       " 'SD2110523가',\n",
       " 'SD2100524는',\n",
       " 'SD2110523은']"
      ]
     },
     "execution_count": 197,
     "metadata": {},
     "output_type": "execute_result"
    }
   ],
   "source": [
    "train_df[train_df['headers'].apply(lambda x : len(x) == 4)]['output'].apply(lambda x : re.findall(r'SD\\d{7}\\w*', x)).iloc[0]"
   ]
  },
  {
   "cell_type": "markdown",
   "metadata": {},
   "source": [
    "<br/>\n",
    "\n",
    "<br/>"
   ]
  },
  {
   "cell_type": "markdown",
   "metadata": {},
   "source": [
    "## Speaker 별 예약문 분류 기준 \n",
    "\n",
    "### [TRAIN] output 속 \"SD{7}[은는]{1}이 총 (506개)에서\n",
    "\n",
    "- **2개인 경우 (476개)**\n",
    "    \n",
    "    => 서로 다른 \"SD{7}[은는]{1}\"을 각 speaker의 요약문 시작 단어로 간주\n",
    "\n",
    "- **0개인 경우 (5개)**\n",
    "    - [286] SD2002510의, SD2002511의 \n",
    "\n",
    "    - [287] SD2002510의, SD2002511의\n",
    "    \n",
    "    - [402] SD2100509가, SD2100510이\n",
    "\n",
    "    - [403] SD2100509의, SD2100510의\n",
    "\n",
    "    - [457] `SD2100562의`, `SD2100561의`, SD2100562의\n",
    "    \n",
    "    <br/>\n",
    "    \n",
    "    => 서로 다른 \"SD{7}\\w+\"를 각 speaker의 요약문 시작 단어로 간주\n",
    "\n",
    "    <br/>\n",
    "    \n",
    "- **1개인 경우 (7개)**\n",
    "    - [26] SD2000869는, SD2000870의\n",
    "    - [30] SD2000873은, SD2000874의\n",
    "    - [150] SD2001230은, SD2001229도\n",
    "    - [184] SD2001369는, SD2001368의\n",
    "    - [242] SD2002059는, SD2002060도\n",
    "    - [464] SD2100567은, SD2100568도\n",
    "    - [475] SD2110574는, SD2100573도\\\n",
    "    ~~[495] SD2100589가, SD2100590에게, SD2100590은  # 가 -> 는~~\\\n",
    "\n",
    "    <br/>\n",
    "\n",
    "    => 서로 다른 \"SD{7}\\w+\"를 각 speaker의 요약문 시작 단어로 간주\n",
    "    \n",
    "    <br/>\n",
    "\n",
    "- **3개인 경우 (17개)** \n",
    "    - [361] [`'SD2100485는'`, 'SD2100486에게', `'SD2100486은'`, 'SD2100486은', 'SD2100485가']\n",
    "\n",
    "    - [380] [`'SD2100494는'`, 'SD2100494는', `'SD2100493은'`]\n",
    "\n",
    "    - [383] [`'SD2100494는'`, 'SD2100494는', `'SD2100493은'`]\n",
    "\n",
    "    - [384] [`'SD2100496은'`, `'SD2100495는'`, 'SD2100495는']\n",
    "\n",
    "\n",
    "    - [389] [`'SD2100498은'`, 'SD2100497에게', 'SD2100498은', 'SD2100497의', `'SD2100497은'`]\n",
    "    - [398] [`'SD2100502는'`, 'SD2100501에게', 'SD2100502는', `'SD2100501은'`]\n",
    "    - [399] [`'SD2100502는'`, 'SD2100501에게', 'SD2100502는', `'SD2100501은'`]\n",
    "    - [408] [`'SD2100516은'`, 'SD2100516는', 'SD2100515에게', `'SD2100515는'`]\n",
    "    - [413] [`'SD2100517은'`, 'SD2100518에게', 'SD2100518에게', 'SD2100517은', `'SD2100518은'`, 'SD2100517에게']\n",
    "    - [419] [`'SD2100528은'`, 'SD2100527에게', 'SD2100528은', 'SD2100528이', `'SD2100527은'`, 'SD2100527이', 'SD2100528에게']\n",
    "    - [421] [`'SD2100528은'`, 'SD2100528은', `'SD2100527은'`]\n",
    "    - [423] [`'SD2100530은'`, 'SD2100530은', `'SD2100529는'`]\n",
    "    - [425] [`'SD2100531은'`, 'SD2100531은', `'SD2100532는'`, 'SD2100531에', 'SD2100531에게', 'SD2100531이']\n",
    "    - [430] [`'SD2100541은'`, 'SD2100542에게', 'SD2100541은', `'SD2100542는'`]\n",
    "    - [438] [`'SD2110545는'`, 'SD2110545는', `'SD2100546은'`]\n",
    "    - [459] [`'SD2100561은'`, `'SD2100562는'`, 'SD2100562는']\n",
    "    - [486] [`'SD2100583은'`, 'SD2100584에게', 'SD2100583은', `'SD2100584는'`, 'SD2100583에게']\n",
    "\n",
    "    <br/>\n",
    "\n",
    "    => 가장 먼저 선택되는 서로 다른 \"SD{7}[은는]{1}\"을 speaker의 요약문 시작 단어로 간주\n",
    "\n",
    "    <br/>\n",
    "\n",
    "\n",
    "- **4개인 경우 (1개)**\n",
    "    - [414] [`'SD2100524는'`, 'SD2110523에게', 'SD2100524는', 'SD2110523가', 'SD2100524는',`'SD2110523은'`]\n",
    "\n",
    "    <br/>\n",
    "    \n",
    "    => 가장 먼저 선택되는 서로 다른 \"SD{7}[은는]{1}\"을 speaker의 요약문 시작 단어로 간주"
   ]
  },
  {
   "cell_type": "markdown",
   "metadata": {},
   "source": [
    "### [DEV] output 속 \"SD{7}[은는]{1}이 등장하는 개수가 총 (102개)에서\n",
    "\n",
    "- **2개인 경우 (100개)**\n",
    "\n",
    "- **1개인 경우 (1개)**\n",
    "    - [45] [`SD2000786의`, `SD2000788은`]\n",
    "\n",
    "- **3개인 경우 (1개)**\n",
    "    - [92] [`SD2000862는`, SD2000862는, `SD2000863은`]"
   ]
  },
  {
   "cell_type": "markdown",
   "metadata": {},
   "source": [
    "<br/>\n",
    "\n",
    "<br/>"
   ]
  },
  {
   "cell_type": "markdown",
   "metadata": {},
   "source": [
    "## output 형태 고정\n",
    "```\n",
    "## 전반적인 요약\n",
    "{output 첫번째 문장} + \n",
    "\n",
    "{예외}\n",
    "[train]\n",
    "59                               두 화자 모두 네 가족이라고 이야기했습니다\n",
    "63              두 화자 모두 학교 다닐 때 친구들과의 관계에서 힘들었다고 이야기했습니다\n",
    "261                두 화자 모두 형제와 친하거나 마음을 터 놓지는 않는다고 말했습니다\n",
    "475     두 화자는 오후 3시 비행기를 타고 제주도에 도착해 저녁을 먹고 다음 날 엄마가 ...\n",
    "\n",
    "## {speaker 1} 요약\n",
    "{speaker 1 요약 문장들}\n",
    "\n",
    "## {speaker 2} 요약\n",
    "{speaker 2 요약 문장들}\n",
    "\n",
    "```"
   ]
  },
  {
   "cell_type": "code",
   "execution_count": 10,
   "metadata": {},
   "outputs": [],
   "source": [
    "def split_structured_summary(df: pd.DataFrame) -> pd.DataFrame:\n",
    "    \"\"\"\n",
    "    Split the structured summary into multiple summaries.\n",
    "\n",
    "    Parameters:\n",
    "    df (pd.DataFrame): DataFrame of the data.\n",
    "\n",
    "    Returns:\n",
    "    pd.DataFrame: DataFrame with the structured summary split into multiple summaries.\n",
    "    \"\"\"\n",
    "    df = deepcopy(df)\n",
    "\n",
    "    # Split the structured summary into multiple summaries\n",
    "    def find_split_indexes(text: str) -> list[tuple]:\n",
    "        \"\"\"\n",
    "        Find the indexes(strat, end) to split the structured summary.\n",
    "        \"\"\"\n",
    "        # The number of 'SD{7}[은는]{1}'\n",
    "        num_speakers = len(re.findall(r'SD\\d{7}[은는]{1}', text))\n",
    "\n",
    "        # Split the structured summary based on the number of 'SD{7}[은는]{1}'\n",
    "        if num_speakers == 2: \n",
    "            mathes = re.finditer(r'SD\\d{7}[은는]{1}', text)\n",
    "            return [(match.group(), match.start()) for match in mathes] # [(speaker1, start_id_1), (speaker2, start_id_2)]\n",
    "        \n",
    "        elif num_speakers == 0:\n",
    "            matches = re.finditer(r'SD\\d{7}\\w+', text)\n",
    "\n",
    "            first_match = next(matches)\n",
    "            first_tuple = (first_match.start(), first_match.group())\n",
    "\n",
    "            for match in matches:\n",
    "                if match.group()[:9] == first_tuple[1][:9]: # SD{7}가 같은 경우\n",
    "                    continue\n",
    "                return [(first_tuple[1], first_tuple[0]), (match.group(), match.start())]\n",
    "            \n",
    "        elif num_speakers == 1:\n",
    "            matches = re.finditer(r'SD\\d{7}\\w+', text)\n",
    "\n",
    "            first_match = next(matches)\n",
    "            first_tuple = (first_match.start(), first_match.group())\n",
    "\n",
    "            for match in matches:\n",
    "                if match.group()[:9] == first_tuple[1][:9]: # SD{7}가 같은 경우\n",
    "                    continue\n",
    "                return [(first_tuple[1], first_tuple[0]), (match.group(), match.start())]\n",
    "            \n",
    "        elif num_speakers == 3:\n",
    "            matches = re.finditer(r'SD\\d{7}[은는]{1}', text)\n",
    "\n",
    "            first_match = next(matches)\n",
    "            first_tuple = (first_match.start(), first_match.group())\n",
    "\n",
    "            for match in matches:\n",
    "                if match.group()[:9] == first_tuple[1][:9]: # SD{7}가 같은 경우\n",
    "                    continue\n",
    "                return [(first_tuple[1], first_tuple[0]), (match.group(), match.start())]\n",
    "        \n",
    "        elif num_speakers == 4:\n",
    "            matches = re.finditer(r'SD\\d{7}[은는]{1}', text)\n",
    "\n",
    "            first_match = next(matches)\n",
    "            first_tuple = (first_match.start(), first_match.group())\n",
    "\n",
    "            for match in matches:\n",
    "                if match.group()[:9] == first_tuple[1][:9]: # SD{7}가 같은 경우\n",
    "                    continue\n",
    "                return [(first_tuple[1], first_tuple[0]), (match.group(), match.start())]\n",
    "\n",
    "\n",
    "    # Find the indexes to split the structured summary\n",
    "    df['split_indexes'] = df['output'].apply(find_split_indexes)\n",
    "\n",
    "    # Split the structured summary into multiple summaries\n",
    "    df['total_summary'] = df.apply(lambda row : row['output'][:row['split_indexes'][0][1]].strip(), axis = 1)\n",
    "    df['summary1'] = df.apply(lambda row : row['output'][row['split_indexes'][0][1]:row['split_indexes'][1][1]].strip(), axis = 1)\n",
    "    df['summary2'] = df.apply(lambda row : row['output'][row['split_indexes'][1][1]:].strip(), axis = 1)\n",
    "\n",
    "    return df"
   ]
  },
  {
   "cell_type": "code",
   "execution_count": 8,
   "metadata": {},
   "outputs": [],
   "source": [
    "data = json.load(open('./train.json'))\n",
    "path = 'train.json'"
   ]
  },
  {
   "cell_type": "code",
   "execution_count": 15,
   "metadata": {},
   "outputs": [],
   "source": [
    "# speaker summary generalization\n",
    "def speaker_summary_generalization(data:json, path:str):\n",
    "    \"\"\"\n",
    "    Standardize the format of the speaker summary in the first sentence of the output \n",
    "    to start with \"SD\\d{7}은(는)\".\n",
    "    \"\"\"\n",
    "    if 'train' in path:\n",
    "        # exception handling \"SD2100589가\" -> \"SD2100589는\"\n",
    "        data[495]['output'] = data[495]['output'].replace('SD2100589가', 'SD2100589는')\n",
    "    \n",
    "\n",
    "    def find_split_indexes(text: str) -> list[tuple]:\n",
    "        \"\"\"\n",
    "        Find the indexes(strat, end) to split the structured summary.\n",
    "        \"\"\"\n",
    "        # The number of 'SD{7}[은는]{1}'\n",
    "        num_speakers = len(re.findall(r'SD\\d{7}[은는]{1}', text))\n",
    "\n",
    "        # Split the structured summary based on the number of 'SD{7}[은는]{1}'\n",
    "        if num_speakers == 2: \n",
    "            mathes = re.finditer(r'SD\\d{7}[은는]{1}', text)\n",
    "            return [(match.group(), match.start()) for match in mathes] # [(speaker1, start_id_1), (speaker2, start_id_2)]\n",
    "        \n",
    "        elif num_speakers == 0:\n",
    "            matches = re.finditer(r'SD\\d{7}\\w+', text)\n",
    "\n",
    "            first_match = next(matches)\n",
    "            first_tuple = (first_match.start(), first_match.group())\n",
    "\n",
    "            for match in matches:\n",
    "                if match.group()[:9] == first_tuple[1][:9]: # SD{7}가 같은 경우\n",
    "                    continue\n",
    "                return [(first_tuple[1], first_tuple[0]), (match.group(), match.start())]\n",
    "            \n",
    "        elif num_speakers == 1:\n",
    "            matches = re.finditer(r'SD\\d{7}\\w+', text)\n",
    "\n",
    "            first_match = next(matches)\n",
    "            first_tuple = (first_match.start(), first_match.group())\n",
    "\n",
    "            for match in matches:\n",
    "                if match.group()[:9] == first_tuple[1][:9]: # SD{7}가 같은 경우\n",
    "                    continue\n",
    "                return [(first_tuple[1], first_tuple[0]), (match.group(), match.start())]\n",
    "            \n",
    "        elif num_speakers == 3:\n",
    "            matches = re.finditer(r'SD\\d{7}[은는]{1}', text)\n",
    "\n",
    "            first_match = next(matches)\n",
    "            first_tuple = (first_match.start(), first_match.group())\n",
    "\n",
    "            for match in matches:\n",
    "                if match.group()[:9] == first_tuple[1][:9]: # SD{7}가 같은 경우\n",
    "                    continue\n",
    "                return [(first_tuple[1], first_tuple[0]), (match.group(), match.start())]\n",
    "        \n",
    "        elif num_speakers == 4:\n",
    "            matches = re.finditer(r'SD\\d{7}[은는]{1}', text)\n",
    "\n",
    "            first_match = next(matches)\n",
    "            first_tuple = (first_match.start(), first_match.group())\n",
    "\n",
    "            for match in matches:\n",
    "                if match.group()[:9] == first_tuple[1][:9]: # SD{7}가 같은 경우\n",
    "                    continue\n",
    "                return [(first_tuple[1], first_tuple[0]), (match.group(), match.start())]\n",
    "\n",
    "\n",
    "    if 'train' or 'dev' in path:\n",
    "        for example in data:\n",
    "            output = example['output']\n",
    "\n",
    "            # Find the indexes to split the structured summary\n",
    "            split_indexes = find_split_indexes(output) # [(r'speaker1\\w+', start_id_1), (r'speaker2\\w+', start_id_2)]\n",
    "            speaker_1, speaker_2 = split_indexes[0][0][:9], split_indexes[1][0][:9] # SD{7}\n",
    "\n",
    "            # Split the structured summary\n",
    "            total_summary = output[:split_indexes[0][1]].strip()\n",
    "            speaker_1_summary = output[split_indexes[0][1]:split_indexes[1][1]].strip()\n",
    "            speaker_2_summary = output[split_indexes[1][1]:].strip()\n",
    "\n",
    "            # Standardize the format of the speaker summary\n",
    "\n",
    "\n",
    "            output_format = f'## 전반적인 요약\\n{total_summary}\\n\\n## {speaker_1} 요약\\n{speaker_1_summary}\\n\\n## {speaker_2} 요약\\n{speaker_2_summary}'\n",
    "            \n",
    "            example['output'] = output_format\n",
    "\n",
    "            break\n",
    "\n",
    "\n",
    "    return data"
   ]
  },
  {
   "cell_type": "code",
   "execution_count": 16,
   "metadata": {},
   "outputs": [],
   "source": [
    "sample = speaker_summary_generalization(data, path)[0]"
   ]
  },
  {
   "cell_type": "code",
   "execution_count": 17,
   "metadata": {},
   "outputs": [
    {
     "data": {
      "text/plain": [
       "'## 전반적인 요약\\n## 전반적인 요약\\n두 화자는 이 대화에서 좋았던 여행지와 기억나는 주요 명소에 대해 이야기했습니다.\\n\\n## SD2000001 요약\\n\\n## SD2000001 요약\\nSD2000001은 여행을 좋아하여 국내, 해외 여행을 많이 다녔다고 말했습니다. 특히 기억에 남는 여행지로 스페인 마드리드의 톨레도를 소개했습니다. 그 중 화려하게 꾸며진 대성당과 디저트가 인상적이었다고 이야기했습니다.\\n\\n## SD2000002 요약\\n\\n## SD2000002 요약\\nSD2000002는 대학교에 진학한 후 해외여행을 자주 다녔고, 스페인과 포루투갈이 가장 기억에 남는 여행지라고 말했습니다. 그리고 톨레도도 다녀왔지만 날씨가 더워서 제대로 구경하지 못했다는 경험을 이야기했습니다.'"
      ]
     },
     "execution_count": 17,
     "metadata": {},
     "output_type": "execute_result"
    }
   ],
   "source": [
    "sample['output']"
   ]
  },
  {
   "cell_type": "code",
   "execution_count": null,
   "metadata": {},
   "outputs": [],
   "source": []
  },
  {
   "cell_type": "code",
   "execution_count": 11,
   "metadata": {},
   "outputs": [],
   "source": [
    "structured_train_df = split_structured_summary(train_df)"
   ]
  },
  {
   "cell_type": "code",
   "execution_count": 12,
   "metadata": {},
   "outputs": [
    {
     "data": {
      "text/html": [
       "<div>\n",
       "<style scoped>\n",
       "    .dataframe tbody tr th:only-of-type {\n",
       "        vertical-align: middle;\n",
       "    }\n",
       "\n",
       "    .dataframe tbody tr th {\n",
       "        vertical-align: top;\n",
       "    }\n",
       "\n",
       "    .dataframe thead th {\n",
       "        text-align: right;\n",
       "    }\n",
       "</style>\n",
       "<table border=\"1\" class=\"dataframe\">\n",
       "  <thead>\n",
       "    <tr style=\"text-align: right;\">\n",
       "      <th></th>\n",
       "      <th>id</th>\n",
       "      <th>conversation</th>\n",
       "      <th>subject_keyword</th>\n",
       "      <th>speakers</th>\n",
       "      <th>output</th>\n",
       "      <th>num_utterances_per_speaker</th>\n",
       "      <th>first_speaker</th>\n",
       "      <th>first_speaker_summary</th>\n",
       "      <th>split_indexes</th>\n",
       "      <th>total_summary</th>\n",
       "      <th>summary1</th>\n",
       "      <th>summary2</th>\n",
       "    </tr>\n",
       "  </thead>\n",
       "  <tbody>\n",
       "    <tr>\n",
       "      <th>0</th>\n",
       "      <td>nikluge-2024-일상 대화 요약-train-000001</td>\n",
       "      <td>[{'speaker': 'SD2000001', 'utterance': '저는 여행 ...</td>\n",
       "      <td>[해외여행]</td>\n",
       "      <td>[SD2000002, SD2000001]</td>\n",
       "      <td>## 전반적인 요약\\n두 화자는 이 대화에서 좋았던 여행지와 기억나는 주요 명소에 ...</td>\n",
       "      <td>{'SD2000002': 8, 'SD2000001': 6}</td>\n",
       "      <td>SD2000001</td>\n",
       "      <td>[SD2000001, SD2000001]</td>\n",
       "      <td>[(SD2000001은, 74), (SD2000002는, 215)]</td>\n",
       "      <td>## 전반적인 요약\\n두 화자는 이 대화에서 좋았던 여행지와 기억나는 주요 명소에 ...</td>\n",
       "      <td>SD2000001은 여행을 좋아하여 국내, 해외 여행을 많이 다녔다고 말했습니다. ...</td>\n",
       "      <td>SD2000002는 대학교에 진학한 후 해외여행을 자주 다녔고, 스페인과 포루투갈이...</td>\n",
       "    </tr>\n",
       "  </tbody>\n",
       "</table>\n",
       "</div>"
      ],
      "text/plain": [
       "                                   id  \\\n",
       "0  nikluge-2024-일상 대화 요약-train-000001   \n",
       "\n",
       "                                        conversation subject_keyword  \\\n",
       "0  [{'speaker': 'SD2000001', 'utterance': '저는 여행 ...          [해외여행]   \n",
       "\n",
       "                 speakers                                             output  \\\n",
       "0  [SD2000002, SD2000001]  ## 전반적인 요약\\n두 화자는 이 대화에서 좋았던 여행지와 기억나는 주요 명소에 ...   \n",
       "\n",
       "         num_utterances_per_speaker first_speaker   first_speaker_summary  \\\n",
       "0  {'SD2000002': 8, 'SD2000001': 6}     SD2000001  [SD2000001, SD2000001]   \n",
       "\n",
       "                           split_indexes  \\\n",
       "0  [(SD2000001은, 74), (SD2000002는, 215)]   \n",
       "\n",
       "                                       total_summary  \\\n",
       "0  ## 전반적인 요약\\n두 화자는 이 대화에서 좋았던 여행지와 기억나는 주요 명소에 ...   \n",
       "\n",
       "                                            summary1  \\\n",
       "0  SD2000001은 여행을 좋아하여 국내, 해외 여행을 많이 다녔다고 말했습니다. ...   \n",
       "\n",
       "                                            summary2  \n",
       "0  SD2000002는 대학교에 진학한 후 해외여행을 자주 다녔고, 스페인과 포루투갈이...  "
      ]
     },
     "execution_count": 12,
     "metadata": {},
     "output_type": "execute_result"
    }
   ],
   "source": [
    "structured_train_df.head(1)"
   ]
  },
  {
   "cell_type": "markdown",
   "metadata": {},
   "source": [
    "# speaker 별 발화 길이에 따른 speaker summary 길이 비율 확인"
   ]
  },
  {
   "cell_type": "code",
   "execution_count": 122,
   "metadata": {},
   "outputs": [],
   "source": [
    "# first_speaker가 first_speaker_summary와 같은 경우와 그렇지 않은 경우에 따른 speaker summary length 분포 비교\n",
    "def compare_speaker_summary_distribution(df: pd.DataFrame) -> None:\n",
    "    \"\"\"\n",
    "    Compare the distribution of the speaker summary length based on whether the first speaker in the conversation\n",
    "    and the first speaker in the speaker summary are the same.\n",
    "\n",
    "    Parameters:\n",
    "    df (pd.DataFrame): DataFrame of the data.\n",
    "    \"\"\"\n",
    "    df = deepcopy(df)\n",
    "\n",
    "    # Get the length of the speaker summary\n",
    "    df['total_summary_length'] = df['output'].apply(lambda x: len(x.split()))\n",
    "    df['summary1_length'] = df['summary1'].apply(lambda x: len(x.split()))\n",
    "    df['summary2_length'] = df['summary2'].apply(lambda x: len(x.split()))\n",
    "\n",
    "    # Compare the distribution of the speaker summary length\n",
    "    same_speaker = df[df.apply(compare_speaker, axis = 1)]\n",
    "    different_speaker = df[~df.apply(compare_speaker, axis = 1)]\n",
    "\n",
    "    # Plot the distribution of the speaker summary length with scatter plot\n",
    "    plt.figure(figsize=(10, 6))\n",
    "    sns.scatterplot(data=same_speaker, x='total_summary_length', y='summary1_length', label='Same Speaker', alpha=0.5)\n",
    "    sns.scatterplot(data=different_speaker, x='total_summary_length', y='summary1_length', label='Different Speaker', alpha=0.5)\n",
    "    plt.title('Comparison of Speaker Summary Length')\n",
    "    plt.xlabel('Total Summary Length')\n",
    "    plt.ylabel('Summary1 Length')\n",
    "    plt.legend()\n",
    "    plt.show()\n",
    "\n",
    "    # Plot the distribution of the speaker summary length with scatter plot\n",
    "    plt.figure(figsize=(10, 6))\n",
    "    sns.scatterplot(data=same_speaker, x='total_summary_length', y='summary2_length', label='Same Speaker', alpha=0.5)\n",
    "    sns.scatterplot(data=different_speaker, x='total_summary_length', y='summary2_length', label='Different Speaker', alpha=0.5)\n",
    "    plt.title('Comparison of Speaker Summary Length')\n",
    "    plt.xlabel('Total Summary Length')\n",
    "    plt.ylabel('Summary2 Length')\n",
    "    plt.legend()\n",
    "    plt.show()\n",
    "\n",
    "    # Plot the distribution of the speaker summary length with scatter plot\n",
    "    plt.figure(figsize=(10, 6))\n",
    "    sns.scatterplot(data=same_speaker, x='summary1_length', y='summary2_length', label='Same Speaker', alpha=0.5)\n",
    "    sns.scatterplot(data=different_speaker, x='summary1_length', y='summary2_length', label='Different Speaker', alpha=0.5)\n",
    "    plt.title('Comparison of Speaker Summary Length')\n",
    "    plt.xlabel('Summary1 Length')\n",
    "    plt.ylabel('Summary2 Length')\n",
    "    plt.legend()\n",
    "    plt.show()"
   ]
  },
  {
   "cell_type": "code",
   "execution_count": 124,
   "metadata": {},
   "outputs": [],
   "source": [
    "# compare_speaker_summary_distribution(structured_train_df)"
   ]
  },
  {
   "cell_type": "code",
   "execution_count": 32,
   "metadata": {},
   "outputs": [],
   "source": [
    "# speaker 별 발화 (개수 혹은 길이)에 따른 speaker summary 길이 비율 확인\n",
    "\n",
    "\n",
    "def visualize_speaker_summary_length(df: pd.DataFrame) -> None:\n",
    "    \"\"\"\n",
    "    Visualize the speaker summary length based on the speaker utterance length or count.\n",
    "\n",
    "    Parameters:\n",
    "    df (pd.DataFrame): DataFrame of the data.\n",
    "    \"\"\"\n",
    "    df = deepcopy(df)\n",
    "\n",
    "    # Get the number of total utterances per speaker\n",
    "    df['total_utterance_num'] = df['num_utterances_per_speaker'].apply(lambda x: sum(x.values()))\n",
    "\n",
    "    def get_speaker_summary_length(row):\n",
    "        \"\"\"\n",
    "        Get the speaker summary length based on the speaker utterance length.\n",
    "        \"\"\"\n",
    "        speaker_summary_length = defaultdict(int)\n",
    "        for turn in row['conversation']:\n",
    "            speaker_summary_length[turn['speaker']] += len(turn['utterance'])\n",
    "        return speaker_summary_length\n",
    "\n",
    "    # Get the length of utterances per speaker\n",
    "    df['length_utterances_per_speaker'] = df.apply(get_speaker_summary_length, axis=1)\n",
    "    length_utterances_for_1 = df.apply(lambda x : x['length_utterances_per_speaker'][x['summary1'][:9]], axis = 1)\n",
    "    length_utterances_for_2 = df.apply(lambda x : x['length_utterances_per_speaker'][x['summary2'][:9]], axis = 1)\n",
    "    \n",
    "\n",
    "    # Get the length of speaker summary per speaker\n",
    "    output_total_length = df['output'].apply(len)\n",
    "    output_summary1_length = df['summary1'].apply(len)\n",
    "    output_summary2_length = df['summary2'].apply(len)\n",
    "\n",
    "    # Plot the speaker summary length based on the speaker utterance length\n",
    "    plt.figure(figsize=(15, 5))\n",
    "    # sns.scatterplot(x=df['total_utterance_num'], y=output_total_length, label='Whole Summary')\n",
    "    sns.scatterplot(x=length_utterances_for_1, y=output_summary1_length, label='Summary1')\n",
    "    sns.scatterplot(x=length_utterances_for_2, y=output_summary2_length, label='Summary2')\n",
    "    # sns.scatterplot(x=length_utterances_for_1, y=length_utterances_for_2, label='utterance ratio')\n",
    "    # sns.scatterplot(x=output_summary1_length, y=output_summary2_length, label='Summary1 vs Summary2')\n",
    "\n",
    "    # plt.xlim(0, 4500)\n",
    "    plt.xlabel('Speaker Utterance Length')\n",
    "    plt.ylabel('Speaker Summary Length')\n",
    "    plt.title('Speaker Summary Length based on Speaker Utterance Length')\n",
    "    plt.legend()\n",
    "    plt.show()"
   ]
  },
  {
   "cell_type": "code",
   "execution_count": 33,
   "metadata": {},
   "outputs": [
    {
     "data": {
      "image/png": "[encoded data removed]",
      "text/plain": [
       "<Figure size 1500x500 with 1 Axes>"
      ]
     },
     "metadata": {},
     "output_type": "display_data"
    }
   ],
   "source": [
    "visualize_speaker_summary_length(structured_train_df)"
   ]
  },
  {
   "cell_type": "code",
   "execution_count": 200,
   "metadata": {},
   "outputs": [
    {
     "data": {
      "image/png": "[encoded data removed]",
      "text/plain": [
       "<Figure size 1500x500 with 1 Axes>"
      ]
     },
     "metadata": {},
     "output_type": "display_data"
    }
   ],
   "source": [
    "structured_dev_df = split_structured_summary(dev_df)\n",
    "visualize_speaker_summary_length(structured_dev_df)"
   ]
  },
  {
   "cell_type": "markdown",
   "metadata": {},
   "source": [
    "<br/>\n",
    "\n",
    "<br/>"
   ]
  },
  {
   "cell_type": "markdown",
   "metadata": {},
   "source": [
    "## comma의 역할 파악"
   ]
  },
  {
   "cell_type": "code",
   "execution_count": 69,
   "metadata": {},
   "outputs": [],
   "source": [
    "def get_comma_word(df: pd.DataFrame):\n",
    "    \"\"\"\n",
    "    Get the number of utterances per speaker in the DataFrame.\n",
    "\n",
    "    Parameters:\n",
    "    df (pd.DataFrame): DataFrame of the data.\n",
    "    \"\"\"\n",
    "    df = deepcopy(df)\n",
    "\n",
    "    temp = defaultdict(int)\n",
    "\n",
    "    def add_count(x):\n",
    "        for i in (re.findall(r'\\w*,', x)):\n",
    "            temp[i] += 1\n",
    "\n",
    "    df['output'].apply(add_count)\n",
    "    print(sorted(temp.items(), key = lambda x : x[1], reverse = True))\n"
   ]
  },
  {
   "cell_type": "code",
   "execution_count": 70,
   "metadata": {},
   "outputs": [
    {
     "name": "stdout",
     "output_type": "stream",
     "text": [
      "[('말했고,', 168), ('또한,', 41), ('있고,', 26), ('했고,', 16), ('같고,', 14), ('있으며,', 13), ('하고,', 12), ('있는데,', 11), ('있지만,', 10), ('또,', 8), ('싶고,', 8), ('하지만,', 7), ('좋고,', 7), ('물었고,', 7), ('없고,', 6), ('때,', 6), ('이야기했으며,', 5), ('좋아하지만,', 5), ('싶으며,', 5), ('했으며,', 5), ('좋지만,', 5), ('않지만,', 5), ('먹고,', 5), ('한편,', 5), ('좋아하고,', 4), ('추천했고,', 4), ('추억,', 4), ('했지만,', 4), ('여행지,', 4), ('싶지만,', 4), ('특히,', 4), ('없지만,', 4), ('했었고,', 4), ('편이고,', 4), ('여행,', 4), ('비타민,', 4), ('3,', 4), ('소리,', 4), ('맛있었고,', 4), ('다녔고,', 3), ('음식,', 3), ('않았고,', 3), ('2,', 3), ('엠비티아이,', 3), ('싶었지만,', 3), ('계획,', 3), ('가족이며,', 3), ('않았지만,', 3), ('다만,', 3), ('영양제,', 3), ('오일,', 3), ('생각하며,', 3), ('부산,', 3), ('갔는데,', 3), ('가고,', 3), ('인상적이었고,', 3), ('들었고,', 3), ('있었는데,', 3), ('봤고,', 3), ('하는데,', 3), ('했는데,', 3), ('꼽았고,', 3), ('것이고,', 3), ('말하며,', 3), ('강아지,', 3), ('않고,', 3), ('먹었고,', 3), ('유산균,', 3), ('말하면서,', 3), ('하면서,', 3), ('물어보았고,', 3), ('다녀왔는데,', 3), ('좋아하며,', 2), ('싶다며,', 2), ('카페,', 2), ('활동,', 2), ('이유,', 2), ('바다,', 2), ('맛있고,', 2), ('학교,', 2), ('해수욕장,', 2), ('없었고,', 2), ('여수,', 2), ('받았지만,', 2), ('하며,', 2), ('했었지만,', 2), ('많았지만,', 2), ('헬스,', 2), ('어렵고,', 2), ('됐는데,', 2), ('돈가스,', 2), ('둘,', 2), ('많은데,', 2), ('있었고,', 2), ('같은데,', 2), ('스타일,', 2), ('자격증,', 2), ('부모님,', 2), ('후,', 2), ('만족하지만,', 2), ('선수,', 2), ('언급했고,', 2), ('전문점,', 2), ('스파게티,', 2), ('말했는데,', 2), ('진로,', 2), ('커피,', 2), ('편인데,', 2), ('남고,', 2), ('달리,', 2), ('스쿼트,', 2), ('일화,', 2), ('1970,', 2), ('뮤지컬,', 2), ('같다며,', 2), ('있다며,', 2), ('나왔으며,', 2), ('봤으며,', 2), ('못했는데,', 2), ('때문에,', 2), ('하거나,', 2), ('대해,', 2), ('즐겨보고,', 2), ('성격,', 2), ('힘들고,', 2), ('일,', 2), ('이마트,', 2), ('회,', 2), ('뼈,', 2), ('치킨,', 2), ('피자,', 2), ('떡볶이,', 2), ('동물원,', 2), ('초밥,', 2), ('1,', 2), ('보고,', 2), ('같으며,', 2), ('신랑,', 2), ('털,', 2), ('제안했는데,', 2), ('많아서,', 2), ('비해,', 2), ('먹었는데,', 2), ('올렸는데,', 2), ('주스,', 2), ('내외,', 2), ('강정,', 2), ('국내,', 1), ('쇼핑하기,', 1), ('숙소,', 1), ('싫어하고,', 1), ('부탁했고,', 1), ('이용하며,', 1), ('식당,', 1), ('찻집,', 1), ('영국,', 1), ('이용하는지,', 1), ('애니메이션,', 1), ('전쟁,', 1), ('모험,', 1), ('스릴러,', 1), ('경험,', 1), ('감자채,', 1), ('목장,', 1), ('경기도,', 1), ('노르웨이,', 1), ('어땠는지,', 1), ('만들었으며,', 1), ('연어,', 1), ('새우,', 1), ('위치,', 1), ('초코쿠키,', 1), ('먹었다며,', 1), ('타르트,', 1), ('계절,', 1), ('주변,', 1), ('공원,', 1), ('섭지코지,', 1), ('비자림,', 1), ('만장굴,', 1), ('쇠소깍,', 1), ('돼지고기,', 1), ('소고기,', 1), ('딸기,', 1), ('복숭아,', 1), ('외향,', 1), ('나왔고,', 1), ('아이스크림,', 1), ('반팔,', 1), ('청바지,', 1), ('패딩,', 1), ('쑥,', 1), ('스키장,', 1), ('맨투맨,', 1), ('여수를,', 1), ('도다리,', 1), ('말했습니다,', 1), ('학급,', 1), ('학생,', 1), ('지냈었고,', 1), ('하느라,', 1), ('변화했으며,', 1), ('알았지만,', 1), ('애니어그램,', 1), ('나왔지만,', 1), ('믿으며,', 1), ('반도,', 1), ('편이며,', 1), ('괜찮지만,', 1), ('송강호,', 1), ('최민식,', 1), ('공리,', 1), ('선호하며,', 1), ('추구하며,', 1), ('결혼했으며,', 1), ('심혈관,', 1), ('뇌혈관,', 1), ('점,', 1), ('교우관계,', 1), ('풀었었는지,', 1), ('공부,', 1), ('먹었지만,', 1), ('건강식,', 1), ('어머니,', 1), ('생신,', 1), ('보내줬지만,', 1), ('고민했지만,', 1), ('올라왔지만,', 1), ('전라도,', 1), ('대구,', 1), ('없었지만,', 1), ('태풍,', 1), ('수술,', 1), ('등산,', 1), ('군산,', 1), ('임상시험,', 1), ('녹음,', 1), ('뛰기,', 1), ('테니스,', 1), ('하나,', 1), ('맞고,', 1), ('철용포,', 1), ('전망대,', 1), ('절경이었고,', 1), ('해먹고,', 1), ('운영,', 1), ('꼽았는데,', 1), ('선택했는데,', 1), ('모았는데,', 1), ('벚꽃,', 1), ('나뭇잎,', 1), ('새소리,', 1), ('날씨,', 1), ('일본,', 1), ('들었다며,', 1), ('원인이라며,', 1), ('좋았다며,', 1), ('수락하지만,', 1), ('떠오르고,', 1), ('싫어했지만,', 1), ('결과,', 1), ('외식,', 1), ('손자,', 1), ('행복하다며,', 1), ('옷,', 1), ('많다며,', 1), ('심리적,', 1), ('되었지만,', 1), ('행복,', 1), ('고마움,', 1), ('시작했고,', 1), ('사이,', 1), ('입는다,', 1), ('야방가성,', 1), ('선샤인,', 1), ('미스터리,', 1), ('추리,', 1), ('공포,', 1), ('향기,', 1), ('맹룡과강,', 1), ('사망유희,', 1), ('친구,', 1), ('보여줬고,', 1), ('배우,', 1), ('삼국지,', 1), ('천국,', 1), ('매출,', 1), ('경제적,', 1), ('엄마,', 1), ('어려웠고,', 1), ('않으며,', 1), ('모르며,', 1), ('없으며,', 1), ('들며,', 1), ('혈압,', 1), ('있는지,', 1), ('해소하는데,', 1), ('놀라웠고,', 1), ('않는지,', 1), ('채소,', 1), ('휴지,', 1), ('키웠었고,', 1), ('가지만,', 1), ('많아졌고,', 1), ('선동열,', 1), ('꽃다발,', 1), ('현금이며,', 1), ('꽃,', 1), ('않은지,', 1), ('배드민턴,', 1), ('수영,', 1), ('배웠는지,', 1), ('고마웠고,', 1), ('면,', 1), ('시부모님,', 1), ('다양한데,', 1), ('임파서블,', 1), ('부산행,', 1), ('사태,', 1), ('불쌍하지만,', 1), ('부모,', 1), ('없는데,', 1), ('운동선수,', 1), ('땄는데,', 1), ('땄고,', 1), ('군인이고,', 1), ('동생,', 1), ('사주고,', 1), ('좋아했고,', 1), ('볼링,', 1), ('음식점,', 1), ('횟집,', 1), ('찜,', 1), ('볶음,', 1), ('업무였는데,', 1), ('많지만,', 1), ('꿈이고,', 1), ('코미디,', 1), ('SF,', 1), ('봤는데,', 1), ('들고,', 1), ('당첨되어,', 1), ('일했는데,', 1), ('신문방송학과였는데,', 1), ('치고,', 1), ('스피닝,', 1), ('슬퍼서,', 1), ('키우시는데,', 1), ('자살,', 1), ('보니,', 1), ('두었고,', 1), ('그만두었고,', 1), ('쓰인다며,', 1), ('점장님,', 1), ('중요하며,', 1), ('세우며,', 1), ('목표이며,', 1), ('해장국,', 1), ('토스트,', 1), ('뿐,', 1), ('관계,', 1), ('농장,', 1), ('산책,', 1), ('언니,', 1), ('충돌,', 1), ('식성,', 1), ('갈등,', 1), ('문제,', 1), ('시간,', 1), ('기억나고,', 1), ('들었는데,', 1), ('심하고,', 1), ('성격이고,', 1), ('INFP로,', 1), ('성격이었는데,', 1), ('노력했고,', 1), ('수박,', 1), ('참외,', 1), ('부담되고,', 1), ('된다며,', 1), ('많고,', 1), ('이후,', 1), ('생각,', 1), ('탕수육,', 1), ('왔는데,', 1), ('줘보고,', 1), ('고기,', 1), ('여행과,', 1), ('통영,', 1), ('태안,', 1), ('경험과,', 1), ('쯤,', 1), ('바뀌었지만,', 1), ('운영하는데,', 1), ('괜찮았고,', 1), ('다녀보면,', 1), ('날씨였지만,', 1), ('서유럽이나,', 1), ('발리,', 1), ('유적지,', 1), ('팔굽혀펴기,', 1), ('철분제,', 1), ('영화,', 1), ('인사이드,', 1), ('포레스트,', 1), ('퍼시픽림,', 1), ('장르,', 1), ('레미제라블,', 1), ('야수,', 1), ('소녀,', 1), ('싶어,', 1), ('랩소디,', 1), ('과목,', 1), ('치위생,', 1), ('연출,', 1), ('같지만,', 1), ('다반사이며,', 1), ('거지만,', 1), ('있으니까,', 1), ('인생,', 1), ('체조,', 1), ('축구,', 1), ('의상,', 1), ('무도,', 1), ('보조제,', 1), ('야채,', 1), ('스리,', 1), ('것,', 1), ('소심하지만,', 1), ('모르겠지만,', 1), ('많으며,', 1), ('잘하지만,', 1), ('유치원,', 1), ('내려갔으며,', 1), ('혼났지만,', 1), ('전공,', 1), ('재수,', 1), ('골프,', 1), ('쪘고,', 1), ('계획이고,', 1), ('복싱,', 1), ('가슴살,', 1), ('내성적이고,', 1), ('보이는데,', 1), ('선물했는데,', 1), ('선물했고,', 1), ('드렸는데,', 1), ('선물,', 1), ('싶은데,', 1), ('보는데,', 1), ('느꼈고,', 1), ('애청자인데,', 1), ('편이라,', 1), ('부럽고,', 1), ('보지만,', 1), ('스포츠,', 1), ('다쳤는데,', 1), ('별자리,', 1), ('신뢰했지만,', 1), ('낙천적이고,', 1), ('드라마,', 1), ('프로그램,', 1), ('블럭,', 1), ('믿었고,', 1), ('일관되고,', 1), ('따랐지만,', 1), ('아씨들,', 1), ('맘스,', 1), ('밀러스,', 1), ('파우더,', 1), ('일정,', 1), ('곳,', 1), ('지역,', 1), ('맛,', 1), ('환경,', 1), ('모습,', 1), ('루테인,', 1), ('단백질,', 1), ('고양이,', 1), ('깻잎,', 1), ('파,', 1), ('들깨,', 1), ('닭발,', 1), ('오페라,', 1), ('발라드,', 1), ('열정,', 1), ('패기,', 1), ('한다며,', 1), ('왔었고,', 1), ('같았는데,', 1), ('인버스,', 1), ('궁금하고,', 1), ('재밌었고,', 1), ('재밌고,', 1), ('먹었었는데,', 1), ('했었는데,', 1), ('관리,', 1), ('말했지만,', 1), ('되지만,', 1), ('철,', 1), ('금,', 1), ('오피스텔,', 1), ('상가,', 1), ('13,', 1), ('30,', 1), ('홈플러스,', 1), ('지에스,', 1), ('갈색,', 1), ('카키색,', 1), ('볼거리,', 1), ('모니터링,', 1), ('스시집,', 1), ('곰장어,', 1), ('곱창,', 1), ('참치,', 1), ('홍삼,', 1), ('당뇨,', 1), ('양방,', 1), ('치료,', 1), ('허리,', 1), ('파김치,', 1), ('가게,', 1), ('간편식,', 1), ('오메가,', 1), ('콜라겐,', 1), ('칼슘제,', 1), ('연습,', 1), ('계란말이,', 1), ('귤,', 1), ('회무침,', 1), ('알탕,', 1), ('아욱국,', 1), ('시금치국,', 1), ('마켓컬리,', 1), ('에이치오티,', 1), ('엠씨더맥스,', 1), ('있었으며,', 1), ('실력,', 1), ('되는데,', 1), ('받지만,', 1), ('않는다며,', 1), ('않다며,', 1), ('제작,', 1), ('마케팅,', 1), ('오존,', 1), ('레드벨벳,', 1), ('유튜브,', 1), ('변진섭,', 1), ('윤상,', 1), ('에스지워너비,', 1), ('씨야,', 1), ('김광석,', 1), ('딱새우,', 1), ('날개,', 1), ('육회,', 1), ('않는데,', 1), ('없다며,', 1), ('마라탕,', 1), ('나물,', 1), ('추천해준,', 1), ('이발관,', 1), ('세탁소,', 1), ('좋으며,', 1), ('낫고,', 1), ('알아봐야겠다며,', 1), ('다르고,', 1), ('불편하다며,', 1), ('월드,', 1), ('닭,', 1), ('병원,', 1), ('토마토,', 1), ('양파,', 1), ('배정받았었고,', 1), ('그렇지만,', 1), ('좋았으며,', 1), ('개념,', 1), ('있었지만,', 1), ('배달,', 1), ('싶어졌으며,', 1), ('했으나,', 1), ('떨어졌는데,', 1), ('갈지,', 1), ('아니면,', 1), ('재밌었지만,', 1), ('봤는지,', 1), ('와닿았으며,', 1), ('매력적이며,', 1), ('배우였지만,', 1), ('생각했으며,', 1), ('거였지만,', 1), ('아르바이트였지만,', 1), ('씁쓸하며,', 1), ('같으나,', 1), ('해도,', 1), ('생각이며,', 1), ('아이티,', 1), ('광고,', 1), ('안정감,', 1), ('생각하고,', 1), ('되는지,', 1), ('하였고,', 1), ('전주,', 1), ('보령,', 1), ('병아리,', 1), ('요가,', 1), ('되고,', 1), ('삼겹살인데,', 1), ('먹어보고,', 1), ('생각했었고,', 1), ('들었었고,', 1), ('뮤직,', 1), ('썼었는데,', 1), ('떨리지만,', 1), ('지원,', 1), ('이직,', 1), ('칭찬했지만,', 1), ('지출했고,', 1), ('발,', 1), ('고생했다며,', 1), ('선호하고,', 1), ('생각나고,', 1), ('여행한다면,', 1), ('들어서,', 1), ('밀키트,', 1), ('구매하는데,', 1), ('반면,', 1), ('먹어서,', 1), ('길고,', 1), ('선호하는데,', 1), ('싫어해서,', 1), ('놀랐고,', 1), ('선호하지만,', 1), ('중요하고,', 1), ('도넛,', 1), ('뽑혔다며,', 1), ('나고,', 1), ('실험,', 1), ('가여워서,', 1), ('필요하지만,', 1), ('맏며느리인데,', 1), ('냈다며,', 1), ('번거롭지만,', 1), ('경우,', 1), ('수용하며,', 1), ('제사,', 1), ('불공평하다며,', 1), ('아이돌,', 1), ('좋아하는지,', 1), ('팬이고,', 1), ('춤,', 1), ('노래,', 1), ('아이키,', 1), ('웨이비,', 1), ('좋아하는데,', 1), ('아름다웠고,', 1), ('촬영했고,', 1), ('비슷했고,', 1), ('보았는데,', 1), ('꽃밭,', 1), ('코로나,', 1), ('설날,', 1), ('자고,', 1), ('고민이라며,', 1), ('제안하며,', 1), ('훌륭했지만,', 1), ('받았는데,', 1), ('방문해서,', 1), ('완화되면,', 1), ('보내는데,', 1), ('다녀와야,', 1), ('절친이었는데,', 1), ('공무원,', 1), ('중,', 1), ('임상,', 1), ('프로파일러,', 1), ('방지,', 1), ('오메가3,', 1), ('닭가슴살,', 1), ('프로폴리스,', 1), ('반찬들,', 1), ('탕,', 1), ('패럿,', 1), ('수달,', 1), ('뱀,', 1), ('용인,', 1), ('안성,', 1), ('제주도,', 1), ('수색동,', 1), ('대방동,', 1), ('물어보며,', 1), ('접했지만,', 1), ('참석,', 1), ('것과,', 1), ('아르바이트,', 1), ('공고,', 1), ('일자리,', 1), ('설득했지만,', 1), ('엑스텐션,', 1), ('프레스,', 1), ('운동,', 1), ('중량,', 1), ('괜찮다고생각하지만,', 1), ('프로젝트,', 1), ('중요하지만,', 1), ('곳인데,', 1), ('파스타,', 1), ('족발,', 1), ('삼겹살,', 1), ('물었으며,', 1)]\n",
      "[('말했고,', 18), ('있고,', 6), ('점,', 4), ('있으며,', 4), ('있지만,', 3), ('없고,', 3), ('하였으며,', 3), ('유산균,', 2), ('마라탕,', 2), ('블랙핑크,', 2), ('둘,', 2), ('닮았으며,', 2), ('이야기했으며,', 2), ('같고,', 2), ('중,', 2), ('또한,', 2), ('했고,', 2), ('했으며,', 2), ('말했으며,', 2), ('많은데,', 2), ('음식,', 2), ('꼽았고,', 1), ('추천했고,', 1), ('파프리카,', 1), ('좋아하고,', 1), ('떡볶이고,', 1), ('파,', 1), ('케이크,', 1), ('좋아했지만,', 1), ('칼국수,', 1), ('스포츠,', 1), ('피서,', 1), ('달리,', 1), ('생각한다며,', 1), ('당근,', 1), ('떡볶이,', 1), ('파스타,', 1), ('햄,', 1), ('돌체라떼,', 1), ('프라푸치노,', 1), ('BTS,', 1), ('1호점,', 1), ('아이유,', 1), ('유연석,', 1), ('큐,', 1), ('때문에,', 1), ('토요일,', 1), ('어게인,', 1), ('돌아왔다,', 1), ('유치하지만,', 1), ('가게,', 1), ('음식점,', 1), ('장안횟집,', 1), ('참기름,', 1), ('물고기,', 1), ('고양이,', 1), ('싫지만,', 1), ('생각하고,', 1), ('편의점,', 1), ('패스트푸드,', 1), ('않지만,', 1), ('다르지만,', 1), ('유기,', 1), ('학대,', 1), ('마개,', 1), ('입양,', 1), ('센터,', 1), ('미용,', 1), ('병원,', 1), ('할머니,', 1), ('어머니,', 1), ('갖고,', 1), ('언니,', 1), ('공부하는데,', 1), ('가거나,', 1), ('싫어서,', 1), ('밥버거,', 1), ('틀리거나,', 1), ('있어,', 1), ('생각하며,', 1), ('심했고,', 1), ('맞지만,', 1), ('공부,', 1), ('수업,', 1), ('좋았으나,', 1), ('초,', 1), ('있었고,', 1), ('가지만,', 1), ('공유하였으며,', 1), ('5세대,', 1), ('더보이즈,', 1), ('경영학과,', 1), ('은행원,', 1), ('회계사,', 1), ('첫인상,', 1), ('이상형,', 1), ('연애,', 1), ('독신,', 1), ('싶어지고,', 1), ('놀이공원,', 1), ('콘서트,', 1), ('새롭고,', 1), ('학원,', 1), ('다녀왔지만,', 1), ('박물관,', 1), ('사파리,', 1), ('캠핑,', 1), ('제주도,', 1), ('지리산,', 1), ('없이,', 1), ('편견,', 1), ('사람,', 1), ('것,', 1), ('엄마,', 1), ('바랬는데,', 1), ('프로그램,', 1), ('전지유,', 1), ('치타,', 1), ('맞추고,', 1), ('간식,', 1), ('아이돌,', 1), ('좋아했는데,', 1), ('여행,', 1), ('문화,', 1), ('제주도이기에,', 1), ('유익하기에,', 1), ('멋있고,', 1), ('많고,', 1), ('온천,', 1), ('주의점,', 1), ('방식,', 1), ('루트나,', 1), ('여권,', 1), ('바우처,', 1), ('여행이고,', 1), ('번,', 1), ('미스터트롯,', 1), ('하고,', 1), ('좋아지고,', 1), ('즐겁고,', 1), ('하며,', 1), ('배우,', 1), ('작성,', 1), ('가방,', 1), ('1,', 1), ('동아리,', 1), ('선생님,', 1), ('고,', 1), ('팔찌,', 1), ('의류,', 1), ('언행,', 1), ('운동,', 1), ('식단,', 1), ('다이어트,', 1), ('20,', 1)]\n"
     ]
    }
   ],
   "source": [
    "get_comma_word(train_df)\n",
    "get_comma_word(dev_df)"
   ]
  }
 ],
 "metadata": {
  "kernelspec": {
   "display_name": "nlp1",
   "language": "python",
   "name": "python3"
  },
  "language_info": {
   "codemirror_mode": {
    "name": "ipython",
    "version": 3
   },
   "file_extension": ".py",
   "mimetype": "text/x-python",
   "name": "python",
   "nbconvert_exporter": "python",
   "pygments_lexer": "ipython3",
   "version": "3.11.4"
  }
 },
 "nbformat": 4,
 "nbformat_minor": 2
}
